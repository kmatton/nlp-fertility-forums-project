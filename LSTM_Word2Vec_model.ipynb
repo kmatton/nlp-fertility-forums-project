{
  "nbformat": 4,
  "nbformat_minor": 0,
  "metadata": {
    "accelerator": "GPU",
    "colab": {
      "name": "NLP_Word2Vec_LMs_newest_.ipynb",
      "provenance": [],
      "collapsed_sections": [],
      "toc_visible": true
    },
    "kernelspec": {
      "display_name": "Python 3",
      "name": "python3"
    },
    "language_info": {
      "name": "python"
    }
  },
  "cells": [
    {
      "cell_type": "code",
      "metadata": {
        "colab": {
          "base_uri": "https://localhost:8080/"
        },
        "id": "9p_b8j9h91X6",
        "outputId": "73a8eb6c-7686-451b-cdce-bbb0e74d3ae9"
      },
      "source": [
        "import numpy as np\n",
        "import matplotlib.pyplot as plt\n",
        "import pandas as pd\n",
        "\n",
        "import io\n",
        "from google.colab import files\n",
        "from google.colab import files\n",
        "from google.colab import drive\n",
        "drive.mount('/content/gdrive', force_remount=True)\n"
      ],
      "execution_count": 1,
      "outputs": [
        {
          "output_type": "stream",
          "text": [
            "Mounted at /content/gdrive\n"
          ],
          "name": "stdout"
        }
      ]
    },
    {
      "cell_type": "markdown",
      "metadata": {
        "id": "70Jz2BNL-6vH"
      },
      "source": [
        "##Load any data here"
      ]
    },
    {
      "cell_type": "code",
      "metadata": {
        "id": "ENxQpb-R-dN5"
      },
      "source": [
        "infertility = pd.read_csv('gdrive/MyDrive/NLP_final_project/infertility_processed_posts.txt')\n",
        "afterloss = pd.read_csv('gdrive/MyDrive/NLP_final_project/ttcafterloss_processed_posts.txt')"
      ],
      "execution_count": 2,
      "outputs": []
    },
    {
      "cell_type": "code",
      "metadata": {
        "colab": {
          "base_uri": "https://localhost:8080/",
          "height": 621
        },
        "id": "eBmlulOlBYqn",
        "outputId": "cf53d126-de5c-4cf4-df79-971138b19188"
      },
      "source": [
        "infertility.head()"
      ],
      "execution_count": null,
      "outputs": [
        {
          "output_type": "execute_result",
          "data": {
            "text/html": [
              "<div>\n",
              "<style scoped>\n",
              "    .dataframe tbody tr th:only-of-type {\n",
              "        vertical-align: middle;\n",
              "    }\n",
              "\n",
              "    .dataframe tbody tr th {\n",
              "        vertical-align: top;\n",
              "    }\n",
              "\n",
              "    .dataframe thead th {\n",
              "        text-align: right;\n",
              "    }\n",
              "</style>\n",
              "<table border=\"1\" class=\"dataframe\">\n",
              "  <thead>\n",
              "    <tr style=\"text-align: right;\">\n",
              "      <th></th>\n",
              "      <th>Unnamed: 0</th>\n",
              "      <th>id</th>\n",
              "      <th>created_utc</th>\n",
              "      <th>author</th>\n",
              "      <th>author_fullname</th>\n",
              "      <th>author_flair_text</th>\n",
              "      <th>url</th>\n",
              "      <th>title</th>\n",
              "      <th>selftext</th>\n",
              "      <th>upvote_ratio</th>\n",
              "      <th>score</th>\n",
              "      <th>num_comments</th>\n",
              "      <th>data_split</th>\n",
              "      <th>processed_text</th>\n",
              "      <th>processed_title</th>\n",
              "    </tr>\n",
              "  </thead>\n",
              "  <tbody>\n",
              "    <tr>\n",
              "      <th>0</th>\n",
              "      <td>0</td>\n",
              "      <td>2t72mf</td>\n",
              "      <td>1.421865e+09</td>\n",
              "      <td>nhmejia</td>\n",
              "      <td>t2_ivw2a</td>\n",
              "      <td>Hard to get pregnant after a hysto.</td>\n",
              "      <td>https://www.reddit.com/r/infertility/comments/...</td>\n",
              "      <td>*TRIGGER WARNING* Not that funny...</td>\n",
              "      <td>I've been doing really well staying away from ...</td>\n",
              "      <td>0.80</td>\n",
              "      <td>8</td>\n",
              "      <td>25</td>\n",
              "      <td>val</td>\n",
              "      <td>[['I', 'be', 'do', 'really', 'well', 'stay', '...</td>\n",
              "      <td>[['trigger', 'warn', 'not', 'that', 'funny']]</td>\n",
              "    </tr>\n",
              "    <tr>\n",
              "      <th>1</th>\n",
              "      <td>1</td>\n",
              "      <td>2t6u8l</td>\n",
              "      <td>1.421862e+09</td>\n",
              "      <td>septicidal</td>\n",
              "      <td>t2_6h9ib</td>\n",
              "      <td>PCOS</td>\n",
              "      <td>https://www.reddit.com/r/infertility/comments/...</td>\n",
              "      <td>Update on planning for a new cycle</td>\n",
              "      <td>I know a bunch of people saw my update in the ...</td>\n",
              "      <td>1.00</td>\n",
              "      <td>7</td>\n",
              "      <td>8</td>\n",
              "      <td>train</td>\n",
              "      <td>[['I', 'know', 'a', 'bunch', 'of', 'people', '...</td>\n",
              "      <td>[['update', 'on', 'plan', 'for', 'a', 'new', '...</td>\n",
              "    </tr>\n",
              "    <tr>\n",
              "      <th>2</th>\n",
              "      <td>3</td>\n",
              "      <td>2t57np</td>\n",
              "      <td>1.421820e+09</td>\n",
              "      <td>PoisonRose23</td>\n",
              "      <td>t2_j2zbu</td>\n",
              "      <td>NaN</td>\n",
              "      <td>https://www.reddit.com/r/infertility/comments/...</td>\n",
              "      <td>Decision about fermara! I need advice!!!</td>\n",
              "      <td>Long post warning: So I have a decision to mak...</td>\n",
              "      <td>1.00</td>\n",
              "      <td>1</td>\n",
              "      <td>6</td>\n",
              "      <td>train</td>\n",
              "      <td>[['long', 'post', 'warn', 'so', 'I', 'have', '...</td>\n",
              "      <td>[['decision', 'about', 'fermara', 'I', 'need',...</td>\n",
              "    </tr>\n",
              "    <tr>\n",
              "      <th>3</th>\n",
              "      <td>5</td>\n",
              "      <td>2t45rt</td>\n",
              "      <td>1.421801e+09</td>\n",
              "      <td>Pamzella</td>\n",
              "      <td>t2_aifrd</td>\n",
              "      <td>41 MFI &amp; DOR 1MC mult IUIs</td>\n",
              "      <td>https://www.reddit.com/r/infertility/comments/...</td>\n",
              "      <td>\"Shared risk\" clinics</td>\n",
              "      <td>Please educate me, someone asked me about this...</td>\n",
              "      <td>1.00</td>\n",
              "      <td>7</td>\n",
              "      <td>17</td>\n",
              "      <td>train</td>\n",
              "      <td>[['please', 'educate', 'I', 'someone', 'ask', ...</td>\n",
              "      <td>[['share', 'risk', 'clinic']]</td>\n",
              "    </tr>\n",
              "    <tr>\n",
              "      <th>4</th>\n",
              "      <td>6</td>\n",
              "      <td>2t3x6r</td>\n",
              "      <td>1.421797e+09</td>\n",
              "      <td>fumbellina</td>\n",
              "      <td>t2_iibv6</td>\n",
              "      <td>NaN</td>\n",
              "      <td>https://www.reddit.com/r/infertility/comments/...</td>\n",
              "      <td>FET anxiety</td>\n",
              "      <td>My FET is scheduled for next week, and I'm fee...</td>\n",
              "      <td>0.81</td>\n",
              "      <td>3</td>\n",
              "      <td>6</td>\n",
              "      <td>train</td>\n",
              "      <td>[['my', 'fet', 'be', 'schedule', 'for', 'next'...</td>\n",
              "      <td>[['fet', 'anxiety']]</td>\n",
              "    </tr>\n",
              "  </tbody>\n",
              "</table>\n",
              "</div>"
            ],
            "text/plain": [
              "   Unnamed: 0  ...                                    processed_title\n",
              "0           0  ...      [['trigger', 'warn', 'not', 'that', 'funny']]\n",
              "1           1  ...  [['update', 'on', 'plan', 'for', 'a', 'new', '...\n",
              "2           3  ...  [['decision', 'about', 'fermara', 'I', 'need',...\n",
              "3           5  ...                      [['share', 'risk', 'clinic']]\n",
              "4           6  ...                               [['fet', 'anxiety']]\n",
              "\n",
              "[5 rows x 15 columns]"
            ]
          },
          "metadata": {
            "tags": []
          },
          "execution_count": 6
        }
      ]
    },
    {
      "cell_type": "markdown",
      "metadata": {
        "id": "lpj_kYpL-9a4"
      },
      "source": [
        "## Any data preprocessing (input and outputs)"
      ]
    },
    {
      "cell_type": "code",
      "metadata": {
        "id": "qQzuvDxC_Cor"
      },
      "source": [
        "#get training and validation sets\n",
        "\n",
        "infertility_train = infertility[infertility.data_split == 'train']\n",
        "infertility_val = infertility[infertility.data_split == 'test']\n",
        "\n",
        "afterloss_train = afterloss[afterloss.data_split == 'train']\n",
        "afterloss_val = afterloss[afterloss.data_split == 'test']"
      ],
      "execution_count": 3,
      "outputs": []
    },
    {
      "cell_type": "code",
      "metadata": {
        "id": "FDVFAqBsUyxm",
        "colab": {
          "base_uri": "https://localhost:8080/"
        },
        "outputId": "3710cb79-541e-47e8-ab4d-3dcc1235d796"
      },
      "source": [
        "# #combine infertility and train!\n",
        "print(infertility_val.shape)\n",
        "afterloss_val.shape\n",
        "# infertility_afterloss_train = pd.concat([infertility[infertility.data_split == 'train'], afterloss[afterloss.data_split == 'train'] ])\n",
        "# infertility_afterloss_val = pd.concat([infertility[infertility.data_split == 'val'],afterloss[afterloss.data_split == 'val'] ])"
      ],
      "execution_count": 98,
      "outputs": [
        {
          "output_type": "stream",
          "text": [
            "(2978, 15)\n"
          ],
          "name": "stdout"
        },
        {
          "output_type": "execute_result",
          "data": {
            "text/plain": [
              "(1483, 15)"
            ]
          },
          "metadata": {
            "tags": []
          },
          "execution_count": 98
        }
      ]
    },
    {
      "cell_type": "code",
      "metadata": {
        "colab": {
          "base_uri": "https://localhost:8080/"
        },
        "id": "gL9Opi0NQXtx",
        "outputId": "afedd030-7ea3-49f2-b12d-396a03bb0720"
      },
      "source": [
        "\n",
        "\n",
        "def rebuild_sentences(df_text_values, df_title_values):\n",
        "  all_sentences = []\n",
        "  for p in range(len(df_text_values)):\n",
        "    post = df_text_values[p][0][2:len(df_text_values[p][0]) - 2]\n",
        "    post_no_token = post.replace(\"', '\", \" \")\n",
        "    post_sentences = post_no_token.split(\"], [\")\n",
        "    post_sentences = [sent.replace(\"'\", \"\") for sent in post_sentences]\n",
        "    all_sentences += post_sentences\n",
        "\n",
        "    title = df_title_values[p][0][2:len(df_title_values[p][0]) - 2]\n",
        "    no_token = title.replace(\"', '\", \" \")\n",
        "    newtitle = no_token.replace(\"'\", \"\")\n",
        "    all_sentences.append(newtitle)\n",
        "\n",
        "  return all_sentences\n",
        "\n",
        "#rebuild corpus of infertility train sentences\n",
        "i_train_texts = infertility_train[['processed_text']].values\n",
        "i_train_titles = infertility_train[['processed_title']].values\n",
        "i_train_fulllist = rebuild_sentences(i_train_texts, i_train_titles)\n",
        "\n",
        "print('Total number of sentences in train infertility: ' + str(len(i_train_fulllist)))\n",
        "\n",
        "#rebuild corpus of ttcafterloss train sentences\n",
        "t_train_texts = afterloss_train[['processed_text']].values\n",
        "t_train_titles = afterloss_train[['processed_title']].values\n",
        "t_train_fulllist = rebuild_sentences(t_train_texts, t_train_titles)\n",
        "\n",
        "print('Total number of sentences in train ttc: ' + str(len(t_train_fulllist)))\n",
        "\n",
        "#rebuild corpus of infertility train sentences\n",
        "i_val_texts = infertility_val[['processed_text']].values\n",
        "i_val_titles = infertility_val[['processed_title']].values\n",
        "i_val_fulllist = rebuild_sentences(i_val_texts, i_val_titles)\n",
        "\n",
        "print('Total number of sentences in val infertility: ' + str(len(i_val_fulllist)))\n",
        "\n",
        "#rebuild corpus of ttcafterloss train sentences\n",
        "t_val_texts = afterloss_val[['processed_text']].values\n",
        "t_val_titles = afterloss_val[['processed_title']].values\n",
        "t_val_fulllist = rebuild_sentences(t_val_texts, t_val_titles)\n",
        "\n",
        "print('Total number of sentences in val ttc: ' + str(len(t_val_fulllist)))\n"
      ],
      "execution_count": 4,
      "outputs": [
        {
          "output_type": "stream",
          "text": [
            "Total number of sentences in train infertility: 111523\n",
            "Total number of sentences in train ttc: 61197\n",
            "Total number of sentences in val infertility: 37127\n",
            "Total number of sentences in val ttc: 20570\n"
          ],
          "name": "stdout"
        }
      ]
    },
    {
      "cell_type": "markdown",
      "metadata": {
        "id": "6NrRyyjCXucs"
      },
      "source": [
        "Initial vectorizer"
      ]
    },
    {
      "cell_type": "code",
      "metadata": {
        "colab": {
          "base_uri": "https://localhost:8080/"
        },
        "id": "78K6CmLXtnVz",
        "outputId": "8fbbf34d-9408-45cc-c7cc-911c4ca10f9e"
      },
      "source": [
        "from sklearn.feature_extraction.text import CountVectorizer\n",
        "\n",
        "i_vectorizer = CountVectorizer(max_features=10000)\n",
        "i_vectorizer.fit(i_train_fulllist)\n",
        "\n",
        "t_vectorizer = CountVectorizer(max_features=10000)\n",
        "t_vectorizer.fit(t_train_fulllist)"
      ],
      "execution_count": 5,
      "outputs": [
        {
          "output_type": "execute_result",
          "data": {
            "text/plain": [
              "CountVectorizer(analyzer='word', binary=False, decode_error='strict',\n",
              "                dtype=<class 'numpy.int64'>, encoding='utf-8', input='content',\n",
              "                lowercase=True, max_df=1.0, max_features=10000, min_df=1,\n",
              "                ngram_range=(1, 1), preprocessor=None, stop_words=None,\n",
              "                strip_accents=None, token_pattern='(?u)\\\\b\\\\w\\\\w+\\\\b',\n",
              "                tokenizer=None, vocabulary=None)"
            ]
          },
          "metadata": {
            "tags": []
          },
          "execution_count": 5
        }
      ]
    },
    {
      "cell_type": "code",
      "metadata": {
        "id": "X4H37kDEYIHO"
      },
      "source": [
        "#tokenize sequences\n",
        "\n",
        "from tensorflow.keras.preprocessing.text import Tokenizer\n",
        "\n",
        "#create keras tokenizer\n",
        "max_words = 10000\n",
        "i_tokenizer = Tokenizer(max_words, oov_token='OOV')\n",
        "i_tokenizer.fit_on_texts(i_train_fulllist)\n",
        "i_vocab_size = max_words + 1\n",
        "\n",
        "t_tokenizer = Tokenizer(max_words, oov_token='OOV')\n",
        "t_tokenizer.fit_on_texts(t_train_fulllist)\n",
        "t_vocab_size = max_words + 1\n",
        "\n",
        "\n",
        "#convert text to sequences\n",
        "i_tokenized_train = i_tokenizer.texts_to_sequences(i_train_fulllist)\n",
        "i_tokenized_val = i_tokenizer.texts_to_sequences(i_val_fulllist)\n",
        "\n",
        "t_tokenized_train = t_tokenizer.texts_to_sequences(t_train_fulllist)\n",
        "t_tokenized_val = t_tokenizer.texts_to_sequences(t_val_fulllist)"
      ],
      "execution_count": 6,
      "outputs": []
    },
    {
      "cell_type": "markdown",
      "metadata": {
        "id": "8Ir_A7Kg_Htl"
      },
      "source": [
        "##Build Word2Vec representations"
      ]
    },
    {
      "cell_type": "code",
      "metadata": {
        "id": "Ak3cqsOJ_Ki8"
      },
      "source": [
        "import torch\n",
        "import torch.nn as nn\n",
        "import torch.nn.functional as F\n",
        "import torch.optim as optim\n",
        "import torch.utils.data as torch_data\n",
        "\n",
        "device = torch.device(\"cuda:0\" if torch.cuda.is_available() else \"cpu\")\n",
        "\n",
        "class Word2VecModel(nn.ModuleList):\n",
        "    # A torch module implementing a word2vec predictor. The `forward` function\n",
        "    # should take a batch of context word ids as input and predict the word \n",
        "    # in the middle of the context as output, as in the CBOW model from lecture.\n",
        "\n",
        "    def __init__(self, vocab_size, embed_dim):\n",
        "      super(Word2VecModel, self).__init__()\n",
        "\n",
        "        #word2vec: 2 linear layers, 1 softmax\n",
        "      \n",
        "      self.lin1 = nn.Linear(embed_dim, vocab_size+1) #layer calculates embedded representations\n",
        "        \n",
        "      self.softmax = nn.Softmax().to(device)\n",
        "      self.embed =  nn.Embedding(vocab_size+1, embed_dim, padding_idx=0)  #get embedded representations from embedding dict\n",
        "\n",
        "\n",
        "    def forward(self, context):\n",
        "        # Context is an `n_batch x n_context` matrix of integer word ids\n",
        "        # this function should return a set of scores for predicting the word \n",
        "        # in the middle of the context\n",
        "\n",
        "        context = context.to(device)\n",
        "\n",
        "        # Your code here!  torch.LongTensor(context)\n",
        "        out_embed = self.embed(context).to(device=device)  #convert indices to sparse layer lookup table\n",
        "        avg_embed = torch.mean(out_embed, dim = 1).to(device=device)\n",
        "        out_linear = self.lin1(avg_embed).to(device=device)\n",
        "        out = self.softmax(out_linear).to(device=device)\n",
        "\n",
        "        return out\n",
        "\n",
        "    def getEmbedWeights(self): #get matrix of embedded word representations\n",
        "      \n",
        "      return self.embed.weight.to(device=device) \n"
      ],
      "execution_count": 7,
      "outputs": []
    },
    {
      "cell_type": "markdown",
      "metadata": {
        "id": "zMIo5TNKGiJ-"
      },
      "source": [
        "Ngrams"
      ]
    },
    {
      "cell_type": "code",
      "metadata": {
        "id": "4a4HpIHZoris"
      },
      "source": [
        "def get_ngrams(tokenized_corpus, window_size):\n",
        "    # review = train_labels_b\n",
        "    ngrams = []\n",
        "    for i, review in enumerate(tokenized_corpus):\n",
        "        # print(review)\n",
        "        for j, word in enumerate(review):\n",
        "            min_ind = max(0, j-window_size)\n",
        "            max_ind = min(len(review), j+window_size+1)\n",
        "            ctx = np.zeros(2 * window_size, dtype=np.int64) - 1\n",
        "            for ik, k in enumerate(range(min_ind, j)):\n",
        "                ctx[ik] = review[k]\n",
        "            for ik, k in enumerate(range(j+1, max_ind)):\n",
        "                ctx[window_size+ik] = review[k]\n",
        "            ngrams.append((ctx, review[j]))\n",
        "    return ngrams"
      ],
      "execution_count": null,
      "outputs": []
    },
    {
      "cell_type": "code",
      "metadata": {
        "id": "TiGSkDiw_LMI"
      },
      "source": [
        "\n",
        "def learn_reps_word2vec(tokenized_input, window_size, rep_size, n_epochs, n_batch):\n",
        "    #This method takes in a corpus of training sentences. It returns a matrix of\n",
        "    # word embeddings with the same structure as used in the previous section of \n",
        "    # the assignment. (You can extract this matrix from the parameters of the \n",
        "    # Word2VecModel.)\n",
        "\n",
        "    #apply 6.864 ngrams\n",
        "    ngrams_input = get_ngrams(tokenized_input, 2)\n",
        "\n",
        "    #apply my ngrams\n",
        "    # ngrams_input = [ngrams(post) for post in tokenized_input ]\n",
        "\n",
        "    # device = torch.device('cuda')  # run on colab gpu\n",
        "    # device = 'cuda'\n",
        "    \n",
        "    model = Word2VecModel(10000, rep_size).to(device=device)\n",
        "    model.to(device)\n",
        "    opt = optim.Adam(model.parameters(), lr=0.001)\n",
        "\n",
        "    # next(model.parameters()).device\n",
        "\n",
        "    loader = torch_data.DataLoader(ngrams_input, batch_size=n_batch, shuffle=True)\n",
        "\n",
        "    # print(ngrams_input.shape)\n",
        "    # print(ngrams_input)\n",
        "\n",
        "    # Use cross-entropy loss function for Word2Vec!\n",
        "    loss_fn = torch.nn.CrossEntropyLoss() #combines nn.LogSoftmax() and nn.NLLLoss() in one single class.\n",
        "\n",
        "    losses = []  # Potentially useful for debugging (loss should go down!)\n",
        "    \n",
        "    from tqdm import tqdm\n",
        "\n",
        "    for epoch in tqdm(range(n_epochs)):\n",
        "        epoch_loss = 0\n",
        "        for context, label in loader:\n",
        "            # As described above, `context` is a batch of context word ids, and\n",
        "            # `label` is a batch of predicted word labels.\n",
        "\n",
        "\n",
        "            # Here, perform a forward pass to compute predictions for the model.\n",
        "            \n",
        "            context = context + 1\n",
        "          \n",
        "            preds = model.forward(context).to(device)  # Your code here!\n",
        "\n",
        "            # Now finish the backward pass and gradient update.\n",
        "            # Remember, you need to compute the loss, zero the gradients\n",
        "            # of the model parameters, perform the backward pass, and\n",
        "            # update the model parameters.\n",
        "\n",
        "            #compute loss\n",
        "            loss = loss_fn(preds, label.to(device))  # Your code here!\n",
        "            #zero gradients\n",
        "            opt.zero_grad()\n",
        "            #perform backward pass\n",
        "            loss.backward()  \n",
        "            #update parameters\n",
        "            opt.step()\n",
        "\n",
        "            epoch_loss += loss.item()\n",
        "        losses.append(epoch_loss)\n",
        "\n",
        "    # Hint: you want to return a `vocab_size x embedding_size` numpy array\n",
        "    embedding_matrix = model.getEmbedWeights()  # Your code here!\n",
        "\n",
        "    return embedding_matrix\n",
        "    "
      ],
      "execution_count": null,
      "outputs": []
    },
    {
      "cell_type": "markdown",
      "metadata": {
        "id": "yEEIGnVna1VB"
      },
      "source": [
        "Make embeddings! and save em"
      ]
    },
    {
      "cell_type": "code",
      "metadata": {
        "colab": {
          "base_uri": "https://localhost:8080/",
          "height": 437
        },
        "id": "Y0JijM0VFPXW",
        "outputId": "25ef1b7e-3c93-4d84-c0a0-ca4c47fccb45"
      },
      "source": [
        "# Use the function you just wrote to learn Word2Vec embeddings on a word-level:\n",
        "i_reps_word2vec = learn_reps_word2vec(i_tokenized_train,  #reduce size to stop RAM from crashing\n",
        "                                    2,   #window size\n",
        "                                    100, #embedding size, was initially 500 but thing timed out \n",
        "                                    10, \n",
        "                                    5)\n",
        "\n",
        "torch.save(i_reps_word2vec, 'gdrive/MyDrive/NLP_final_project/i_W2V_embed_weights_100dim_2window.pt') \n",
        "\n",
        "print('finished i')\n",
        "\n",
        "t_reps_word2vec = learn_reps_word2vec(t_tokenized_train,  #reduce size to stop RAM from crashing\n",
        "                                    2,   #window size\n",
        "                                    100, #embedding size, was initially 500 but thing timed out \n",
        "                                    10, \n",
        "                                    5)\n",
        "\n",
        "torch.save(t_reps_word2vec, 'gdrive/MyDrive/NLP_final_project/t_W2V_embed_weights_100dim_2window.pt') \n",
        "\n",
        "print('finished t')\n",
        "\n",
        "# it_reps_word2vec = learn_reps_word2vec(it_tokenized_train,  #reduce size to stop RAM from crashing\n",
        "#                                     2,   #window size\n",
        "#                                     100, #embedding size, was initially 500 but thing timed out \n",
        "#                                     10, \n",
        "#                                     5)\n",
        "\n",
        "# torch.save(it_reps_word2vec, 'gdrive/MyDrive/NLP_final_project/it_W2V_embed_weights_100dim_2window.pt') \n",
        "\n",
        "# print('finished it')\n",
        "\n"
      ],
      "execution_count": null,
      "outputs": [
        {
          "output_type": "stream",
          "text": [
            "\n",
            "  0%|          | 0/10 [00:00<?, ?it/s]\u001b[A/usr/local/lib/python3.7/dist-packages/ipykernel_launcher.py:36: UserWarning: Implicit dimension choice for softmax has been deprecated. Change the call to include dim=X as an argument.\n"
          ],
          "name": "stderr"
        },
        {
          "output_type": "error",
          "ename": "KeyboardInterrupt",
          "evalue": "ignored",
          "traceback": [
            "\u001b[0;31m---------------------------------------------------------------------------\u001b[0m",
            "\u001b[0;31mKeyboardInterrupt\u001b[0m                         Traceback (most recent call last)",
            "\u001b[0;32m<ipython-input-24-90ba3c996e61>\u001b[0m in \u001b[0;36m<module>\u001b[0;34m()\u001b[0m\n\u001b[1;32m     24\u001b[0m                                     \u001b[0;36m100\u001b[0m\u001b[0;34m,\u001b[0m \u001b[0;31m#embedding size, was initially 500 but thing timed out\u001b[0m\u001b[0;34m\u001b[0m\u001b[0;34m\u001b[0m\u001b[0m\n\u001b[1;32m     25\u001b[0m                                     \u001b[0;36m10\u001b[0m\u001b[0;34m,\u001b[0m\u001b[0;34m\u001b[0m\u001b[0;34m\u001b[0m\u001b[0m\n\u001b[0;32m---> 26\u001b[0;31m                                     5)\n\u001b[0m\u001b[1;32m     27\u001b[0m \u001b[0;34m\u001b[0m\u001b[0m\n\u001b[1;32m     28\u001b[0m \u001b[0mtorch\u001b[0m\u001b[0;34m.\u001b[0m\u001b[0msave\u001b[0m\u001b[0;34m(\u001b[0m\u001b[0mit_reps_word2vec\u001b[0m\u001b[0;34m,\u001b[0m \u001b[0;34m'gdrive/MyDrive/NLP_final_project/it_W2V_embed_weights_100dim_2window.pt'\u001b[0m\u001b[0;34m)\u001b[0m\u001b[0;34m\u001b[0m\u001b[0;34m\u001b[0m\u001b[0m\n",
            "\u001b[0;32m<ipython-input-10-092d03fc149e>\u001b[0m in \u001b[0;36mlearn_reps_word2vec\u001b[0;34m(tokenized_input, window_size, rep_size, n_epochs, n_batch)\u001b[0m\n\u001b[1;32m     58\u001b[0m             \u001b[0mloss\u001b[0m\u001b[0;34m.\u001b[0m\u001b[0mbackward\u001b[0m\u001b[0;34m(\u001b[0m\u001b[0;34m)\u001b[0m\u001b[0;34m\u001b[0m\u001b[0;34m\u001b[0m\u001b[0m\n\u001b[1;32m     59\u001b[0m             \u001b[0;31m#update parameters\u001b[0m\u001b[0;34m\u001b[0m\u001b[0;34m\u001b[0m\u001b[0;34m\u001b[0m\u001b[0m\n\u001b[0;32m---> 60\u001b[0;31m             \u001b[0mopt\u001b[0m\u001b[0;34m.\u001b[0m\u001b[0mstep\u001b[0m\u001b[0;34m(\u001b[0m\u001b[0;34m)\u001b[0m\u001b[0;34m\u001b[0m\u001b[0;34m\u001b[0m\u001b[0m\n\u001b[0m\u001b[1;32m     61\u001b[0m \u001b[0;34m\u001b[0m\u001b[0m\n\u001b[1;32m     62\u001b[0m             \u001b[0mepoch_loss\u001b[0m \u001b[0;34m+=\u001b[0m \u001b[0mloss\u001b[0m\u001b[0;34m.\u001b[0m\u001b[0mitem\u001b[0m\u001b[0;34m(\u001b[0m\u001b[0;34m)\u001b[0m\u001b[0;34m\u001b[0m\u001b[0;34m\u001b[0m\u001b[0m\n",
            "\u001b[0;32m/usr/local/lib/python3.7/dist-packages/torch/optim/optimizer.py\u001b[0m in \u001b[0;36mwrapper\u001b[0;34m(*args, **kwargs)\u001b[0m\n\u001b[1;32m     87\u001b[0m                 \u001b[0mprofile_name\u001b[0m \u001b[0;34m=\u001b[0m \u001b[0;34m\"Optimizer.step#{}.step\"\u001b[0m\u001b[0;34m.\u001b[0m\u001b[0mformat\u001b[0m\u001b[0;34m(\u001b[0m\u001b[0mobj\u001b[0m\u001b[0;34m.\u001b[0m\u001b[0m__class__\u001b[0m\u001b[0;34m.\u001b[0m\u001b[0m__name__\u001b[0m\u001b[0;34m)\u001b[0m\u001b[0;34m\u001b[0m\u001b[0;34m\u001b[0m\u001b[0m\n\u001b[1;32m     88\u001b[0m                 \u001b[0;32mwith\u001b[0m \u001b[0mtorch\u001b[0m\u001b[0;34m.\u001b[0m\u001b[0mautograd\u001b[0m\u001b[0;34m.\u001b[0m\u001b[0mprofiler\u001b[0m\u001b[0;34m.\u001b[0m\u001b[0mrecord_function\u001b[0m\u001b[0;34m(\u001b[0m\u001b[0mprofile_name\u001b[0m\u001b[0;34m)\u001b[0m\u001b[0;34m:\u001b[0m\u001b[0;34m\u001b[0m\u001b[0;34m\u001b[0m\u001b[0m\n\u001b[0;32m---> 89\u001b[0;31m                     \u001b[0;32mreturn\u001b[0m \u001b[0mfunc\u001b[0m\u001b[0;34m(\u001b[0m\u001b[0;34m*\u001b[0m\u001b[0margs\u001b[0m\u001b[0;34m,\u001b[0m \u001b[0;34m**\u001b[0m\u001b[0mkwargs\u001b[0m\u001b[0;34m)\u001b[0m\u001b[0;34m\u001b[0m\u001b[0;34m\u001b[0m\u001b[0m\n\u001b[0m\u001b[1;32m     90\u001b[0m             \u001b[0;32mreturn\u001b[0m \u001b[0mwrapper\u001b[0m\u001b[0;34m\u001b[0m\u001b[0;34m\u001b[0m\u001b[0m\n\u001b[1;32m     91\u001b[0m \u001b[0;34m\u001b[0m\u001b[0m\n",
            "\u001b[0;32m/usr/local/lib/python3.7/dist-packages/torch/autograd/grad_mode.py\u001b[0m in \u001b[0;36mdecorate_context\u001b[0;34m(*args, **kwargs)\u001b[0m\n\u001b[1;32m     25\u001b[0m         \u001b[0;32mdef\u001b[0m \u001b[0mdecorate_context\u001b[0m\u001b[0;34m(\u001b[0m\u001b[0;34m*\u001b[0m\u001b[0margs\u001b[0m\u001b[0;34m,\u001b[0m \u001b[0;34m**\u001b[0m\u001b[0mkwargs\u001b[0m\u001b[0;34m)\u001b[0m\u001b[0;34m:\u001b[0m\u001b[0;34m\u001b[0m\u001b[0;34m\u001b[0m\u001b[0m\n\u001b[1;32m     26\u001b[0m             \u001b[0;32mwith\u001b[0m \u001b[0mself\u001b[0m\u001b[0;34m.\u001b[0m\u001b[0m__class__\u001b[0m\u001b[0;34m(\u001b[0m\u001b[0;34m)\u001b[0m\u001b[0;34m:\u001b[0m\u001b[0;34m\u001b[0m\u001b[0;34m\u001b[0m\u001b[0m\n\u001b[0;32m---> 27\u001b[0;31m                 \u001b[0;32mreturn\u001b[0m \u001b[0mfunc\u001b[0m\u001b[0;34m(\u001b[0m\u001b[0;34m*\u001b[0m\u001b[0margs\u001b[0m\u001b[0;34m,\u001b[0m \u001b[0;34m**\u001b[0m\u001b[0mkwargs\u001b[0m\u001b[0;34m)\u001b[0m\u001b[0;34m\u001b[0m\u001b[0;34m\u001b[0m\u001b[0m\n\u001b[0m\u001b[1;32m     28\u001b[0m         \u001b[0;32mreturn\u001b[0m \u001b[0mcast\u001b[0m\u001b[0;34m(\u001b[0m\u001b[0mF\u001b[0m\u001b[0;34m,\u001b[0m \u001b[0mdecorate_context\u001b[0m\u001b[0;34m)\u001b[0m\u001b[0;34m\u001b[0m\u001b[0;34m\u001b[0m\u001b[0m\n\u001b[1;32m     29\u001b[0m \u001b[0;34m\u001b[0m\u001b[0m\n",
            "\u001b[0;32m/usr/local/lib/python3.7/dist-packages/torch/optim/adam.py\u001b[0m in \u001b[0;36mstep\u001b[0;34m(self, closure)\u001b[0m\n\u001b[1;32m    117\u001b[0m                    \u001b[0mgroup\u001b[0m\u001b[0;34m[\u001b[0m\u001b[0;34m'lr'\u001b[0m\u001b[0;34m]\u001b[0m\u001b[0;34m,\u001b[0m\u001b[0;34m\u001b[0m\u001b[0;34m\u001b[0m\u001b[0m\n\u001b[1;32m    118\u001b[0m                    \u001b[0mgroup\u001b[0m\u001b[0;34m[\u001b[0m\u001b[0;34m'weight_decay'\u001b[0m\u001b[0;34m]\u001b[0m\u001b[0;34m,\u001b[0m\u001b[0;34m\u001b[0m\u001b[0;34m\u001b[0m\u001b[0m\n\u001b[0;32m--> 119\u001b[0;31m                    group['eps'])\n\u001b[0m\u001b[1;32m    120\u001b[0m         \u001b[0;32mreturn\u001b[0m \u001b[0mloss\u001b[0m\u001b[0;34m\u001b[0m\u001b[0;34m\u001b[0m\u001b[0m\n",
            "\u001b[0;32m/usr/local/lib/python3.7/dist-packages/torch/optim/_functional.py\u001b[0m in \u001b[0;36madam\u001b[0;34m(params, grads, exp_avgs, exp_avg_sqs, max_exp_avg_sqs, state_steps, amsgrad, beta1, beta2, lr, weight_decay, eps)\u001b[0m\n\u001b[1;32m     90\u001b[0m             \u001b[0mdenom\u001b[0m \u001b[0;34m=\u001b[0m \u001b[0;34m(\u001b[0m\u001b[0mmax_exp_avg_sqs\u001b[0m\u001b[0;34m[\u001b[0m\u001b[0mi\u001b[0m\u001b[0;34m]\u001b[0m\u001b[0;34m.\u001b[0m\u001b[0msqrt\u001b[0m\u001b[0;34m(\u001b[0m\u001b[0;34m)\u001b[0m \u001b[0;34m/\u001b[0m \u001b[0mmath\u001b[0m\u001b[0;34m.\u001b[0m\u001b[0msqrt\u001b[0m\u001b[0;34m(\u001b[0m\u001b[0mbias_correction2\u001b[0m\u001b[0;34m)\u001b[0m\u001b[0;34m)\u001b[0m\u001b[0;34m.\u001b[0m\u001b[0madd_\u001b[0m\u001b[0;34m(\u001b[0m\u001b[0meps\u001b[0m\u001b[0;34m)\u001b[0m\u001b[0;34m\u001b[0m\u001b[0;34m\u001b[0m\u001b[0m\n\u001b[1;32m     91\u001b[0m         \u001b[0;32melse\u001b[0m\u001b[0;34m:\u001b[0m\u001b[0;34m\u001b[0m\u001b[0;34m\u001b[0m\u001b[0m\n\u001b[0;32m---> 92\u001b[0;31m             \u001b[0mdenom\u001b[0m \u001b[0;34m=\u001b[0m \u001b[0;34m(\u001b[0m\u001b[0mexp_avg_sq\u001b[0m\u001b[0;34m.\u001b[0m\u001b[0msqrt\u001b[0m\u001b[0;34m(\u001b[0m\u001b[0;34m)\u001b[0m \u001b[0;34m/\u001b[0m \u001b[0mmath\u001b[0m\u001b[0;34m.\u001b[0m\u001b[0msqrt\u001b[0m\u001b[0;34m(\u001b[0m\u001b[0mbias_correction2\u001b[0m\u001b[0;34m)\u001b[0m\u001b[0;34m)\u001b[0m\u001b[0;34m.\u001b[0m\u001b[0madd_\u001b[0m\u001b[0;34m(\u001b[0m\u001b[0meps\u001b[0m\u001b[0;34m)\u001b[0m\u001b[0;34m\u001b[0m\u001b[0;34m\u001b[0m\u001b[0m\n\u001b[0m\u001b[1;32m     93\u001b[0m \u001b[0;34m\u001b[0m\u001b[0m\n\u001b[1;32m     94\u001b[0m         \u001b[0mstep_size\u001b[0m \u001b[0;34m=\u001b[0m \u001b[0mlr\u001b[0m \u001b[0;34m/\u001b[0m \u001b[0mbias_correction1\u001b[0m\u001b[0;34m\u001b[0m\u001b[0;34m\u001b[0m\u001b[0m\n",
            "\u001b[0;31mKeyboardInterrupt\u001b[0m: "
          ]
        }
      ]
    },
    {
      "cell_type": "code",
      "metadata": {
        "colab": {
          "base_uri": "https://localhost:8080/"
        },
        "id": "oYBupgLX9EgE",
        "outputId": "7414dd90-4def-4a11-c85a-dc9cf9199e99"
      },
      "source": [
        "import torch \n",
        "\n",
        "#load later on\n",
        "i_reps_word2vec = torch.load('gdrive/MyDrive/NLP_final_project/i_W2V_embed_weights_100dim_2window.pt', map_location=torch.device('cpu'))[1:]\n",
        "print(i_reps_word2vec.shape)\n",
        "t_reps_word2vec = torch.load('gdrive/MyDrive/NLP_final_project/t_W2V_embed_weights_100dim_2window.pt', map_location=torch.device('cpu'))[1:]\n",
        "print(t_reps_word2vec.shape)\n",
        "# it_reps_word2vec = torch.load('gdrive/MyDrive/NLP_final_project/it_W2V_embed_weights_100dim_2window.pt', map_location=torch.device('cpu'))[1:]\n",
        "# print(it_reps_word2vec.shape)"
      ],
      "execution_count": 8,
      "outputs": [
        {
          "output_type": "stream",
          "text": [
            "torch.Size([10000, 100])\n",
            "torch.Size([10000, 100])\n"
          ],
          "name": "stdout"
        }
      ]
    },
    {
      "cell_type": "code",
      "metadata": {
        "colab": {
          "base_uri": "https://localhost:8080/"
        },
        "id": "_tNLFpsDBjZ5",
        "outputId": "a8d2d354-a4c7-4846-d5a1-1c22c0c56797"
      },
      "source": [
        "# # i_train = i_vectorizer.transform(i_train_fulllist) \n",
        "# print(i_train.shape, i_reps_word2vec.shape)\n",
        "# print(type(i_train), type(i_reps_word2vec))\n",
        "# new = reps_word2vec.detach().numpy()\n",
        "\n",
        "# x = i_train[0].toarray().T * new"
      ],
      "execution_count": null,
      "outputs": [
        {
          "output_type": "stream",
          "text": [
            "(111523, 10000) torch.Size([10000, 100])\n",
            "<class 'scipy.sparse.csr.csr_matrix'> <class 'torch.Tensor'>\n"
          ],
          "name": "stdout"
        }
      ]
    },
    {
      "cell_type": "markdown",
      "metadata": {
        "id": "lVL_glKE_8dS"
      },
      "source": [
        "Get sentence-level embeddings, NOT post-level embeddings. Need to figure out how to do post-level still"
      ]
    },
    {
      "cell_type": "code",
      "metadata": {
        "colab": {
          "base_uri": "https://localhost:8080/"
        },
        "id": "Q21uFhQcrgeI",
        "outputId": "882e00be-a4f0-4c41-a41d-c31d6671beac"
      },
      "source": [
        ""
      ],
      "execution_count": null,
      "outputs": [
        {
          "output_type": "execute_result",
          "data": {
            "text/plain": [
              "111523"
            ]
          },
          "metadata": {
            "tags": []
          },
          "execution_count": 95
        }
      ]
    },
    {
      "cell_type": "code",
      "metadata": {
        "colab": {
          "base_uri": "https://localhost:8080/"
        },
        "id": "Ksf3KRisFQDQ",
        "outputId": "45776ba1-3006-4e3e-e96b-1273bf853b2c"
      },
      "source": [
        "\n",
        "def w2v_featurizer(xs,reps_word2vec):\n",
        "    # This function takes in a matrix in which each row contains the word counts\n",
        "    # for the given review. It should return a matrix in which each row contains\n",
        "    # the average Word2Vec embedding of each review (hint: this will be very\n",
        "    # similar to `lsa_featurizer` from above, just using Word2Vec embeddings \n",
        "    # instead of LSA).\n",
        "\n",
        "    feats = np.zeros((xs.shape[0], reps_word2vec.shape[1]))  \n",
        "    reps_word2vec = reps_word2vec.detach().numpy()\n",
        "\n",
        "\n",
        "\n",
        "    for j in range(xs.shape[0]):\n",
        "      # print(xs[j].shape)\n",
        "      # print(reps_word2vec[:10000,].shape)\n",
        "\n",
        "\n",
        "\n",
        "      post = xs[j].toarray()\n",
        "\n",
        "      # print(np.sum(post))\n",
        "\n",
        "      x = (reps_word2vec.T * post).T\n",
        "      \n",
        "      # print(x)\n",
        "      # print(x.shape)  \n",
        "\n",
        "      denom = 1  \n",
        "      if np.sum(post) != 0 : denom = np.sum(post)\n",
        "\n",
        "\n",
        "      feats[j] = np.sum(x, axis=0) / denom\n",
        "\n",
        "      \n",
        "\n",
        "      # print(feats[j].shape)\n",
        "      # print(s)\n",
        "      \n",
        "      # print(newrow)\n",
        "      # newrow = xs[j,0] * reps_word2vec[0] #shape is (1, 500)\n",
        "      # for i in range(1, xs.shape[1]):\n",
        "      #   newrow += xs[j,i] * reps_word2vec[i]   \n",
        "\n",
        "\n",
        "\n",
        "      # feats[j] = (s / np.sum(xs[:,j]))\n",
        "      if np.isnan(denom)==True: \n",
        "        print('denom is nan')\n",
        "        print(np.sum(post))\n",
        "      # if np.isnan(feats[j]).any()==True: print('feats[j] 0')  \n",
        "\n",
        "    # feats = np.dot(xs, reps_word2vec) / np.sum(xs, axis=1, keepdims=True)\n",
        "\n",
        "\n",
        "    #average all the word embeddings in review to create overall embedding\n",
        "\n",
        "    # normalize\n",
        "    normalize_term = np.sqrt((feats ** 2).sum(axis=1, keepdims=True))\n",
        "    normalize_term[normalize_term == 0] = 1  \n",
        "    # print(normalize_term)\n",
        "    \n",
        "    # print(normalize_term)\n",
        "    # print()\n",
        "    # print(feats.shape)\n",
        "\n",
        "\n",
        "    return feats / normalize_term\n",
        "\n",
        "#convert to term-document matrix\n",
        "i_train = i_vectorizer.transform(i_train_fulllist) \n",
        "i_val = i_vectorizer.transform(i_val_fulllist) \n",
        "\n",
        "t_train = t_vectorizer.transform(t_train_fulllist)\n",
        "t_val = t_vectorizer.transform(t_val_fulllist)\n",
        "\n",
        "# i_train_w2v = w2v_featurizer(i_train, i_reps_word2vec)\n",
        "i_val_w2v = w2v_featurizer(i_val, i_reps_word2vec)\n",
        "\n",
        "# t_train_w2v = w2v_featurizer(t_train, t_reps_word2vec)\n",
        "t_val_w2v = w2v_featurizer(t_val, t_reps_word2vec)\n",
        "\n",
        "# print(f\"Word2Vec features, {i_train.shape[0]} examples\")\n",
        "print(f\"Word2Vec features, {i_val.shape[0]} examples\")\n",
        "print(f\"Word2Vec features, {t_train.shape[0]} examples\")\n",
        "print(f\"Word2Vec features, {t_val.shape[0]} examples\")"
      ],
      "execution_count": 10,
      "outputs": [
        {
          "output_type": "stream",
          "text": [
            "Word2Vec features, 37127 examples\n",
            "Word2Vec features, 61197 examples\n",
            "Word2Vec features, 20570 examples\n"
          ],
          "name": "stdout"
        }
      ]
    },
    {
      "cell_type": "code",
      "metadata": {
        "colab": {
          "base_uri": "https://localhost:8080/"
        },
        "id": "7I_3Cdycgr2M",
        "outputId": "aa7e63e6-f240-41df-f821-9b4807463b3a"
      },
      "source": [
        "# print(len(i_train_fulllist), len(i_val_fulllist))\n",
        "\n",
        "print(np.isnan(i_reps_word2vec.detach().numpy()).any(),\n",
        "np.isnan(t_reps_word2vec.detach().numpy()).any()\n",
        ")\n",
        "\n",
        "# print(np.isnan(i_train_w2v).any(),np.isnan(i_val_w2v).any())\n",
        "\n",
        "# print(np.isnan(i_train).any(), np.isnan(i_val).any())"
      ],
      "execution_count": null,
      "outputs": [
        {
          "output_type": "stream",
          "text": [
            "False False\n"
          ],
          "name": "stdout"
        }
      ]
    },
    {
      "cell_type": "code",
      "metadata": {
        "id": "Z8igib9VBWve"
      },
      "source": [
        "torch.save(i_train_w2v, 'gdrive/MyDrive/NLP_final_project/i_train_w2v.pt') \n",
        "torch.save(i_val_w2v, 'gdrive/MyDrive/NLP_final_project/i_val_w2v.pt') \n",
        "torch.save(t_train_w2v, 'gdrive/MyDrive/NLP_final_project/t_train_w2v.pt') \n",
        "torch.save(t_val_w2v, 'gdrive/MyDrive/NLP_final_project/t_val_w2v.pt') "
      ],
      "execution_count": null,
      "outputs": []
    },
    {
      "cell_type": "markdown",
      "metadata": {
        "id": "s6fNVi6QAHlu"
      },
      "source": [
        "Generate post-level embeddings"
      ]
    },
    {
      "cell_type": "code",
      "metadata": {
        "id": "oa6Y1XcATfAs"
      },
      "source": [
        "import torch\n",
        "i_train_w2v = torch.load('gdrive/MyDrive/NLP_final_project/i_train_w2v.pt', map_location=torch.device('cpu')) \n",
        "i_val_w2v = torch.load('gdrive/MyDrive/NLP_final_project/i_val_w2v.pt', map_location=torch.device('cpu')) \n",
        "t_train_w2v = torch.load('gdrive/MyDrive/NLP_final_project/t_train_w2v.pt', map_location=torch.device('cpu')) \n",
        "t_val_w2v = torch.load('gdrive/MyDrive/NLP_final_project/t_val_w2v.pt', map_location=torch.device('cpu')) "
      ],
      "execution_count": 9,
      "outputs": []
    },
    {
      "cell_type": "code",
      "metadata": {
        "colab": {
          "base_uri": "https://localhost:8080/"
        },
        "id": "z3-iF8-n_6e3",
        "outputId": "339ff0fd-9cb0-4682-ce6b-43d77065763e"
      },
      "source": [
        "i_reps_word2vec[0:15]"
      ],
      "execution_count": null,
      "outputs": [
        {
          "output_type": "execute_result",
          "data": {
            "text/plain": [
              "tensor([[-1.1255, -0.7143, -0.5299,  ...,  0.3912, -0.6389,  0.2989],\n",
              "        [ 1.0169,  0.9714, -0.4754,  ...,  0.0953,  0.0605,  1.3242],\n",
              "        [-1.1939, -0.6632, -1.7322,  ...,  0.8786, -0.1547,  1.8871],\n",
              "        ...,\n",
              "        [ 0.6317, -1.7761, -0.6073,  ...,  0.5374,  0.5360, -0.4991],\n",
              "        [-0.8232,  0.6666, -0.7481,  ...,  0.3377,  0.2431,  0.0411],\n",
              "        [-1.8941,  0.0591, -1.9632,  ..., -0.1481,  1.4777, -1.2726]],\n",
              "       grad_fn=<SliceBackward>)"
            ]
          },
          "metadata": {
            "tags": []
          },
          "execution_count": 10
        }
      ]
    },
    {
      "cell_type": "code",
      "metadata": {
        "colab": {
          "base_uri": "https://localhost:8080/"
        },
        "id": "fo9bS7B3_gPa",
        "outputId": "42821974-2222-4a21-efeb-2eda6a6e4d95"
      },
      "source": [
        "\n",
        "count=0\n",
        "for i in i_train_w2v:\n",
        "  # i = i.detach().cpu().numpy()\n",
        "  if i.all() == 0: count+=1\n",
        "print(count, i_train_w2v.shape)  "
      ],
      "execution_count": null,
      "outputs": [
        {
          "output_type": "stream",
          "text": [
            "0 (111523, 100)\n"
          ],
          "name": "stdout"
        }
      ]
    },
    {
      "cell_type": "markdown",
      "metadata": {
        "id": "NWOKIkUsiJvD"
      },
      "source": [
        "## Assign minimal threshold for post word count"
      ]
    },
    {
      "cell_type": "code",
      "metadata": {
        "colab": {
          "base_uri": "https://localhost:8080/"
        },
        "id": "W3aWE3W3iGyE",
        "outputId": "0499e861-b0e8-4107-9474-cbc5e3f18aa8"
      },
      "source": [
        "# test = \"[['I', 'know', 'a', 'bunch', 'of', 'people', 'cycle'], ['my', ]]\"\n",
        "\n",
        "# num_words_per_post = [post[0].count(' ') for post in i_val_texts]\n",
        "\n",
        "# # plt.hist(num_words_per_post)\n",
        "\n",
        "# #look at thresholds\n",
        "# count = [1 if i > 10 else 0 for i in num_words_per_post ]\n",
        "# print(len(num_words_per_post))\n",
        "# print(sum(count))\n",
        "\n",
        "\n",
        "# print(i_train_w2v.shape)"
      ],
      "execution_count": null,
      "outputs": [
        {
          "output_type": "stream",
          "text": [
            "2977\n",
            "2878\n",
            "(111523, 100)\n"
          ],
          "name": "stdout"
        }
      ]
    },
    {
      "cell_type": "code",
      "metadata": {
        "colab": {
          "base_uri": "https://localhost:8080/"
        },
        "id": "09drTzCTqb0M",
        "outputId": "c8312051-739a-4d05-8231-be6a5d482c2e"
      },
      "source": [
        "threshold = 0\n",
        "\n",
        "i_train_post_embeddings_0 = post_from_sentence_embeddings(i_train_texts, i_train_w2v,threshold)\n",
        "i_val_post_embeddings_0 = post_from_sentence_embeddings(i_val_texts, i_val_w2v,threshold)\n",
        "\n",
        "t_train_post_embeddings_0 = post_from_sentence_embeddings(t_train_texts, t_train_w2v,threshold)\n",
        "t_val_post_embeddings_0 = post_from_sentence_embeddings(t_val_texts, t_val_w2v,threshold)\n",
        "\n",
        "#get corresponding UP VOTE RATIO outcome values\n",
        "\n",
        "num_words_per_post = np.array([post[0].count(' ') for post in i_train_texts])\n",
        "filter_indices = np.where(num_words_per_post > threshold)[0].tolist()\n",
        "i_train_upvote_ratio_0 = np.take(i_train_upvote_ratio, filter_indices,0)\n",
        "\n",
        "num_words_per_post = np.array([post[0].count(' ') for post in i_val_texts])\n",
        "filter_indices = np.where(num_words_per_post > threshold)[0].tolist()\n",
        "i_val_upvote_ratio_0 = np.take(i_val_upvote_ratio, filter_indices,0)\n",
        "\n",
        "num_words_per_post = np.array([post[0].count(' ') for post in t_train_texts])\n",
        "filter_indices = np.where(num_words_per_post > threshold)[0].tolist()\n",
        "t_train_upvote_ratio_0 = np.take(t_train_upvote_ratio, filter_indices,0)\n",
        "\n",
        "num_words_per_post = np.array([post[0].count(' ') for post in t_val_texts])\n",
        "filter_indices = np.where(num_words_per_post > threshold)[0].tolist()\n",
        "t_val_upvote_ratio_0 = np.take(t_val_upvote_ratio, filter_indices,0)\n",
        "\n",
        "#get corresponding NUM COMMENTS outcome values\n",
        "\n",
        "num_words_per_post = np.array([post[0].count(' ') for post in i_train_texts])\n",
        "filter_indices = np.where(num_words_per_post > threshold)[0].tolist()\n",
        "i_train_num_comments_0 = np.take(i_train_num_comments, filter_indices,0)\n",
        "\n",
        "num_words_per_post = np.array([post[0].count(' ') for post in i_val_texts])\n",
        "filter_indices = np.where(num_words_per_post > threshold)[0].tolist()\n",
        "i_val_num_comments_0 = np.take(i_val_num_comments, filter_indices,0)\n",
        "\n",
        "num_words_per_post = np.array([post[0].count(' ') for post in t_train_texts])\n",
        "filter_indices = np.where(num_words_per_post > threshold)[0].tolist()\n",
        "t_train_num_comments_0 = np.take(t_train_num_comments, filter_indices,0)\n",
        "\n",
        "num_words_per_post = np.array([post[0].count(' ') for post in t_val_texts])\n",
        "filter_indices = np.where(num_words_per_post > threshold)[0].tolist()\n",
        "t_val_num_comments_0 = np.take(t_val_num_comments, filter_indices,0)"
      ],
      "execution_count": 14,
      "outputs": [
        {
          "output_type": "stream",
          "text": [
            "8932\n",
            "8932\n",
            "2978\n",
            "2978\n",
            "4444\n",
            "4444\n",
            "1483\n",
            "1483\n"
          ],
          "name": "stdout"
        }
      ]
    },
    {
      "cell_type": "code",
      "metadata": {
        "id": "eFxzZUC1_lEO"
      },
      "source": [
        "##post embeddings\n",
        "\n",
        "def post_from_sentence_embeddings(_texts, _w2v, min_words):\n",
        "  #get number of sentences per post\n",
        "  num_sent_per_post = [post[0].count('], [') + 1 for post in _texts]\n",
        "\n",
        "  #initialize return value and from index\n",
        "  fr_index=0\n",
        "\n",
        "  #get number of posts above threshold\n",
        "  num_words_per_post = [post[0].count(' ') for post in _texts]\n",
        "  print(len(num_words_per_post))\n",
        "  above_thresh = [1 if i > min_words else 0 for i in num_words_per_post ]\n",
        "  print(len(above_thresh))\n",
        "  post_embeddings= np.zeros((sum(above_thresh), 100))\n",
        "\n",
        "\n",
        "\n",
        "  #SUM the corresponding number of sentence embeddings together to get post embeddings \n",
        "  index=0\n",
        "  for i in range(len(num_sent_per_post)):\n",
        "      to_index = fr_index + num_sent_per_post[i]\n",
        "      targ_sentences = _w2v[fr_index:to_index, :]\n",
        "      targ_post = np.sum(targ_sentences, axis=0)\n",
        "      targ_post = targ_post + _w2v[to_index, :] #dont forget title embedding in post embedding\n",
        "      targ_post = targ_post / (num_sent_per_post[i] + 1) #get average\n",
        "      fr_index = to_index + 1\n",
        "      if above_thresh[i] == 1:\n",
        "        post_embeddings[index] = targ_post\n",
        "        index+=1\n",
        "  return post_embeddings\n",
        "\n",
        "  # post_from_sentence_embeddings(i_train_texts, i_train_w2v)"
      ],
      "execution_count": 13,
      "outputs": []
    },
    {
      "cell_type": "markdown",
      "metadata": {
        "id": "Vi4bCKt3Yj-I"
      },
      "source": [
        "Use these post embeddings for outcome prediction!\n"
      ]
    },
    {
      "cell_type": "code",
      "metadata": {
        "id": "PFpL4AMbWb02"
      },
      "source": [
        "# threshold =  10\n",
        "# i_train_post_embeddings_10 = post_from_sentence_embeddings(i_train_texts, i_train_w2v, threshold)\n",
        "# i_val_post_embeddings_10 = post_from_sentence_embeddings(i_val_texts, i_val_w2v, threshold)\n",
        "\n",
        "# t_train_post_embeddings_10 = post_from_sentence_embeddings(t_train_texts, t_train_w2v, threshold)\n",
        "# t_val_post_embeddings_10 = post_from_sentence_embeddings(t_val_texts, t_val_w2v, threshold)\n",
        "\n",
        "\n",
        "# print(i_train_post_embeddings_10.shape)\n",
        "# print(i_val_post_embeddings_10.shape)\n",
        "# print(t_train_post_embeddings_10.shape)\n",
        "\n",
        "\n",
        "# #get filtered post outcomes only\n",
        "# num_words_per_post = np.array([post[0].count(' ') for post in i_train_texts])\n",
        "# filter_indices = np.where(num_words_per_post > threshold)[0].tolist()\n",
        "# i_train_upvote_ratio_2_10 = np.take(i_train_upvote_ratio_2, filter_indices,0)\n",
        "\n",
        "# num_words_per_post = np.array([post[0].count(' ') for post in i_val_texts])\n",
        "# filter_indices = np.where(num_words_per_post > threshold)[0].tolist()\n",
        "# i_val_upvote_ratio_2_10 = np.take(i_val_upvote_ratio_2, filter_indices,0)\n",
        "\n",
        "# num_words_per_post = np.array([post[0].count(' ') for post in t_train_texts])\n",
        "# filter_indices = np.where(num_words_per_post > threshold)[0].tolist()\n",
        "# t_train_upvote_ratio_2_10 = np.take(t_train_upvote_ratio_2, filter_indices,0)\n",
        "\n",
        "# num_words_per_post = np.array([post[0].count(' ') for post in t_val_texts])\n",
        "# filter_indices = np.where(num_words_per_post > threshold)[0].tolist()\n",
        "# t_val_upvote_ratio_2_10 = np.take(t_val_upvote_ratio_2, filter_indices,0)"
      ],
      "execution_count": null,
      "outputs": []
    },
    {
      "cell_type": "markdown",
      "metadata": {
        "id": "newfCtPX_UNr"
      },
      "source": [
        "Word embeddings"
      ]
    },
    {
      "cell_type": "code",
      "metadata": {
        "colab": {
          "base_uri": "https://localhost:8080/"
        },
        "id": "0dTxw1n4_RNL",
        "outputId": "32aa5f60-3316-47d8-9963-e20fd10868fe"
      },
      "source": [
        "def show_similar_words(vectorizer, tokenizer, reps, tokens):\n",
        "    reps = reps.detach().numpy()\n",
        "    reps = reps / (np.sqrt((reps ** 2).sum(axis=1, keepdims=True)))\n",
        "    #for i, (word, token) in enumerate(tokenizer.word_to_token.items()):\n",
        "    for token in tokens:\n",
        "        word = vectorizer.get_feature_names()[token]\n",
        "        rep = reps[token, :]\n",
        "        sims = ((reps - rep) ** 2).sum(axis=1)\n",
        "        nearest = np.argsort(sims)\n",
        "        print(word, token)\n",
        "        for j in nearest[1:10]:\n",
        "            print(\" \", vectorizer.get_feature_names()[j], \"%.3f\" % sims[j])\n",
        "\n",
        "reps = i_reps_word2vec\n",
        "words = [\"period\",\"clinic\", \"life\"]\n",
        "show_tokens = [i_vectorizer.get_feature_names().index(word) for word in words]\n",
        "show_similar_words(i_vectorizer, i_tokenizer, reps, show_tokens)"
      ],
      "execution_count": null,
      "outputs": [
        {
          "output_type": "stream",
          "text": [
            "period 6426\n",
            "  pende 1.097\n",
            "  appease 1.124\n",
            "  bummed 1.138\n",
            "  distancing 1.147\n",
            "  fertilityiq 1.156\n",
            "  profession 1.166\n",
            "  children 1.166\n",
            "  cheesy 1.167\n",
            "  grr 1.170\n",
            "clinic 1502\n",
            "  buy 1.116\n",
            "  fertilise 1.144\n",
            "  green 1.159\n",
            "  advanced 1.186\n",
            "  fertilisation 1.209\n",
            "  cohort 1.218\n",
            "  cruel 1.245\n",
            "  anchor 1.267\n",
            "  pace 1.269\n",
            "life 4974\n",
            "  episona 1.235\n",
            "  shenanigan 1.337\n",
            "  intervention 1.349\n",
            "  typical 1.351\n",
            "  cord 1.354\n",
            "  quantitative 1.356\n",
            "  attack 1.372\n",
            "  ma 1.375\n",
            "  anecdote 1.377\n"
          ],
          "name": "stdout"
        }
      ]
    },
    {
      "cell_type": "code",
      "metadata": {
        "colab": {
          "base_uri": "https://localhost:8080/"
        },
        "id": "4quwGQqYDVzb",
        "outputId": "90c04b9d-c91f-4992-f950-4b17e4307dbd"
      },
      "source": [
        "reps = t_reps_word2vec\n",
        "words = [\"doctor\",\"medical\", \"clinic\"]\n",
        "show_tokens = [t_vectorizer.get_feature_names().index(word) for word in words]\n",
        "show_similar_words(t_vectorizer, t_tokenizer, reps, show_tokens)"
      ],
      "execution_count": null,
      "outputs": [
        {
          "output_type": "stream",
          "text": [
            "doctor 2763\n",
            "  frick 1.051\n",
            "  advocate 1.071\n",
            "  because 1.122\n",
            "  breath 1.122\n",
            "  ect 1.152\n",
            "  cvs 1.159\n",
            "  entitle 1.166\n",
            "  away 1.177\n",
            "  cw 1.183\n",
            "medical 5339\n",
            "  wing 1.295\n",
            "  terrified 1.303\n",
            "  bio 1.344\n",
            "  insert 1.367\n",
            "  dhea 1.374\n",
            "  annoying 1.382\n",
            "  gila 1.398\n",
            "  south 1.400\n",
            "  dependent 1.401\n",
            "clinic 1627\n",
            "  incident 1.176\n",
            "  across 1.205\n",
            "  blindside 1.216\n",
            "  ace 1.222\n",
            "  act 1.241\n",
            "  firsthand 1.245\n",
            "  an 1.274\n",
            "  arm 1.290\n",
            "  corner 1.295\n"
          ],
          "name": "stdout"
        }
      ]
    },
    {
      "cell_type": "markdown",
      "metadata": {
        "id": "hwQHc8ZNzuZb"
      },
      "source": [
        "##Do clustering on Word2vec embeddings"
      ]
    },
    {
      "cell_type": "code",
      "metadata": {
        "id": "o_s-u2fMztkD"
      },
      "source": [
        "from sklearn.cluster import KMeans\n",
        "\n",
        "indices = KMeans(n_clusters=10).fit_predict(reps_word2vec.detach().numpy())\n",
        "zipped = list(zip(range(vectorizer.tokenizer.vocab_size), indices))\n",
        "np.random.shuffle(zipped)\n",
        "zipped = zipped[:100]\n",
        "zipped = sorted(zipped, key=lambda x: x[1])\n",
        "for token, cluster_idx in zipped:\n",
        "    word = vectorizer.tokenizer.token_to_word[token]\n",
        "    print(f\"{word}: {cluster_idx}\")"
      ],
      "execution_count": null,
      "outputs": []
    },
    {
      "cell_type": "markdown",
      "metadata": {
        "id": "IeLFKWN5OLzV"
      },
      "source": [
        "## Outcome prediction"
      ]
    },
    {
      "cell_type": "code",
      "metadata": {
        "id": "63_o9LqOOP58"
      },
      "source": [
        "i_train_num_comments = infertility_train.num_comments\n",
        "i_val_num_comments = infertility_val.num_comments\n",
        "t_train_num_comments = afterloss_train.num_comments\n",
        "t_val_num_comments = afterloss_val.num_comments\n",
        "\n",
        "i_train_upvote_ratio = infertility_train.upvote_ratio\n",
        "i_val_upvote_ratio = infertility_val.upvote_ratio\n",
        "t_train_upvote_ratio = afterloss_train.upvote_ratio\n",
        "t_val_upvote_ratio = afterloss_val.upvote_ratio"
      ],
      "execution_count": 11,
      "outputs": []
    },
    {
      "cell_type": "code",
      "metadata": {
        "colab": {
          "base_uri": "https://localhost:8080/",
          "height": 298
        },
        "id": "a9l4xrsUeUQ1",
        "outputId": "72e476d5-6bce-432e-d6be-42dcbc14552e"
      },
      "source": [
        "import matplotlib.pyplot as plt\n",
        "\n",
        "#make binary comments\n",
        "plt.hist(i_train_upvote_ratio, bins=50)\n",
        "\n",
        "#predict either\n",
        "x = list(i_train_upvote_ratio.values)\n",
        "i_train_upvote_ratio_2 = [1 if i >= 0.90 else 0 for i in x]\n",
        "print(i_train_upvote_ratio_2.count(1), i_train_upvote_ratio_2.count(0))\n",
        "\n",
        "y = list(i_val_upvote_ratio.values)\n",
        "i_val_upvote_ratio_2 = [1 if i >= 0.90 else 0 for i in y]\n",
        "print(i_val_upvote_ratio_2.count(1), i_val_upvote_ratio_2.count(0))"
      ],
      "execution_count": null,
      "outputs": [
        {
          "output_type": "stream",
          "text": [
            "4655 4277\n",
            "1563 1414\n"
          ],
          "name": "stdout"
        },
        {
          "output_type": "display_data",
          "data": {
            "image/png": "[encoded data removed]",
            "text/plain": [
              "<Figure size 432x288 with 1 Axes>"
            ]
          },
          "metadata": {
            "tags": []
          }
        }
      ]
    },
    {
      "cell_type": "code",
      "metadata": {
        "colab": {
          "base_uri": "https://localhost:8080/",
          "height": 298
        },
        "id": "F5NlkfrEfRKi",
        "outputId": "ca33762a-4914-485a-de1a-74c63e04ff06"
      },
      "source": [
        "import matplotlib.pyplot as plt\n",
        "\n",
        "#make binary comments\n",
        "plt.hist(t_train_upvote_ratio, bins=50)\n",
        "\n",
        "#predict either\n",
        "x = list(t_train_upvote_ratio.values)\n",
        "t_train_upvote_ratio_2 = [1 if i >= 0.975 else 0 for i in x]\n",
        "print(t_train_upvote_ratio_2.count(1), t_train_upvote_ratio_2.count(0))\n",
        "\n",
        "y = list(t_val_upvote_ratio.values)\n",
        "t_val_upvote_ratio_2 = [1 if i >= 0.975 else 0 for i in y]\n",
        "print(t_val_upvote_ratio_2.count(1), t_val_upvote_ratio_2.count(0))"
      ],
      "execution_count": null,
      "outputs": [
        {
          "output_type": "stream",
          "text": [
            "2694 1750\n",
            "904 577\n"
          ],
          "name": "stdout"
        },
        {
          "output_type": "display_data",
          "data": {
            "image/png": "[encoded data removed]",
            "text/plain": [
              "<Figure size 432x288 with 1 Axes>"
            ]
          },
          "metadata": {
            "tags": []
          }
        }
      ]
    },
    {
      "cell_type": "code",
      "metadata": {
        "colab": {
          "base_uri": "https://localhost:8080/",
          "height": 298
        },
        "id": "59eLWRpX6m-u",
        "outputId": "18ee1f00-aee1-4a47-d4ed-6011b30232dc"
      },
      "source": [
        "import matplotlib.pyplot as plt\n",
        "\n",
        "#make binary comments\n",
        "plt.hist(i_train_num_comments, bins=50)\n",
        "plt.xlim(1,100)\n",
        "list(i_train_num_comments.values).count(10)\n",
        "\n",
        "#predict either ≤10 or >10 comments\n",
        "x = list(i_train_num_comments.values)\n",
        "i_train_comments_2 = [1 if i >= 10 else 0 for i in x]\n",
        "print(i_train_comments_2.count(1), i_train_comments_2.count(0))\n",
        "\n",
        "y = list(i_val_num_comments.values)\n",
        "i_val_comments_2 = [1 if i >= 10 else 0 for i in y]\n",
        "print(i_val_comments_2.count(1), i_val_comments_2.count(0))"
      ],
      "execution_count": null,
      "outputs": [
        {
          "output_type": "stream",
          "text": [
            "5707 3225\n",
            "1908 1069\n"
          ],
          "name": "stdout"
        },
        {
          "output_type": "display_data",
          "data": {
            "image/png": "[encoded data removed]",
            "text/plain": [
              "<Figure size 432x288 with 1 Axes>"
            ]
          },
          "metadata": {
            "tags": []
          }
        }
      ]
    },
    {
      "cell_type": "code",
      "metadata": {
        "colab": {
          "base_uri": "https://localhost:8080/",
          "height": 298
        },
        "id": "bjrrKq_v6Xq4",
        "outputId": "4ac773b8-40f5-40b7-c451-ae6e91f28215"
      },
      "source": [
        "import matplotlib.pyplot as plt\n",
        "\n",
        "#make binary comments\n",
        "plt.hist(t_train_num_comments, bins=50)\n",
        "plt.xlim(1,100)\n",
        "list(t_train_num_comments.values).count(10)\n",
        "\n",
        "#predict either 8 or >8 comments\n",
        "x = list(t_train_num_comments.values)\n",
        "t_train_comments_2 = [1 if i >= 8 else 0 for i in x]\n",
        "print(t_train_comments_2.count(1), t_train_comments_2.count(0))\n",
        "\n",
        "y = list(t_val_num_comments.values)\n",
        "t_val_comments_2 = [1 if i >= 8 else 0 for i in y]\n",
        "print(t_val_comments_2.count(1), t_val_comments_2.count(0))"
      ],
      "execution_count": null,
      "outputs": [
        {
          "output_type": "stream",
          "text": [
            "2400 2044\n",
            "812 669\n"
          ],
          "name": "stdout"
        },
        {
          "output_type": "display_data",
          "data": {
            "image/png": "[encoded data removed]",
            "text/plain": [
              "<Figure size 432x288 with 1 Axes>"
            ]
          },
          "metadata": {
            "tags": []
          }
        }
      ]
    },
    {
      "cell_type": "code",
      "metadata": {
        "id": "q9X6fYDvPX71"
      },
      "source": [
        "#import stuff\n",
        "\n",
        "import pandas\n",
        "from keras.models import Sequential, Model\n",
        "from keras.layers import Dense\n",
        "from keras.wrappers.scikit_learn import KerasClassifier\n",
        "from keras.utils import np_utils\n",
        "from sklearn.model_selection import cross_val_score\n",
        "from sklearn.model_selection import KFold\n",
        "from sklearn.preprocessing import OneHotEncoder\n",
        "from sklearn.pipeline import Pipeline\n",
        "\n",
        "import keras\n",
        "from tensorflow.keras.models import Sequential, load_model\n",
        "from tensorflow.keras.layers import Dense, Dropout, Activation\n",
        "from tensorflow.keras.optimizers import SGD, Adam\n",
        "\n",
        "from sklearn.preprocessing import LabelBinarizer\n"
      ],
      "execution_count": 12,
      "outputs": []
    },
    {
      "cell_type": "markdown",
      "metadata": {
        "id": "t1ZOFiugO83H"
      },
      "source": [
        "###Classifier for num_comments. W2V\n"
      ]
    },
    {
      "cell_type": "markdown",
      "metadata": {
        "id": "V55RC8u89Tuu"
      },
      "source": [
        "###For infertility"
      ]
    },
    {
      "cell_type": "code",
      "metadata": {
        "colab": {
          "base_uri": "https://localhost:8080/"
        },
        "id": "RlRIVrfyO6fk",
        "outputId": "968d3d50-c517-4858-bf93-a9739856f3e7"
      },
      "source": [
        "device = torch.device(\"cuda:0\" if torch.cuda.is_available() else \"cpu\")\n",
        "\n",
        "num_features = i_train_post_embeddings_0.shape[1]\n",
        "\n",
        "epochs=25\n",
        "\n",
        "#initialize regression model\n",
        "model = Sequential()\n",
        "\n",
        "#add layers\n",
        "model.add(Dense(units=24, activation='linear', input_dim=num_features, name='hidden_layer_1'))\n",
        "model.add(Dense(units=32, activation='relu', input_dim=24, name='hidden_layer_2'))\n",
        "\n",
        "#format output correctly (linear function)\n",
        "model.add(Dense(units=1, activation='linear', name='output_layer')) \n",
        "\n",
        "#define optimizer function (stochastic gradient descent)\n",
        "opt = Adam(lr=0.0001)\n",
        "# opt = SGD(learning_rate=.001)\n",
        "\n",
        "model.compile(optimizer=opt, \n",
        "              loss='mean_squared_error', #use mean squared error\n",
        "              metrics=['mse']) \n",
        "\n",
        "model.summary() \n",
        "\n",
        "#Evaluation\n",
        "from keras.callbacks import History \n",
        "history = History() #save model metrics and loss per epoch\n",
        "\n",
        "\n",
        "#train model\n",
        "hist = model.fit(x=i_train_post_embeddings_0, \n",
        "         y = i_train_upvote_ratio_0,\n",
        "         batch_size=32,\n",
        "         validation_data = (i_val_post_embeddings_0, i_val_upvote_ratio_0),\n",
        "         epochs=epochs,\n",
        "         callbacks=[history] ,\n",
        "         verbose=0\n",
        "         ) #do not print log of every epoch"
      ],
      "execution_count": null,
      "outputs": [
        {
          "output_type": "stream",
          "text": [
            "Model: \"sequential_27\"\n",
            "_________________________________________________________________\n",
            "Layer (type)                 Output Shape              Param #   \n",
            "=================================================================\n",
            "hidden_layer_1 (Dense)       (None, 24)                2424      \n",
            "_________________________________________________________________\n",
            "hidden_layer_2 (Dense)       (None, 32)                800       \n",
            "_________________________________________________________________\n",
            "output_layer (Dense)         (None, 1)                 33        \n",
            "=================================================================\n",
            "Total params: 3,257\n",
            "Trainable params: 3,257\n",
            "Non-trainable params: 0\n",
            "_________________________________________________________________\n"
          ],
          "name": "stdout"
        }
      ]
    },
    {
      "cell_type": "markdown",
      "metadata": {
        "id": "InQ6d-aWbhTW"
      },
      "source": [
        "Duplicate cell below for evaluation"
      ]
    },
    {
      "cell_type": "code",
      "metadata": {
        "colab": {
          "base_uri": "https://localhost:8080/"
        },
        "id": "_yBM4f_NiMr_",
        "outputId": "06facc70-b6fa-412b-ba33-9912212a3446"
      },
      "source": [
        "np.round(preds,2)"
      ],
      "execution_count": null,
      "outputs": [
        {
          "output_type": "execute_result",
          "data": {
            "text/plain": [
              "array([0.74, 0.85, 0.81, ..., 0.84, 0.82, 0.84], dtype=float32)"
            ]
          },
          "metadata": {
            "tags": []
          },
          "execution_count": 93
        }
      ]
    },
    {
      "cell_type": "code",
      "metadata": {
        "colab": {
          "base_uri": "https://localhost:8080/"
        },
        "id": "tM8iz_XkjlTg",
        "outputId": "ea27a4c4-8093-44a8-91bb-5e5527dfc40f"
      },
      "source": [
        "from sklearn.metrics import r2_score\n",
        "from scipy import stats\n",
        "\n",
        "x=i_val_upvote_ratio_0.values\n",
        "\n",
        "preds = model.predict(i_val_post_embeddings_0)\n",
        "preds = preds.flatten()\n",
        "preds = np.round(preds,2) #comment out for upvote ratio\n",
        "\n",
        "print('R squared: '+str(r2_score(x, preds)))\n",
        "print()\n",
        "pr = stats.pearsonr(x, preds)\n",
        "print('Pearson correlation: '+str(pr))\n",
        "print()\n",
        "\n",
        "print('Baseline check')\n",
        "\n",
        "correct = [preds[i] if preds[i] == x[i] else -1 for i in range(len(preds))]\n",
        "print('model:')\n",
        "print(sum([1 if i != -1 else 0 for i in correct]))\n",
        "\n",
        "\n",
        "#get accuracy if use mean as prediction\n",
        "\n",
        "preds_mean = [np.round(np.mean(x))]*len(x)\n",
        "correct = [preds_mean[i] if preds_mean[i] == x[i] else -1 for i in range(len(preds))]\n",
        "print('mean:')\n",
        "print(sum([1 if i != -1 else 0 for i in correct]))\n",
        "\n",
        "#get accuracy if use median as prediction\n",
        "preds_median = [np.round(np.median(x))]*len(x)\n",
        "correct = [preds_median[i] if preds_median[i] == x[i] else -1 for i in range(len(preds))]\n",
        "print('median:')\n",
        "print(sum([1 if i != -1 else 0 for i in correct]))\n",
        "\n",
        "\n",
        "#get accuracy if use mode as prediction\n",
        "import scipy.stats as stats\n",
        "preds_mode = [stats.mode(x)[0][0]]*len(x)\n",
        "correct = [preds_mode[i] if preds_mode[i] == x[i] else -1 for i in range(len(preds))]\n",
        "print('mode:')\n",
        "print(sum([1 if i != -1 else 0 for i in correct]))\n",
        "print()\n",
        "print('total:')\n",
        "print(len(preds))\n"
      ],
      "execution_count": null,
      "outputs": [
        {
          "output_type": "stream",
          "text": [
            "R squared: 0.01503315551384421\n",
            "\n",
            "Pearson correlation: (0.14401906425959488, 4.705047368339176e-15)\n",
            "\n",
            "Baseline check\n",
            "model:\n",
            "1\n",
            "mean:\n",
            "1001\n",
            "median:\n",
            "1001\n",
            "mode:\n",
            "1001\n",
            "\n",
            "total:\n",
            "2931\n"
          ],
          "name": "stdout"
        }
      ]
    },
    {
      "cell_type": "code",
      "metadata": {
        "colab": {
          "base_uri": "https://localhost:8080/",
          "height": 639
        },
        "id": "WOlPMSSJZfW3",
        "outputId": "106d4a2d-e012-4be1-9028-0719bbbad651"
      },
      "source": [
        "#plot out mse\n",
        "print('Final MSE of training data set: ' + str(np.mean(hist.history['mse'][-1])))\n",
        "print('Final MSE of validation data set: ' + str(np.mean(hist.history['val_mse'][-1])))\n",
        "print()\n",
        "#plot model loss over training and val\n",
        "plot_loss = plt.figure(1)\n",
        "plt.plot(range(epochs), hist.history['mse'], label = 'training')\n",
        "plt.plot(range(epochs), hist.history['val_mse'], label = 'validation')\n",
        "plt.title('Training/Validation MSE over time')\n",
        "plt.legend()\n",
        "plt.ylabel('Loss')\n",
        "plt.xlabel('Epochs')\n",
        "\n",
        "#plot model loss over training and val\n",
        "plot_loss = plt.figure(2)\n",
        "plt.plot(range(epochs), hist.history['loss'], label = 'training')\n",
        "plt.plot(range(epochs), hist.history['val_loss'], label = 'validation')\n",
        "plt.title('Training/Validation LOSS over time')\n",
        "plt.legend()\n",
        "plt.ylabel('Loss')\n",
        "plt.xlabel('Epochs')\n",
        "\n"
      ],
      "execution_count": null,
      "outputs": [
        {
          "output_type": "stream",
          "text": [
            "Final MSE of training data set: 0.03329571709036827\n",
            "Final MSE of validation data set: 0.033565010875463486\n",
            "\n"
          ],
          "name": "stdout"
        },
        {
          "output_type": "execute_result",
          "data": {
            "text/plain": [
              "Text(0.5, 0, 'Epochs')"
            ]
          },
          "metadata": {
            "tags": []
          },
          "execution_count": 105
        },
        {
          "output_type": "display_data",
          "data": {
            "image/png": "[encoded data removed]",
            "text/plain": [
              "<Figure size 432x288 with 1 Axes>"
            ]
          },
          "metadata": {
            "tags": []
          }
        },
        {
          "output_type": "display_data",
          "data": {
            "image/png": "[encoded data removed]",
            "text/plain": [
              "<Figure size 432x288 with 1 Axes>"
            ]
          },
          "metadata": {
            "tags": []
          }
        }
      ]
    },
    {
      "cell_type": "code",
      "metadata": {
        "colab": {
          "base_uri": "https://localhost:8080/"
        },
        "id": "rfZ1hhU8ep9o",
        "outputId": "431a7dd0-8b51-46d6-d4b5-15533d70775e"
      },
      "source": [
        "model.save(\"gdrive/MyDrive/NLP_final_project/i_w2v_0mincount_regression_upvoteratio.pt\")"
      ],
      "execution_count": null,
      "outputs": [
        {
          "output_type": "stream",
          "text": [
            "INFO:tensorflow:Assets written to: gdrive/MyDrive/NLP_final_project/i_w2v_0mincount_regression_upvoteratio.pt/assets\n"
          ],
          "name": "stdout"
        }
      ]
    },
    {
      "cell_type": "code",
      "metadata": {
        "id": "Q8_WLqlhP_0d"
      },
      "source": [
        "# x = i_val_num_comments.values\n",
        "\n",
        "# preds = model.predict(i_val_post_embeddings)\n",
        "# preds_diff = x - preds\n",
        "\n",
        "# #get prediction if all mean\n",
        "# preds_mean = [np.mean(x)]*len(x)\n",
        "# preds_mean_diff = x - preds_mean\n",
        "\n",
        "# preds_median = [np.median(x)]*len(x)\n",
        "# preds_median_diff = x - preds_median\n",
        "\n",
        "# plot = plt.figure(1)\n",
        "# plt.hist(preds_mean_diff, bins=20)\n",
        "# plt.title('Histogram of error when using mean as prediction ')\n",
        "# plt.xlabel('Error')\n",
        "\n",
        "# plot = plt.figure(2)\n",
        "# plt.hist(preds_median_diff, bins=20)\n",
        "# plt.title('Histogram of error when using median as prediction ')\n",
        "# plt.xlabel('Error')\n",
        "\n",
        "# plot = plt.figure(3)\n",
        "# plt.hist(preds_diff, bins=20)\n",
        "# plt.title('Histogram of error when using model as prediction ')\n",
        "# plt.xlabel('Error')\n"
      ],
      "execution_count": null,
      "outputs": []
    },
    {
      "cell_type": "markdown",
      "metadata": {
        "id": "TMw7wFJX9X6w"
      },
      "source": [
        "###For ttcafterloss"
      ]
    },
    {
      "cell_type": "code",
      "metadata": {
        "colab": {
          "base_uri": "https://localhost:8080/"
        },
        "id": "GkAl98I78eNs",
        "outputId": "4ec51585-dea0-4d09-9755-a35995eb30b9"
      },
      "source": [
        "device = torch.device(\"cuda:0\" if torch.cuda.is_available() else \"cpu\")\n",
        "\n",
        "num_features = t_train_post_embeddings_0.shape[1]\n",
        "\n",
        "epochs=25\n",
        "\n",
        "#initialize regression model\n",
        "model = Sequential()\n",
        "\n",
        "#add layers\n",
        "model.add(Dense(units=24, activation='linear', input_dim=num_features, name='hidden_layer_1'))\n",
        "model.add(Dense(units=32, activation='relu', input_dim=24, name='hidden_layer_2'))\n",
        "\n",
        "#format output correctly (linear function)\n",
        "model.add(Dense(units=1, activation='linear', name='output_layer')) \n",
        "\n",
        "#define optimizer function (stochastic gradient descent)\n",
        "opt = Adam(lr=0.0001)\n",
        "# opt = SGD(learning_rate=.001)\n",
        "\n",
        "model.compile(optimizer=opt, \n",
        "              loss='mean_squared_error', #use mean squared error\n",
        "              metrics=['mse']) \n",
        "\n",
        "model.summary() \n",
        "\n",
        "#Evaluation\n",
        "from keras.callbacks import History \n",
        "history = History() #save model metrics and loss per epoch\n",
        "\n",
        "\n",
        "#train model\n",
        "hist = model.fit(x=t_train_post_embeddings_0, \n",
        "         y = t_train_upvote_ratio_0,\n",
        "         batch_size=32,\n",
        "         validation_data = (t_val_post_embeddings_0, t_val_upvote_ratio_0),\n",
        "         epochs=epochs,\n",
        "         callbacks=[history] ,\n",
        "         verbose=0\n",
        "         ) #do not print log of every epoch"
      ],
      "execution_count": null,
      "outputs": [
        {
          "output_type": "stream",
          "text": [
            "Model: \"sequential_28\"\n",
            "_________________________________________________________________\n",
            "Layer (type)                 Output Shape              Param #   \n",
            "=================================================================\n",
            "hidden_layer_1 (Dense)       (None, 24)                2424      \n",
            "_________________________________________________________________\n",
            "hidden_layer_2 (Dense)       (None, 32)                800       \n",
            "_________________________________________________________________\n",
            "output_layer (Dense)         (None, 1)                 33        \n",
            "=================================================================\n",
            "Total params: 3,257\n",
            "Trainable params: 3,257\n",
            "Non-trainable params: 0\n",
            "_________________________________________________________________\n"
          ],
          "name": "stdout"
        }
      ]
    },
    {
      "cell_type": "code",
      "metadata": {
        "colab": {
          "base_uri": "https://localhost:8080/"
        },
        "id": "YtkhcR7HkQHG",
        "outputId": "2089387f-3ed1-4978-8a6d-ddb5e2436846"
      },
      "source": [
        "x"
      ],
      "execution_count": null,
      "outputs": [
        {
          "output_type": "execute_result",
          "data": {
            "text/plain": [
              "array([0.88, 0.72, 1.  , ..., 1.  , 1.  , 1.  ])"
            ]
          },
          "metadata": {
            "tags": []
          },
          "execution_count": 113
        }
      ]
    },
    {
      "cell_type": "code",
      "metadata": {
        "colab": {
          "base_uri": "https://localhost:8080/"
        },
        "id": "0cIDfYQEj-Iv",
        "outputId": "37615606-900b-418d-c84a-906ddffe7b92"
      },
      "source": [
        "from sklearn.metrics import r2_score\n",
        "from scipy import stats\n",
        "\n",
        "x=t_val_upvote_ratio_0.values\n",
        "\n",
        "preds = model.predict(t_val_post_embeddings_0)\n",
        "preds = preds.flatten()\n",
        "preds = np.round(preds)\n",
        "\n",
        "print('R squared: '+str(r2_score(x, preds)))\n",
        "print()\n",
        "pr = stats.pearsonr(x, preds)\n",
        "print('Pearson correlation: '+str(pr))\n",
        "print()\n",
        "\n",
        "print('Baseline check')\n",
        "\n",
        "correct = [preds[i] if preds[i] == x[i] else -1 for i in range(len(preds))]\n",
        "print('model:')\n",
        "print(sum([1 if i != -1 else 0 for i in correct]))\n",
        "\n",
        "\n",
        "#get accuracy if use mean as prediction\n",
        "\n",
        "preds_mean = [np.round(np.mean(x))]*len(x)\n",
        "correct = [preds_mean[i] if preds_mean[i] == x[i] else -1 for i in range(len(preds))]\n",
        "print('mean:')\n",
        "print(sum([1 if i != -1 else 0 for i in correct]))\n",
        "\n",
        "#get accuracy if use median as prediction\n",
        "preds_median = [np.round(np.median(x))]*len(x)\n",
        "correct = [preds_median[i] if preds_median[i] == x[i] else -1 for i in range(len(preds))]\n",
        "print('median:')\n",
        "print(sum([1 if i != -1 else 0 for i in correct]))\n",
        "\n",
        "\n",
        "#get accuracy if use mode as prediction\n",
        "import scipy.stats as stats\n",
        "preds_mode = [stats.mode(x)[0][0]]*len(x)\n",
        "correct = [preds_mode[i] if preds_mode[i] == x[i] else -1 for i in range(len(preds))]\n",
        "print('mode:')\n",
        "print(sum([1 if i != -1 else 0 for i in correct]))\n",
        "print()\n",
        "print('total:')\n",
        "print(len(preds))\n"
      ],
      "execution_count": null,
      "outputs": [
        {
          "output_type": "stream",
          "text": [
            "R squared: -0.3526227146771128\n",
            "\n",
            "Pearson correlation: (nan, nan)\n",
            "\n",
            "Baseline check\n",
            "model:\n",
            "855\n",
            "mean:\n",
            "855\n",
            "median:\n",
            "855\n",
            "mode:\n",
            "855\n",
            "\n",
            "total:\n",
            "1473\n"
          ],
          "name": "stdout"
        },
        {
          "output_type": "stream",
          "text": [
            "/usr/local/lib/python3.7/dist-packages/scipy/stats/stats.py:3508: PearsonRConstantInputWarning: An input array is constant; the correlation coefficent is not defined.\n",
            "  warnings.warn(PearsonRConstantInputWarning())\n"
          ],
          "name": "stderr"
        }
      ]
    },
    {
      "cell_type": "code",
      "metadata": {
        "colab": {
          "base_uri": "https://localhost:8080/",
          "height": 639
        },
        "id": "a5nyjnUQ9eBV",
        "outputId": "7d8b31dc-a75e-44ce-f9e7-04b5138b9d45"
      },
      "source": [
        "#plot out mse\n",
        "print('Final MSE of training data set: ' + str(np.mean(hist.history['mse'][-1])))\n",
        "print('Final MSE of validation data set: ' + str(np.mean(hist.history['val_mse'][-1])))\n",
        "print()\n",
        "#plot model loss over training and val\n",
        "plot_loss = plt.figure(1)\n",
        "plt.plot(range(epochs), hist.history['mse'], label = 'training')\n",
        "plt.plot(range(epochs), hist.history['val_mse'], label = 'validation')\n",
        "plt.title('Training/Validation MSE over time')\n",
        "plt.legend()\n",
        "plt.ylabel('MSE')\n",
        "plt.xlabel('Epochs')\n",
        "\n",
        "#plot model loss over training and val\n",
        "plot_loss = plt.figure(2)\n",
        "plt.plot(range(epochs), hist.history['loss'], label = 'training')\n",
        "plt.plot(range(epochs), hist.history['val_loss'], label = 'validation')\n",
        "plt.title('Training/Validation LOSS over time')\n",
        "plt.legend()\n",
        "plt.ylabel('Loss')\n",
        "plt.xlabel('Epochs')\n",
        "\n"
      ],
      "execution_count": null,
      "outputs": [
        {
          "output_type": "stream",
          "text": [
            "Final MSE of training data set: 0.011132210493087769\n",
            "Final MSE of validation data set: 0.011982993222773075\n",
            "\n"
          ],
          "name": "stdout"
        },
        {
          "output_type": "execute_result",
          "data": {
            "text/plain": [
              "Text(0.5, 0, 'Epochs')"
            ]
          },
          "metadata": {
            "tags": []
          },
          "execution_count": 111
        },
        {
          "output_type": "display_data",
          "data": {
            "image/png": "[encoded data removed]",
            "text/plain": [
              "<Figure size 432x288 with 1 Axes>"
            ]
          },
          "metadata": {
            "tags": []
          }
        },
        {
          "output_type": "display_data",
          "data": {
            "image/png": "[encoded data removed]",
            "text/plain": [
              "<Figure size 432x288 with 1 Axes>"
            ]
          },
          "metadata": {
            "tags": []
          }
        }
      ]
    },
    {
      "cell_type": "code",
      "metadata": {
        "colab": {
          "base_uri": "https://localhost:8080/"
        },
        "id": "jU93W599h1V6",
        "outputId": "75556c9a-db27-4f6a-b423-59a5a4ce36b7"
      },
      "source": [
        "model.save(\"gdrive/MyDrive/NLP_final_project/t_w2v_0mincount_regression_upvoteratio.pt\")"
      ],
      "execution_count": null,
      "outputs": [
        {
          "output_type": "stream",
          "text": [
            "INFO:tensorflow:Assets written to: gdrive/MyDrive/NLP_final_project/t_w2v_0mincount_regression_upvoteratio.pt/assets\n"
          ],
          "name": "stdout"
        }
      ]
    },
    {
      "cell_type": "code",
      "metadata": {
        "id": "DQ6HThlY9_uU"
      },
      "source": [
        "# x = t_val_num_comments.values\n",
        "\n",
        "# preds = model.predict(t_val_post_embeddings)\n",
        "# preds_diff = x - preds\n",
        "\n",
        "# #get prediction if all mean\n",
        "# preds_mean = [np.mean(x)]*len(x)\n",
        "# preds_mean_diff = x - preds_mean\n",
        "\n",
        "# preds_median = [np.median(x)]*len(x)\n",
        "# preds_median_diff = x - preds_median\n",
        "\n",
        "# plot = plt.figure(1)\n",
        "# plt.hist(preds_mean_diff, bins=20)\n",
        "# plt.title('Histogram of error when using mean as prediction ')\n",
        "# plt.xlabel('Error')\n",
        "\n",
        "# plot = plt.figure(2)\n",
        "# plt.hist(preds_median_diff, bins=20)\n",
        "# plt.title('Histogram of error when using median as prediction ')\n",
        "# plt.xlabel('Error')\n",
        "\n",
        "# plot = plt.figure(3)\n",
        "# plt.hist(preds_diff, bins=20)\n",
        "# plt.title('Histogram of error when using model as prediction ')\n",
        "# plt.xlabel('Error')\n"
      ],
      "execution_count": null,
      "outputs": []
    },
    {
      "cell_type": "markdown",
      "metadata": {
        "id": "ye9q-JrcPArM"
      },
      "source": [
        "###Classification for num_comments"
      ]
    },
    {
      "cell_type": "code",
      "metadata": {
        "colab": {
          "base_uri": "https://localhost:8080/"
        },
        "id": "oaRclOfq_5CA",
        "outputId": "92661385-9746-4ade-af7a-45aa02524ce5"
      },
      "source": [
        "device = torch.device(\"cuda:0\" if torch.cuda.is_available() else \"cpu\")\n",
        "\n",
        "num_features = i_train_post_embeddings_10.shape[1]\n",
        "print(num_features)\n",
        "\n",
        "epochs=35\n",
        "\n",
        "model = Sequential()\n",
        "\n",
        "#add layers\n",
        "model.add(Dense(units=24, activation='linear', input_dim=num_features, name='hidden_layer_1'))\n",
        "model.add(Dense(units=32, activation='relu', input_dim=24, name='hidden_layer_2'))\n",
        "# model.add(Dropout(rate=0.5))\n",
        "\n",
        "#format output correctly (linear function)\n",
        "# model.add(Dense(units=len(i_num_bins), activation='softmax', name='output_layer')) \n",
        "model.add(Dense(units=1, activation='sigmoid', name='output_layer')) \n",
        "\n",
        "#define optimizer function (stochastic gradient descent)\n",
        "opt = Adam(lr=.0001)\n",
        "\n",
        "model.compile(optimizer=opt, \n",
        "              # loss='categorical_crossentropy', #use mean squared error\n",
        "              loss = 'binary_crossentropy',\n",
        "              metrics=['accuracy','AUC' ]) \n",
        "# model.compile(optimizer=opt, \n",
        "#               loss='categorical_crossentropy', #use mean squared error\n",
        "#               metrics=['accuracy']) \n",
        "model.summary() \n",
        "\n",
        "#Evaluation\n",
        "from keras.callbacks import History \n",
        "history = History() #save model metrics and loss per epoch\n",
        "\n",
        "\n",
        "#train model\n",
        "hist = model.fit(x=i_train_post_embeddings_10, \n",
        "         y = np.array(i_train_upvote_ratio_2_10),\n",
        "         batch_size=32,\n",
        "         validation_data = (i_val_post_embeddings_10, np.array(i_val_upvote_ratio_2_10)),\n",
        "         epochs=epochs,\n",
        "         callbacks=[history] ,\n",
        "         verbose=0\n",
        "         ) #do not print log of every epoch"
      ],
      "execution_count": null,
      "outputs": [
        {
          "output_type": "stream",
          "text": [
            "100\n",
            "Model: \"sequential_25\"\n",
            "_________________________________________________________________\n",
            "Layer (type)                 Output Shape              Param #   \n",
            "=================================================================\n",
            "hidden_layer_1 (Dense)       (None, 24)                2424      \n",
            "_________________________________________________________________\n",
            "hidden_layer_2 (Dense)       (None, 32)                800       \n",
            "_________________________________________________________________\n",
            "output_layer (Dense)         (None, 1)                 33        \n",
            "=================================================================\n",
            "Total params: 3,257\n",
            "Trainable params: 3,257\n",
            "Non-trainable params: 0\n",
            "_________________________________________________________________\n"
          ],
          "name": "stdout"
        }
      ]
    },
    {
      "cell_type": "code",
      "metadata": {
        "colab": {
          "base_uri": "https://localhost:8080/"
        },
        "id": "e0BbzHi8kKm8",
        "outputId": "ec8d56f7-6575-43ba-f2c7-cb3fa5003aa8"
      },
      "source": [
        "x=i_val_upvote_ratio_2_10\n",
        "\n",
        "preds =model.predict(i_val_post_embeddings_10)\n",
        "preds = np.round(preds)\n",
        "correct = [preds[i] if preds[i] == x[i] else -1 for i in range(len(preds))]\n",
        "print('Using model as prediction')\n",
        "print(sum([1 if i != -1 else 0 for i in correct]))\n",
        "\n",
        "\n",
        "#get accuracy if use mean as prediction\n",
        "\n",
        "preds_mean = [np.round(np.mean(x))]*len(x)\n",
        "correct = [preds_mean[i] if preds_mean[i] == x[i] else -1 for i in range(len(preds))]\n",
        "print('Using mean as prediction')\n",
        "print(sum([1 if i != -1 else 0 for i in correct]))\n",
        "\n",
        "#get accuracy if use median as prediction\n",
        "preds_median = [np.round(np.median(x))]*len(x)\n",
        "correct = [preds_median[i] if preds_median[i] == x[i] else -1 for i in range(len(preds))]\n",
        "print('Using median as prediction')\n",
        "print(sum([1 if i != -1 else 0 for i in correct]))\n",
        "\n",
        "#get accuracy if use mode as prediction\n",
        "import scipy.stats as stats\n",
        "preds_mode = [stats.mode(x)[0][0]]*len(x)\n",
        "correct = [preds_mode[i] if preds_mode[i] == x[i] else -1 for i in range(len(preds))]\n",
        "print('Using mode as prediction')\n",
        "print(sum([1 if i != -1 else 0 for i in correct]))\n",
        "\n",
        "print('Total predictions')\n",
        "print(len(preds))\n"
      ],
      "execution_count": null,
      "outputs": [
        {
          "output_type": "stream",
          "text": [
            "Using model as prediction\n",
            "1615\n",
            "Using mean as prediction\n",
            "1511\n",
            "Using median as prediction\n",
            "1511\n",
            "Using mode as prediction\n",
            "1511\n",
            "Total predictions\n",
            "2878\n"
          ],
          "name": "stdout"
        }
      ]
    },
    {
      "cell_type": "code",
      "metadata": {
        "colab": {
          "base_uri": "https://localhost:8080/",
          "height": 999
        },
        "id": "6HfoWELJAb-e",
        "outputId": "7ab0aa5e-4d70-4f72-e00c-37d00eddb958"
      },
      "source": [
        "import matplotlib.pyplot as plt\n",
        "\n",
        "# Plot the training and validation loss vs. epochs\n",
        "print('Final accuracy of training data set: ' + str(hist.history['accuracy'][-1]))\n",
        "print('Final accuracy of validation data set: ' + str(hist.history['val_accuracy'][-1]))\n",
        "print()\n",
        "print('Final loss of training data set: ' + str(hist.history['loss'][-1]))\n",
        "print('Final loss of validation data set: ' + str(hist.history['val_loss'][-1]))\n",
        "print()\n",
        "print('Final AUC of training data set: ' + str(hist.history['auc'][-1]))\n",
        "print('Final AUC of validation data set: ' + str(hist.history['val_auc'][-1]))\n",
        "print()\n",
        "#plot model loss over training and val\n",
        "plot_loss = plt.figure(1)\n",
        "plt.plot(range(epochs), hist.history['loss'], label = 'training')\n",
        "plt.plot(range(epochs), hist.history['val_loss'], label = 'validation')\n",
        "plt.title('Training/Validation Loss over time')\n",
        "plt.legend()\n",
        "plt.ylabel('Loss')\n",
        "plt.xlabel('Epochs')\n",
        "\n",
        "#plot model accuracy over training and val\n",
        "plot_loss = plt.figure(2)\n",
        "plt.plot(range(epochs), hist.history['accuracy'], label = 'training')\n",
        "plt.plot(range(epochs), hist.history['val_accuracy'], label = 'validation')\n",
        "plt.title('Training/Validation Accuracy over time')\n",
        "plt.legend()\n",
        "plt.ylabel('Accuracy')\n",
        "plt.xlabel('Epochs')\n",
        "\n",
        "plot_loss = plt.figure(3)\n",
        "plt.plot(range(epochs), hist.history['auc'], label = 'training')\n",
        "plt.plot(range(epochs), hist.history['val_auc'], label = 'validation')\n",
        "plt.title('Training/Validation AUC over time')\n",
        "plt.legend()\n",
        "plt.ylabel('AUC')\n",
        "plt.xlabel('Epochs')\n",
        "\n",
        "plt.show()"
      ],
      "execution_count": null,
      "outputs": [
        {
          "output_type": "stream",
          "text": [
            "Final accuracy of training data set: 0.567030668258667\n",
            "Final accuracy of validation data set: 0.5611535906791687\n",
            "\n",
            "Final loss of training data set: 0.6800979375839233\n",
            "Final loss of validation data set: 0.6845418810844421\n",
            "\n",
            "Final AUC of training data set: 0.5880113840103149\n",
            "Final AUC of validation data set: 0.5754038691520691\n",
            "\n"
          ],
          "name": "stdout"
        },
        {
          "output_type": "display_data",
          "data": {
            "image/png": "[encoded data removed]",
            "text/plain": [
              "<Figure size 432x288 with 1 Axes>"
            ]
          },
          "metadata": {
            "tags": []
          }
        },
        {
          "output_type": "display_data",
          "data": {
            "image/png": "[encoded data removed]",
            "text/plain": [
              "<Figure size 432x288 with 1 Axes>"
            ]
          },
          "metadata": {
            "tags": []
          }
        },
        {
          "output_type": "display_data",
          "data": {
            "image/png": "[encoded data removed]",
            "text/plain": [
              "<Figure size 432x288 with 1 Axes>"
            ]
          },
          "metadata": {
            "tags": []
          }
        }
      ]
    },
    {
      "cell_type": "code",
      "metadata": {
        "colab": {
          "base_uri": "https://localhost:8080/"
        },
        "id": "kstCFbXWARkY",
        "outputId": "daec380e-a29b-41a2-ea00-070244cd080f"
      },
      "source": [
        "model.save(\"gdrive/MyDrive/NLP_final_project/i_w2v_10mincount_binary_upvote\")\n",
        "# !ls"
      ],
      "execution_count": null,
      "outputs": [
        {
          "output_type": "stream",
          "text": [
            "INFO:tensorflow:Assets written to: gdrive/MyDrive/NLP_final_project/i_w2v_10mincount_binary_upvote/assets\n"
          ],
          "name": "stdout"
        }
      ]
    },
    {
      "cell_type": "markdown",
      "metadata": {
        "id": "qCM1TcacDtCX"
      },
      "source": [
        "TTCAFTERLOSS"
      ]
    },
    {
      "cell_type": "code",
      "metadata": {
        "colab": {
          "base_uri": "https://localhost:8080/"
        },
        "id": "9yjLyAJUDq1s",
        "outputId": "f76f86c7-fec1-4c43-8cb3-ee1946ac08c3"
      },
      "source": [
        "device = torch.device(\"cuda:0\" if torch.cuda.is_available() else \"cpu\")\n",
        "\n",
        "num_features = t_train_post_embeddings_10.shape[1]\n",
        "\n",
        "epochs=20\n",
        "\n",
        "#initialize regression model\n",
        "model = Sequential()\n",
        "\n",
        "#add layers\n",
        "model.add(Dense(units=24, activation='linear', input_dim=num_features, name='hidden_layer_1'))\n",
        "model.add(Dense(units=32, activation='relu', input_dim=24, name='hidden_layer_2'))\n",
        "model.add(Dropout(rate=0.5))\n",
        "\n",
        "#format output correctly (linear function)\n",
        "# model.add(Dense(units=len(i_num_bins), activation='softmax', name='output_layer')) \n",
        "model.add(Dense(units=1, activation='sigmoid', name='output_layer')) \n",
        "\n",
        "#define optimizer function (stochastic gradient descent)\n",
        "opt = Adam(lr=.0001)\n",
        "# opt = SGD(learning_rate=.001)\n",
        "\n",
        "model.compile(optimizer=opt, \n",
        "              # loss='categorical_crossentropy', #use mean squared error\n",
        "              loss = 'binary_crossentropy',\n",
        "              metrics=['accuracy','AUC' ]) \n",
        "# model.compile(optimizer=opt, \n",
        "#               loss='categorical_crossentropy', #use mean squared error\n",
        "#               metrics=['accuracy']) \n",
        "model.summary() \n",
        "\n",
        "#Evaluation\n",
        "from keras.callbacks import History \n",
        "history = History() #save model metrics and loss per epoch\n",
        "\n",
        "\n",
        "#train model\n",
        "hist = model.fit(x=t_train_post_embeddings_10, \n",
        "         y = np.array(t_train_upvote_ratio_2_10),\n",
        "         batch_size=32,\n",
        "         validation_data = (t_val_post_embeddings_10, np.array(t_val_upvote_ratio_2_10)),\n",
        "         epochs=epochs,\n",
        "         callbacks=[history] ,\n",
        "         verbose=0\n",
        "         ) #do not print log of every epoch"
      ],
      "execution_count": null,
      "outputs": [
        {
          "output_type": "stream",
          "text": [
            "Model: \"sequential_28\"\n",
            "_________________________________________________________________\n",
            "Layer (type)                 Output Shape              Param #   \n",
            "=================================================================\n",
            "hidden_layer_1 (Dense)       (None, 24)                2424      \n",
            "_________________________________________________________________\n",
            "hidden_layer_2 (Dense)       (None, 32)                800       \n",
            "_________________________________________________________________\n",
            "dropout (Dropout)            (None, 32)                0         \n",
            "_________________________________________________________________\n",
            "output_layer (Dense)         (None, 1)                 33        \n",
            "=================================================================\n",
            "Total params: 3,257\n",
            "Trainable params: 3,257\n",
            "Non-trainable params: 0\n",
            "_________________________________________________________________\n"
          ],
          "name": "stdout"
        }
      ]
    },
    {
      "cell_type": "code",
      "metadata": {
        "colab": {
          "base_uri": "https://localhost:8080/"
        },
        "id": "Sxxg8_nMkrPe",
        "outputId": "62214d9c-3577-4155-ebc7-a97fb79d8fa2"
      },
      "source": [
        "x=t_val_upvote_ratio_2_10\n",
        "\n",
        "preds =model.predict(t_val_post_embeddings_10)\n",
        "preds = np.round(preds)\n",
        "correct = [preds[i] if preds[i] == x[i] else -1 for i in range(len(preds))]\n",
        "print(sum([1 if i != -1 else 0 for i in correct]))\n",
        "\n",
        "#get accuracy if use mean as prediction\n",
        "\n",
        "preds_mean = [np.round(np.mean(x))]*len(x)\n",
        "correct = [preds_mean[i] if preds_mean[i] == x[i] else -1 for i in range(len(preds))]\n",
        "print(sum([1 if i != -1 else 0 for i in correct]))\n",
        "\n",
        "#get accuracy if use median as prediction\n",
        "preds_median = [np.round(np.median(x))]*len(x)\n",
        "correct = [preds_median[i] if preds_median[i] == x[i] else -1 for i in range(len(preds))]\n",
        "print(sum([1 if i != -1 else 0 for i in correct]))\n",
        "\n",
        "#get accuracy if use mode as prediction\n",
        "import scipy.stats as stats\n",
        "preds_mode = [stats.mode(x)[0][0]]*len(x)\n",
        "correct = [preds_mode[i] if preds_mode[i] == x[i] else -1 for i in range(len(preds))]\n",
        "print(sum([1 if i != -1 else 0 for i in correct]))\n",
        "\n",
        "\n",
        "print(len(preds))\n"
      ],
      "execution_count": null,
      "outputs": [
        {
          "output_type": "stream",
          "text": [
            "1150\n",
            "1150\n",
            "1150\n",
            "1150\n",
            "1460\n"
          ],
          "name": "stdout"
        }
      ]
    },
    {
      "cell_type": "code",
      "metadata": {
        "colab": {
          "base_uri": "https://localhost:8080/",
          "height": 999
        },
        "id": "9Fen2LN5Dyx6",
        "outputId": "a426a4b3-d6b3-45fd-8254-fde3831b14c6"
      },
      "source": [
        "import matplotlib.pyplot as plt\n",
        "\n",
        "# Plot the training and validation loss vs. epochs\n",
        "print('Final accuracy of training data set: ' + str(hist.history['accuracy'][-1]))\n",
        "print('Final accuracy of validation data set: ' + str(hist.history['val_accuracy'][-1]))\n",
        "print()\n",
        "print('Final loss of training data set: ' + str(hist.history['loss'][-1]))\n",
        "print('Final loss of validation data set: ' + str(hist.history['val_loss'][-1]))\n",
        "print()\n",
        "print('Final AUC of training data set: ' + str(hist.history['auc'][-1]))\n",
        "print('Final AUC of validation data set: ' + str(hist.history['val_auc'][-1]))\n",
        "print()\n",
        "#plot model loss over training and val\n",
        "plot_loss = plt.figure(1)\n",
        "plt.plot(range(epochs), hist.history['loss'], label = 'training')\n",
        "plt.plot(range(epochs), hist.history['val_loss'], label = 'validation')\n",
        "plt.title('Training/Validation Loss over time')\n",
        "plt.legend()\n",
        "plt.ylabel('Loss')\n",
        "plt.xlabel('Epochs')\n",
        "\n",
        "#plot model accuracy over training and val\n",
        "plot_loss = plt.figure(2)\n",
        "plt.plot(range(epochs), hist.history['accuracy'], label = 'training')\n",
        "plt.plot(range(epochs), hist.history['val_accuracy'], label = 'validation')\n",
        "plt.title('Training/Validation Accuracy over time')\n",
        "plt.legend()\n",
        "plt.ylabel('Accuracy')\n",
        "plt.xlabel('Epochs')\n",
        "\n",
        "plot_loss = plt.figure(3)\n",
        "plt.plot(range(epochs), hist.history['auc'], label = 'training')\n",
        "plt.plot(range(epochs), hist.history['val_auc'], label = 'validation')\n",
        "plt.title('Training/Validation AUC over time')\n",
        "plt.legend()\n",
        "plt.ylabel('AUC')\n",
        "plt.xlabel('Epochs')\n",
        "\n",
        "plt.show()"
      ],
      "execution_count": null,
      "outputs": [
        {
          "output_type": "stream",
          "text": [
            "Final accuracy of training data set: 0.8036081194877625\n",
            "Final accuracy of validation data set: 0.7876712083816528\n",
            "\n",
            "Final loss of training data set: 0.5087966322898865\n",
            "Final loss of validation data set: 0.5165573954582214\n",
            "\n",
            "Final AUC of training data set: 0.49837809801101685\n",
            "Final AUC of validation data set: 0.5263814926147461\n",
            "\n"
          ],
          "name": "stdout"
        },
        {
          "output_type": "display_data",
          "data": {
            "image/png": "[encoded data removed]",
            "text/plain": [
              "<Figure size 432x288 with 1 Axes>"
            ]
          },
          "metadata": {
            "tags": []
          }
        },
        {
          "output_type": "display_data",
          "data": {
            "image/png": "[encoded data removed]",
            "text/plain": [
              "<Figure size 432x288 with 1 Axes>"
            ]
          },
          "metadata": {
            "tags": []
          }
        },
        {
          "output_type": "display_data",
          "data": {
            "image/png": "[encoded data removed]",
            "text/plain": [
              "<Figure size 432x288 with 1 Axes>"
            ]
          },
          "metadata": {
            "tags": []
          }
        }
      ]
    },
    {
      "cell_type": "markdown",
      "metadata": {
        "id": "pI1wcHe1I_U7"
      },
      "source": [
        "##Simple language model (LSTM) "
      ]
    },
    {
      "cell_type": "code",
      "metadata": {
        "id": "2z2lVZMNx2qd"
      },
      "source": [
        "##generate whole post lists\n",
        "import itertools\n",
        "\n",
        "def post_from_sentence_tokenized(_texts, _tokenized, min_words):\n",
        "  #get number of sentences per post\n",
        "  num_sent_per_post = [post[0].count('], [') + 1 for post in _texts]\n",
        "\n",
        "  #initialize return value and from index\n",
        "  fr_index=0\n",
        "  post_tokenized = []\n",
        "\n",
        "  #get number of posts above threshold\n",
        "  num_words_per_post = [post[0].count(' ') for post in _texts]\n",
        "  above_thresh = [1 if i > min_words else 0 for i in num_words_per_post ]\n",
        "\n",
        "  #SUM the corresponding number of sentence embeddings together to get post embeddings \n",
        "  for i in range(len(num_sent_per_post)):\n",
        "    to_index = fr_index + num_sent_per_post[i]\n",
        "    targ_sentences = _tokenized[fr_index:to_index + 1]\n",
        "    targ_post = list(itertools.chain(*targ_sentences))\n",
        "    fr_index = to_index + 1\n",
        "    \n",
        "    if above_thresh[i] == 1:\n",
        "        post_tokenized.append(targ_post)\n",
        "  return post_tokenized"
      ],
      "execution_count": 15,
      "outputs": []
    },
    {
      "cell_type": "code",
      "metadata": {
        "id": "iNPwO4pC3oMK"
      },
      "source": [
        "i_train_post_tokenized_0 = post_from_sentence_tokenized(i_train_texts, i_tokenized_train, 0)\n",
        "i_val_post_tokenized_0 = post_from_sentence_tokenized(i_val_texts, i_tokenized_val, 0)\n",
        "\n",
        "t_train_post_tokenized_0 = post_from_sentence_tokenized(t_train_texts, t_tokenized_train, 0)\n",
        "t_val_post_tokenized_0 = post_from_sentence_tokenized(t_val_texts, t_tokenized_train, 0)"
      ],
      "execution_count": 16,
      "outputs": []
    },
    {
      "cell_type": "code",
      "metadata": {
        "id": "lNqf7c29BKDM"
      },
      "source": [
        ""
      ],
      "execution_count": null,
      "outputs": []
    },
    {
      "cell_type": "code",
      "metadata": {
        "colab": {
          "base_uri": "https://localhost:8080/"
        },
        "id": "Cake1ojLAoq6",
        "outputId": "2e155e64-6aac-4528-8e13-fab95b06fc11"
      },
      "source": [
        "len(np.where(combined_train > 16)[0])"
      ],
      "execution_count": 51,
      "outputs": [
        {
          "output_type": "execute_result",
          "data": {
            "text/plain": [
              "4295"
            ]
          },
          "metadata": {
            "tags": []
          },
          "execution_count": 51
        }
      ]
    },
    {
      "cell_type": "code",
      "metadata": {
        "colab": {
          "base_uri": "https://localhost:8080/"
        },
        "id": "5BRStv7EHZGU",
        "outputId": "53a79ce1-4b6c-4f87-a7db-350917249cce"
      },
      "source": [
        "lens=[]\n",
        "for i in i_train_post_tokenized_0:\n",
        "  lens.append(len(i))\n",
        "sum(lens)   / len(lens)\n",
        "\n",
        "max(lens)"
      ],
      "execution_count": 45,
      "outputs": [
        {
          "output_type": "execute_result",
          "data": {
            "text/plain": [
              "4613"
            ]
          },
          "metadata": {
            "tags": []
          },
          "execution_count": 45
        }
      ]
    },
    {
      "cell_type": "code",
      "metadata": {
        "id": "mZ1sWpB-u7G-"
      },
      "source": [
        "#preprocessing, input into model is different than Word2vec. Needs integer-mapped and padded word sequences.\n",
        "from tensorflow.keras.preprocessing.sequence import pad_sequences\n",
        "\n",
        "\n",
        "#pad sequences\n",
        "seq_len = 2000\n",
        "\n",
        "i_train_padded = pad_sequences(i_train_post_tokenized_0, maxlen=seq_len)\n",
        "i_val_padded = pad_sequences(i_val_post_tokenized_0, maxlen=seq_len)\n",
        "\n",
        "t_train_padded = pad_sequences(t_train_post_tokenized_0, maxlen=seq_len)\n",
        "t_val_padded = pad_sequences(t_val_post_tokenized_0, maxlen=seq_len)"
      ],
      "execution_count": 17,
      "outputs": []
    },
    {
      "cell_type": "markdown",
      "metadata": {
        "id": "bzT4mvTbofzL"
      },
      "source": [
        "#Model for regression - combined"
      ]
    },
    {
      "cell_type": "code",
      "metadata": {
        "colab": {
          "base_uri": "https://localhost:8080/"
        },
        "id": "9zHZlr3Baa-9",
        "outputId": "9acd88f2-250f-4fd3-dff7-86a42f8a947e"
      },
      "source": [
        "topic_df = pd.read_csv('gdrive/MyDrive/NLP_final_project/10_all_posts_with_comment_topics.txt')\n",
        "topic_df[topic_df.data_split == 'test'].shape\n",
        "# topic_df.head()"
      ],
      "execution_count": 123,
      "outputs": [
        {
          "output_type": "execute_result",
          "data": {
            "text/plain": [
              "(4461, 17)"
            ]
          },
          "metadata": {
            "tags": []
          },
          "execution_count": 123
        }
      ]
    },
    {
      "cell_type": "code",
      "metadata": {
        "id": "VPCI0uwczKPY"
      },
      "source": [
        "#read in topic modeling outcomes\n",
        "topic_df = pd.read_csv('gdrive/MyDrive/NLP_final_project/10_all_posts_with_comment_topics.txt')\n",
        "\n",
        "topic_df = topic_df[[\"id\", \"max_mean_topic\", \"mode_max_topic\"]]\n",
        "\n",
        "infertility_train_new = infertility_train.merge(topic_df, on = \"id\") #lsuffix=\"id\", rsuffix=\"id\")\n",
        "infertility_val_new = infertility_val.merge(topic_df, on = \"id\")\n",
        "afterloss_train_new = afterloss_train.merge(topic_df, on = \"id\")\n",
        "afterloss_val_new = afterloss_val.merge(topic_df, on = \"id\")\n",
        "\n",
        "i_train_mode = infertility_train_new.mode_max_topic\n",
        "i_val_mode = infertility_val_new.mode_max_topic\n",
        "t_train_mode = afterloss_train_new.mode_max_topic\n",
        "t_val_mode = afterloss_val_new.mode_max_topic\n",
        "\n",
        "i_train_mean = infertility_train_new.max_mean_topic\n",
        "i_val_mean = infertility_val_new.max_mean_topic\n",
        "t_train_mean = afterloss_train_new.max_mean_topic\n",
        "t_val_mean = afterloss_val_new.max_mean_topic\n",
        "\n",
        "#get corresponding max mean topic ouTcome\n",
        "\n",
        "num_words_per_post = np.array([post[0].count(' ') for post in i_train_texts])\n",
        "filter_indices = np.where(num_words_per_post > threshold)[0].tolist()\n",
        "i_train_mean_0 = np.take(i_train_mean, filter_indices,0)\n",
        "\n",
        "num_words_per_post = np.array([post[0].count(' ') for post in i_val_texts])\n",
        "filter_indices = np.where(num_words_per_post > threshold)[0].tolist()\n",
        "i_val_mean_0 = np.take(i_val_mean, filter_indices,0)\n",
        "\n",
        "num_words_per_post = np.array([post[0].count(' ') for post in t_train_texts])\n",
        "filter_indices = np.where(num_words_per_post > threshold)[0].tolist()\n",
        "t_train_mean_0 = np.take(t_train_mean, filter_indices,0)\n",
        "\n",
        "num_words_per_post = np.array([post[0].count(' ') for post in t_val_texts])\n",
        "filter_indices = np.where(num_words_per_post > threshold)[0].tolist()\n",
        "t_val_mean_0 = np.take(t_val_mean, filter_indices,0)\n",
        "\n",
        "#get corresponding mode max topic outcome\n",
        "\n",
        "num_words_per_post = np.array([post[0].count(' ') for post in i_train_texts])\n",
        "filter_indices = np.where(num_words_per_post > threshold)[0].tolist()\n",
        "i_train_mode_0 = np.take(i_train_mode, filter_indices,0)\n",
        "\n",
        "num_words_per_post = np.array([post[0].count(' ') for post in i_val_texts])\n",
        "filter_indices = np.where(num_words_per_post > threshold)[0].tolist()\n",
        "i_val_mode_0 = np.take(i_val_mode, filter_indices,0)\n",
        "\n",
        "num_words_per_post = np.array([post[0].count(' ') for post in t_train_texts])\n",
        "filter_indices = np.where(num_words_per_post > threshold)[0].tolist()\n",
        "t_train_mode_0 = np.take(t_train_mode, filter_indices,0)\n",
        "\n",
        "num_words_per_post = np.array([post[0].count(' ') for post in t_val_texts])\n",
        "filter_indices = np.where(num_words_per_post > threshold)[0].tolist()\n",
        "t_val_mode_0 = np.take(t_val_mode, filter_indices,0)"
      ],
      "execution_count": 18,
      "outputs": []
    },
    {
      "cell_type": "code",
      "metadata": {
        "id": "Eo2CWeuZB4n-"
      },
      "source": [
        "\n",
        "# topic_df[topic_df.id == '2t6afv']\n",
        "# # afterloss_val_new[afterloss_val_new.id== '2t6afv']"
      ],
      "execution_count": 18,
      "outputs": []
    },
    {
      "cell_type": "code",
      "metadata": {
        "id": "n0ewbxQWBuFh"
      },
      "source": [
        "# topic_df = pd.read_csv('gdrive/MyDrive/NLP_final_project/10_all_posts_with_comment_topics.txt')\n",
        "# topic_df.head(30)"
      ],
      "execution_count": 19,
      "outputs": []
    },
    {
      "cell_type": "code",
      "metadata": {
        "colab": {
          "base_uri": "https://localhost:8080/"
        },
        "id": "rKU60vP7prrX",
        "outputId": "710ef726-eabd-442c-b145-4003a1433afb"
      },
      "source": [
        "num_words_per_post = np.array([post[0].count(' ') for post in i_train_texts])\n",
        "filter_indices = np.where(num_words_per_post > threshold)[0].tolist()\n",
        "i_ids = infertility_train_new.id.values\n",
        "i_ids = np.take(i_ids, filter_indices)\n",
        "\n",
        "num_words_per_post = np.array([post[0].count(' ') for post in t_train_texts])\n",
        "filter_indices = np.where(num_words_per_post > threshold)[0].tolist()\n",
        "t_ids = afterloss_train_new.id.values\n",
        "t_ids = np.take(t_ids, filter_indices)\n",
        "\n",
        "combined_ids = np.concatenate([i_ids, t_ids],axis=0)\n",
        "print(combined_ids.shape)\n",
        "\n",
        "# combined_train_posts.shape\n"
      ],
      "execution_count": 19,
      "outputs": [
        {
          "output_type": "stream",
          "text": [
            "(13237,)\n"
          ],
          "name": "stdout"
        }
      ]
    },
    {
      "cell_type": "code",
      "metadata": {
        "id": "milfZRwvxDEj"
      },
      "source": [
        ""
      ],
      "execution_count": null,
      "outputs": []
    },
    {
      "cell_type": "code",
      "metadata": {
        "colab": {
          "base_uri": "https://localhost:8080/"
        },
        "id": "DnbRpWIhofTc",
        "outputId": "8376cdf7-f88e-4438-cc8e-31d811e8379b"
      },
      "source": [
        "##Dataset for both infertility and TTC\n",
        "print(i_train_padded.shape, t_train_padded.shape)\n",
        "combined_train_posts = np.concatenate([i_train_padded,t_train_padded], axis=0)\n",
        "\n",
        "combined_val_posts = np.concatenate([i_val_padded,t_val_padded], axis=0)\n",
        "\n",
        "print(i_reps_word2vec.shape, t_reps_word2vec.shape)\n",
        "combined_reps = torch.cat([i_reps_word2vec, t_reps_word2vec], axis=1)\n",
        "print(combined_reps.shape)\n",
        "\n",
        "#outcome, comments\n",
        "i_outcome, t_outcome = i_train_num_comments_0.values, t_train_num_comments_0.values\n",
        "combined_train = np.concatenate([i_outcome, t_outcome], axis=0)\n",
        "\n",
        "i_outcome, t_outcome = i_val_num_comments_0.values, t_val_num_comments_0.values\n",
        "combined_val = np.concatenate([i_outcome, t_outcome], axis=0)\n",
        "\n",
        "#outcome, upvote ratio\n",
        "i_outcome_vote, t_outcome_vote = i_train_upvote_ratio_0.values, t_train_upvote_ratio_0.values\n",
        "combined_train_uv = np.concatenate([i_outcome_vote, t_outcome_vote], axis=0)\n",
        "\n",
        "i_outcome_vote, t_outcome_vote = i_val_upvote_ratio_0.values, t_val_upvote_ratio_0.values\n",
        "combined_val_uv = np.concatenate([i_outcome_vote, t_outcome_vote], axis=0)\n",
        "\n",
        "#outcome, topic max mean \n",
        "i_outcome_vote, t_outcome_vote = i_train_mean_0.values, t_train_mean_0.values\n",
        "combined_train_mean = np.concatenate([i_outcome_vote, t_outcome_vote], axis=0)\n",
        "\n",
        "i_outcome_vote, t_outcome_vote = i_val_mean_0.values, t_val_mean_0.values\n",
        "combined_val_mean = np.concatenate([i_outcome_vote, t_outcome_vote], axis=0)\n",
        "\n",
        "#outcome, topic mode max  \n",
        "i_outcome_vote, t_outcome_vote = i_train_mode_0.values, t_train_mode_0.values\n",
        "combined_train_mode = np.concatenate([i_outcome_vote, t_outcome_vote], axis=0)\n",
        "\n",
        "i_outcome_vote, t_outcome_vote = i_val_mode_0.values, t_val_mode_0.values\n",
        "combined_val_mode = np.concatenate([i_outcome_vote, t_outcome_vote], axis=0)\n",
        "\n",
        "\n",
        "\n"
      ],
      "execution_count": 20,
      "outputs": [
        {
          "output_type": "stream",
          "text": [
            "(8815, 2000) (4422, 2000)\n",
            "torch.Size([10000, 100]) torch.Size([10000, 100])\n",
            "torch.Size([10000, 200])\n"
          ],
          "name": "stdout"
        }
      ]
    },
    {
      "cell_type": "code",
      "metadata": {
        "id": "cYtMYWVpEIMm"
      },
      "source": [
        "#find posts with with 0 comments, for topic outcomes only\n",
        "\n",
        "filter_indices = np.where(np.invert(np.isnan(combined_train_mean)))[0].tolist()\n",
        "combined_train_posts_wcomments = np.take(combined_train_posts, filter_indices,0)\n",
        "combined_train_mean = np.take(combined_train_mean, filter_indices,0)\n",
        "combined_train_mode = np.take(combined_train_mode, filter_indices,0)\n",
        "\n",
        "combined_ids_wcomments = np.take(combined_ids, filter_indices,0)\n",
        "\n",
        "filter_indices = np.where(np.invert(np.isnan(combined_val_mean)))[0].tolist()\n",
        "combined_val_posts_wcomments = np.take(combined_val_posts, filter_indices,0)\n",
        "combined_val_mean = np.take(combined_val_mean, filter_indices,0)\n",
        "combined_val_mode = np.take(combined_val_mode, filter_indices,0)\n",
        "\n",
        "\n",
        "#binarize topic mean and mode\n",
        "\n",
        "from sklearn.preprocessing import LabelBinarizer\n",
        "topic_transformer = LabelBinarizer()\n",
        "\n",
        "combined_train_mean_binarized = topic_transformer.fit_transform(combined_train_mean)\n",
        "combined_val_mean_binarized = topic_transformer.fit_transform(combined_val_mean)\n",
        "\n",
        "combined_train_mode_binarized = topic_transformer.fit_transform(combined_train_mode)\n",
        "combined_val_mode_binarized = topic_transformer.fit_transform(combined_val_mode)"
      ],
      "execution_count": 21,
      "outputs": []
    },
    {
      "cell_type": "code",
      "metadata": {
        "colab": {
          "base_uri": "https://localhost:8080/",
          "height": 228
        },
        "id": "lwwRhqH6Jngz",
        "outputId": "44fb389d-5cee-499d-f643-6933f788a658"
      },
      "source": [
        "#binarize upvote bins\n",
        "\n",
        "combined_train_uv_binned\n",
        "\n",
        "from sklearn.preprocessing import LabelBinarizer\n",
        "uv_transformer = LabelBinarizer()\n",
        "\n",
        "combined_train_uv_binarized = uv_transformer.fit_transform(combined_train_uv_binned)\n",
        "combined_val_uv_binarized = uv_transformer.fit_transform(combined_val_uv_binned)\n"
      ],
      "execution_count": 22,
      "outputs": [
        {
          "output_type": "error",
          "ename": "NameError",
          "evalue": "ignored",
          "traceback": [
            "\u001b[0;31m---------------------------------------------------------------------------\u001b[0m",
            "\u001b[0;31mNameError\u001b[0m                                 Traceback (most recent call last)",
            "\u001b[0;32m<ipython-input-22-fed52386741c>\u001b[0m in \u001b[0;36m<module>\u001b[0;34m()\u001b[0m\n\u001b[1;32m      1\u001b[0m \u001b[0;31m#binarize upvote bins\u001b[0m\u001b[0;34m\u001b[0m\u001b[0;34m\u001b[0m\u001b[0;34m\u001b[0m\u001b[0m\n\u001b[1;32m      2\u001b[0m \u001b[0;34m\u001b[0m\u001b[0m\n\u001b[0;32m----> 3\u001b[0;31m \u001b[0mcombined_train_uv_binned\u001b[0m\u001b[0;34m\u001b[0m\u001b[0;34m\u001b[0m\u001b[0m\n\u001b[0m\u001b[1;32m      4\u001b[0m \u001b[0;34m\u001b[0m\u001b[0m\n\u001b[1;32m      5\u001b[0m \u001b[0;32mfrom\u001b[0m \u001b[0msklearn\u001b[0m\u001b[0;34m.\u001b[0m\u001b[0mpreprocessing\u001b[0m \u001b[0;32mimport\u001b[0m \u001b[0mLabelBinarizer\u001b[0m\u001b[0;34m\u001b[0m\u001b[0;34m\u001b[0m\u001b[0m\n",
            "\u001b[0;31mNameError\u001b[0m: name 'combined_train_uv_binned' is not defined"
          ]
        }
      ]
    },
    {
      "cell_type": "markdown",
      "metadata": {
        "id": "bB744UXGj--U"
      },
      "source": [
        "Load saved models, if any"
      ]
    },
    {
      "cell_type": "code",
      "metadata": {
        "colab": {
          "base_uri": "https://localhost:8080/"
        },
        "id": "XqOWR3t_kBVZ",
        "outputId": "b397a4ea-6405-481a-c9c5-e0ec02057ddc"
      },
      "source": [
        "vote_model = load_model('gdrive/MyDrive/NLP_final_project/it_lstm_0mincount_regression_upvote_NEW')\n",
        "vote_model.summary()\n",
        "\n",
        "new_model= Model(inputs=vote_model.input, outputs=vote_model.layers[-2].output)\n",
        "new_model.summary()\n",
        "\n",
        "results = vote_model.evaluate(combined_val_posts, combined_val_uv_binarized, batch_size=128)\n",
        "print(results)"
      ],
      "execution_count": 31,
      "outputs": [
        {
          "output_type": "stream",
          "text": [
            "Model: \"model_4\"\n",
            "_________________________________________________________________\n",
            "Layer (type)                 Output Shape              Param #   \n",
            "=================================================================\n",
            "input_5 (InputLayer)         [(None, 2000)]            0         \n",
            "_________________________________________________________________\n",
            "embedding (Embedding)        (None, 2000, 100)         1000000   \n",
            "_________________________________________________________________\n",
            "lstm_4 (LSTM)                (None, 10)                4440      \n",
            "_________________________________________________________________\n",
            "output_layer (Dense)         (None, 3)                 33        \n",
            "=================================================================\n",
            "Total params: 1,004,473\n",
            "Trainable params: 1,004,473\n",
            "Non-trainable params: 0\n",
            "_________________________________________________________________\n",
            "Model: \"model\"\n",
            "_________________________________________________________________\n",
            "Layer (type)                 Output Shape              Param #   \n",
            "=================================================================\n",
            "input_5 (InputLayer)         [(None, 2000)]            0         \n",
            "_________________________________________________________________\n",
            "embedding (Embedding)        (None, 2000, 100)         1000000   \n",
            "_________________________________________________________________\n",
            "lstm_4 (LSTM)                (None, 10)                4440      \n",
            "=================================================================\n",
            "Total params: 1,004,440\n",
            "Trainable params: 1,004,440\n",
            "Non-trainable params: 0\n",
            "_________________________________________________________________\n",
            "35/35 [==============================] - 33s 47ms/step - loss: 1.0712 - precision_2: 0.5009 - recall_2: 0.0614 - accuracy: 0.4184\n",
            "[1.071240782737732, 0.5009242296218872, 0.061353858560323715, 0.41838350892066956]\n"
          ],
          "name": "stdout"
        }
      ]
    },
    {
      "cell_type": "code",
      "metadata": {
        "id": "nVqyhO8fJnP1"
      },
      "source": [
        ""
      ],
      "execution_count": null,
      "outputs": []
    },
    {
      "cell_type": "code",
      "metadata": {
        "id": "ziiaWGrjHU-C"
      },
      "source": [
        "# preds = comments_model.predict(combined_train_posts)\n",
        "# preds = preds.flatten()\n",
        "\n",
        "\n",
        "# train_comments_embeddings = new_model.predict(combined_train_posts)\n",
        "train_vote_embeddings = new_model.predict(combined_train_posts)\n",
        "\n",
        "\n",
        "#for upvote ratio, add a layer thats sigmoid and get predictions from that\n",
        " \n",
        "\n"
      ],
      "execution_count": 35,
      "outputs": []
    },
    {
      "cell_type": "markdown",
      "metadata": {
        "id": "T_v6TY-_nRde"
      },
      "source": [
        "Get LSTM embeddings"
      ]
    },
    {
      "cell_type": "code",
      "metadata": {
        "colab": {
          "base_uri": "https://localhost:8080/"
        },
        "id": "n0kU9ZG13uHw",
        "outputId": "9645d44d-c73a-4857-b62e-95f71fa6125d"
      },
      "source": [
        "combined_val_posts_wcomments.shape\n",
        "combined_val_posts.shape"
      ],
      "execution_count": 40,
      "outputs": [
        {
          "output_type": "execute_result",
          "data": {
            "text/plain": [
              "(4417, 2000)"
            ]
          },
          "metadata": {
            "tags": []
          },
          "execution_count": 40
        }
      ]
    },
    {
      "cell_type": "code",
      "metadata": {
        "id": "0BMTOZC8Xboy"
      },
      "source": [
        "preds = vote_model.predict(combined_val_posts)\n",
        "preds = preds.flatten()\n",
        "preds = np.round(preds,2) #comment out for upvote ratio\n",
        "# np.where(preds > 1)"
      ],
      "execution_count": 69,
      "outputs": []
    },
    {
      "cell_type": "code",
      "metadata": {
        "colab": {
          "base_uri": "https://localhost:8080/"
        },
        "id": "JKHyF-tInI1g",
        "outputId": "90ed698f-fe0f-41c4-dc4c-591fcccc3964"
      },
      "source": [
        "# train_comments_embeddings = new_model.predict(combined_train_posts)\n",
        "\n",
        "from sklearn.metrics import r2_score\n",
        "from scipy import stats\n",
        "\n",
        "x=combined_val_uv\n",
        "\n",
        "# preds = np.round(preds,1)\n",
        "\n",
        "print('R squared: '+str(r2_score(x, preds)))\n",
        "print()\n",
        "pr = stats.pearsonr(x, preds)\n",
        "print('Pearson correlation: '+str(pr))\n",
        "print()\n",
        "\n",
        "print('Baseline check')\n",
        "\n",
        "correct = [preds[i] if preds[i] == x[i] else -1 for i in range(len(preds))]\n",
        "print('model:')\n",
        "print(sum([1 if i != -1 else 0 for i in correct]))\n",
        "\n",
        "\n",
        "#get accuracy if use mean as prediction\n",
        "\n",
        "preds_mean = [np.round(np.mean(x))]*len(x)\n",
        "correct = [preds_mean[i] if preds_mean[i] == x[i] else -1 for i in range(len(preds))]\n",
        "print('mean:')\n",
        "print(sum([1 if i != -1 else 0 for i in correct]))\n",
        "\n",
        "#get accuracy if use median as prediction\n",
        "preds_median = [np.round(np.median(x))]*len(x)\n",
        "correct = [preds_median[i] if preds_median[i] == x[i] else -1 for i in range(len(preds))]\n",
        "print('median:')\n",
        "print(sum([1 if i != -1 else 0 for i in correct]))\n",
        "\n",
        "\n",
        "#get accuracy if use mode as prediction\n",
        "import scipy.stats as stats\n",
        "preds_mode = [stats.mode(x)[0][0]]*len(x)\n",
        "correct = [preds_mode[i] if preds_mode[i] == x[i] else -1 for i in range(len(preds))]\n",
        "print('mode:')\n",
        "print(sum([1 if i != -1 else 0 for i in correct]))\n",
        "print()\n",
        "print('total:')\n",
        "print(len(preds))\n"
      ],
      "execution_count": 70,
      "outputs": [
        {
          "output_type": "stream",
          "text": [
            "R squared: -0.21609561654904752\n",
            "\n",
            "Pearson correlation: (0.06120152094833422, 4.698309977703233e-05)\n",
            "\n",
            "Baseline check\n",
            "model:\n",
            "0\n",
            "mean:\n",
            "1818\n",
            "median:\n",
            "1818\n",
            "mode:\n",
            "1818\n",
            "\n",
            "total:\n",
            "4417\n"
          ],
          "name": "stdout"
        }
      ]
    },
    {
      "cell_type": "code",
      "metadata": {
        "colab": {
          "base_uri": "https://localhost:8080/",
          "height": 388
        },
        "id": "mSkxnuW0sWOk",
        "outputId": "60efd639-9387-4431-ac82-eb7b59dbf5ed"
      },
      "source": [
        "topic_df[['id', 'mode_max_topic']]"
      ],
      "execution_count": null,
      "outputs": [
        {
          "output_type": "execute_result",
          "data": {
            "text/html": [
              "<div>\n",
              "<style scoped>\n",
              "    .dataframe tbody tr th:only-of-type {\n",
              "        vertical-align: middle;\n",
              "    }\n",
              "\n",
              "    .dataframe tbody tr th {\n",
              "        vertical-align: top;\n",
              "    }\n",
              "\n",
              "    .dataframe thead th {\n",
              "        text-align: right;\n",
              "    }\n",
              "</style>\n",
              "<table border=\"1\" class=\"dataframe\">\n",
              "  <thead>\n",
              "    <tr style=\"text-align: right;\">\n",
              "      <th></th>\n",
              "      <th>id</th>\n",
              "      <th>mode_max_topic</th>\n",
              "    </tr>\n",
              "  </thead>\n",
              "  <tbody>\n",
              "    <tr>\n",
              "      <th>0</th>\n",
              "      <td>2t6afv</td>\n",
              "      <td>4.0</td>\n",
              "    </tr>\n",
              "    <tr>\n",
              "      <th>1</th>\n",
              "      <td>2t5c8b</td>\n",
              "      <td>0.0</td>\n",
              "    </tr>\n",
              "    <tr>\n",
              "      <th>2</th>\n",
              "      <td>2t2ksx</td>\n",
              "      <td>4.0</td>\n",
              "    </tr>\n",
              "    <tr>\n",
              "      <th>3</th>\n",
              "      <td>2t0gqy</td>\n",
              "      <td>8.0</td>\n",
              "    </tr>\n",
              "    <tr>\n",
              "      <th>4</th>\n",
              "      <td>2sy3ig</td>\n",
              "      <td>2.0</td>\n",
              "    </tr>\n",
              "    <tr>\n",
              "      <th>...</th>\n",
              "      <td>...</td>\n",
              "      <td>...</td>\n",
              "    </tr>\n",
              "    <tr>\n",
              "      <th>22290</th>\n",
              "      <td>itd64i</td>\n",
              "      <td>2.0</td>\n",
              "    </tr>\n",
              "    <tr>\n",
              "      <th>22291</th>\n",
              "      <td>it51cm</td>\n",
              "      <td>6.0</td>\n",
              "    </tr>\n",
              "    <tr>\n",
              "      <th>22292</th>\n",
              "      <td>it1qee</td>\n",
              "      <td>4.0</td>\n",
              "    </tr>\n",
              "    <tr>\n",
              "      <th>22293</th>\n",
              "      <td>it13dn</td>\n",
              "      <td>NaN</td>\n",
              "    </tr>\n",
              "    <tr>\n",
              "      <th>22294</th>\n",
              "      <td>isyu9i</td>\n",
              "      <td>0.0</td>\n",
              "    </tr>\n",
              "  </tbody>\n",
              "</table>\n",
              "<p>22295 rows × 2 columns</p>\n",
              "</div>"
            ],
            "text/plain": [
              "           id  mode_max_topic\n",
              "0      2t6afv             4.0\n",
              "1      2t5c8b             0.0\n",
              "2      2t2ksx             4.0\n",
              "3      2t0gqy             8.0\n",
              "4      2sy3ig             2.0\n",
              "...       ...             ...\n",
              "22290  itd64i             2.0\n",
              "22291  it51cm             6.0\n",
              "22292  it1qee             4.0\n",
              "22293  it13dn             NaN\n",
              "22294  isyu9i             0.0\n",
              "\n",
              "[22295 rows x 2 columns]"
            ]
          },
          "metadata": {
            "tags": []
          },
          "execution_count": 208
        }
      ]
    },
    {
      "cell_type": "code",
      "metadata": {
        "colab": {
          "base_uri": "https://localhost:8080/",
          "height": 189
        },
        "id": "6-HyVqWDk3Le",
        "outputId": "b4c17301-02d6-42fb-d91d-b71e63b51cfa"
      },
      "source": [
        "topic_df.head()"
      ],
      "execution_count": null,
      "outputs": [
        {
          "output_type": "execute_result",
          "data": {
            "text/html": [
              "<div>\n",
              "<style scoped>\n",
              "    .dataframe tbody tr th:only-of-type {\n",
              "        vertical-align: middle;\n",
              "    }\n",
              "\n",
              "    .dataframe tbody tr th {\n",
              "        vertical-align: top;\n",
              "    }\n",
              "\n",
              "    .dataframe thead th {\n",
              "        text-align: right;\n",
              "    }\n",
              "</style>\n",
              "<table border=\"1\" class=\"dataframe\">\n",
              "  <thead>\n",
              "    <tr style=\"text-align: right;\">\n",
              "      <th></th>\n",
              "      <th>id</th>\n",
              "      <th>max_mean_topic</th>\n",
              "      <th>mode_max_topic</th>\n",
              "    </tr>\n",
              "  </thead>\n",
              "  <tbody>\n",
              "    <tr>\n",
              "      <th>0</th>\n",
              "      <td>2t6afv</td>\n",
              "      <td>4.0</td>\n",
              "      <td>4.0</td>\n",
              "    </tr>\n",
              "    <tr>\n",
              "      <th>1</th>\n",
              "      <td>2t5c8b</td>\n",
              "      <td>4.0</td>\n",
              "      <td>0.0</td>\n",
              "    </tr>\n",
              "    <tr>\n",
              "      <th>2</th>\n",
              "      <td>2t2ksx</td>\n",
              "      <td>4.0</td>\n",
              "      <td>4.0</td>\n",
              "    </tr>\n",
              "    <tr>\n",
              "      <th>3</th>\n",
              "      <td>2t0gqy</td>\n",
              "      <td>8.0</td>\n",
              "      <td>8.0</td>\n",
              "    </tr>\n",
              "    <tr>\n",
              "      <th>4</th>\n",
              "      <td>2sy3ig</td>\n",
              "      <td>7.0</td>\n",
              "      <td>2.0</td>\n",
              "    </tr>\n",
              "  </tbody>\n",
              "</table>\n",
              "</div>"
            ],
            "text/plain": [
              "       id  max_mean_topic  mode_max_topic\n",
              "0  2t6afv             4.0             4.0\n",
              "1  2t5c8b             4.0             0.0\n",
              "2  2t2ksx             4.0             4.0\n",
              "3  2t0gqy             8.0             8.0\n",
              "4  2sy3ig             7.0             2.0"
            ]
          },
          "metadata": {
            "tags": []
          },
          "execution_count": 269
        }
      ]
    },
    {
      "cell_type": "code",
      "metadata": {
        "colab": {
          "base_uri": "https://localhost:8080/",
          "height": 205
        },
        "id": "qXouQbOYniG6",
        "outputId": "b2055dd0-b227-45fb-ab3c-84619b5f6dcc"
      },
      "source": [
        "#create new df\n",
        "new_df = pd.DataFrame({'id': combined_ids, \n",
        "                       'embedding': train_vote_embeddings.tolist(), \n",
        "                       'prediction': preds.tolist(),\n",
        "                       'ground_truth': combined_train_uv_binned.tolist()})\n",
        "topic_df = pd.read_csv('gdrive/MyDrive/NLP_final_project/10_all_posts_with_comment_topics.txt')\n",
        "sub_df = topic_df[['id', 'upvote_ratio']]\n",
        "# new_df = new_df.merge(sub_df,on='id')\n",
        "print(new_df.shape)\n",
        "\n",
        "# save df\n",
        "new_df.to_csv('gdrive/MyDrive/NLP_final_project/LSTM_post_embeddings_with_categorical_voteratio_NEW.csv')\n",
        "\n",
        "new_df.head()"
      ],
      "execution_count": 38,
      "outputs": [
        {
          "output_type": "stream",
          "text": [
            "(13237, 4)\n"
          ],
          "name": "stdout"
        },
        {
          "output_type": "execute_result",
          "data": {
            "text/html": [
              "<div>\n",
              "<style scoped>\n",
              "    .dataframe tbody tr th:only-of-type {\n",
              "        vertical-align: middle;\n",
              "    }\n",
              "\n",
              "    .dataframe tbody tr th {\n",
              "        vertical-align: top;\n",
              "    }\n",
              "\n",
              "    .dataframe thead th {\n",
              "        text-align: right;\n",
              "    }\n",
              "</style>\n",
              "<table border=\"1\" class=\"dataframe\">\n",
              "  <thead>\n",
              "    <tr style=\"text-align: right;\">\n",
              "      <th></th>\n",
              "      <th>id</th>\n",
              "      <th>embedding</th>\n",
              "      <th>prediction</th>\n",
              "      <th>ground_truth</th>\n",
              "    </tr>\n",
              "  </thead>\n",
              "  <tbody>\n",
              "    <tr>\n",
              "      <th>0</th>\n",
              "      <td>2t6u8l</td>\n",
              "      <td>[-0.22501684725284576, -0.029330583289265633, ...</td>\n",
              "      <td>2</td>\n",
              "      <td>2</td>\n",
              "    </tr>\n",
              "    <tr>\n",
              "      <th>1</th>\n",
              "      <td>2t57np</td>\n",
              "      <td>[0.2813028395175934, 0.012974992394447327, -0....</td>\n",
              "      <td>0</td>\n",
              "      <td>2</td>\n",
              "    </tr>\n",
              "    <tr>\n",
              "      <th>2</th>\n",
              "      <td>2t45rt</td>\n",
              "      <td>[0.07794638723134995, 0.22722329199314117, -0....</td>\n",
              "      <td>2</td>\n",
              "      <td>2</td>\n",
              "    </tr>\n",
              "    <tr>\n",
              "      <th>3</th>\n",
              "      <td>2t3x6r</td>\n",
              "      <td>[-0.35747987031936646, -0.19822020828723907, -...</td>\n",
              "      <td>0</td>\n",
              "      <td>0</td>\n",
              "    </tr>\n",
              "    <tr>\n",
              "      <th>4</th>\n",
              "      <td>2t35o4</td>\n",
              "      <td>[-0.12524530291557312, -0.040538836270570755, ...</td>\n",
              "      <td>0</td>\n",
              "      <td>0</td>\n",
              "    </tr>\n",
              "  </tbody>\n",
              "</table>\n",
              "</div>"
            ],
            "text/plain": [
              "       id  ... ground_truth\n",
              "0  2t6u8l  ...            2\n",
              "1  2t57np  ...            2\n",
              "2  2t45rt  ...            2\n",
              "3  2t3x6r  ...            0\n",
              "4  2t35o4  ...            0\n",
              "\n",
              "[5 rows x 4 columns]"
            ]
          },
          "metadata": {
            "tags": []
          },
          "execution_count": 38
        }
      ]
    },
    {
      "cell_type": "code",
      "metadata": {
        "colab": {
          "base_uri": "https://localhost:8080/"
        },
        "id": "TByANZuyoj-4",
        "outputId": "f0b441ea-5b40-4870-93e2-5904c25022a4"
      },
      "source": [
        "import tensorflow.keras as K\n",
        "\n",
        "\n",
        "vocab_size=10000\n",
        "embedding_dim = 100*2\n",
        "\n",
        "# build embedding + LSTM model with functional API\n",
        "input = K.Input(shape=(seq_len,), dtype='int32')\n",
        "combined_reps = torch.cat([i_reps_word2vec , t_reps_word2vec],dim=1)\n",
        "\n",
        "#combine embeddings by averaging (NOT concatenation)\n",
        "combined_reps = (i_reps_word2vec + t_reps_word2vec)/2\n",
        "embedding_dim = 100\n",
        "\n",
        "weight = combined_reps\n",
        "x = K.layers.Embedding(input_dim = vocab_size, output_dim = embedding_dim, \n",
        "                       weights=[weight.detach().numpy()], name='embedding')(input)\n",
        "# x = K.layers.Bidirectional(K.layers.LSTM(units = 10, dropout=0.5))(x)  \n",
        "x = K.layers.LSTM(units = 20, dropout=0.5)(x)  \n",
        "# x = K.layers.Dropout(rate=0.5)(x)\n",
        "# x = K.layers.Dense(8, activation= 'relu' ) (x)\n",
        "# x = K.layers.Dropout(rate=0.5)(x)\n",
        "\n",
        "x = K.layers.Dense(units=3, \n",
        "                   activation='softmax', \n",
        "                   name='output_layer')(x)\n",
        "\n",
        "# x = K.layers.Dense(units=1, \n",
        "#                    activation='linear',\n",
        "#                    name='output_layer')(x)\n",
        "\n",
        "model = K.Model(inputs=input, outputs=x)\n",
        "model.summary()\n",
        "\n",
        "opt = Adam(lr=.001)\n",
        "epochs=5\n",
        "\n",
        "\n",
        "model.compile(optimizer=opt, \n",
        "              # loss='mean_absolute_error', #use mean squared error\n",
        "              \n",
        "              loss = 'categorical_crossentropy',\n",
        "              metrics=[K.metrics.Precision(),\n",
        "              K.metrics.Recall(),\n",
        "              'accuracy']\n",
        "              ) \n",
        "model.summary() \n",
        "\n",
        "#Evaluation\n",
        "from keras.callbacks import History \n",
        "history = History() #save model metrics and loss per epoch\n",
        "\n",
        "\n",
        "#train model\n",
        "hist = model.fit(x=combined_train_posts, \n",
        "         y = combined_train_uv_binarized,\n",
        "         batch_size=128,\n",
        "         validation_data = (combined_val_posts, combined_val_uv_binarized),\n",
        "         epochs=epochs,\n",
        "         callbacks=[history] ,\n",
        "         verbose=0\n",
        "         ) #do not print log of every epoch"
      ],
      "execution_count": 154,
      "outputs": [
        {
          "output_type": "stream",
          "text": [
            "Model: \"model_5\"\n",
            "_________________________________________________________________\n",
            "Layer (type)                 Output Shape              Param #   \n",
            "=================================================================\n",
            "input_6 (InputLayer)         [(None, 2000)]            0         \n",
            "_________________________________________________________________\n",
            "embedding (Embedding)        (None, 2000, 100)         1000000   \n",
            "_________________________________________________________________\n",
            "lstm_5 (LSTM)                (None, 20)                9680      \n",
            "_________________________________________________________________\n",
            "output_layer (Dense)         (None, 3)                 63        \n",
            "=================================================================\n",
            "Total params: 1,009,743\n",
            "Trainable params: 1,009,743\n",
            "Non-trainable params: 0\n",
            "_________________________________________________________________\n",
            "Model: \"model_5\"\n",
            "_________________________________________________________________\n",
            "Layer (type)                 Output Shape              Param #   \n",
            "=================================================================\n",
            "input_6 (InputLayer)         [(None, 2000)]            0         \n",
            "_________________________________________________________________\n",
            "embedding (Embedding)        (None, 2000, 100)         1000000   \n",
            "_________________________________________________________________\n",
            "lstm_5 (LSTM)                (None, 20)                9680      \n",
            "_________________________________________________________________\n",
            "output_layer (Dense)         (None, 3)                 63        \n",
            "=================================================================\n",
            "Total params: 1,009,743\n",
            "Trainable params: 1,009,743\n",
            "Non-trainable params: 0\n",
            "_________________________________________________________________\n"
          ],
          "name": "stdout"
        }
      ]
    },
    {
      "cell_type": "code",
      "metadata": {
        "id": "U345pxXrx9V3",
        "colab": {
          "base_uri": "https://localhost:8080/"
        },
        "outputId": "5ce592db-3ed9-47ae-fefd-7689db033e47"
      },
      "source": [
        "hist.history\n",
        "# model.save(\"gdrive/MyDrive/NLP_final_project/it_lstm_0mincount_categorical_upvote_NEW\")"
      ],
      "execution_count": 155,
      "outputs": [
        {
          "output_type": "execute_result",
          "data": {
            "text/plain": [
              "{'accuracy': [0.3849814832210541,\n",
              "  0.4106670618057251,\n",
              "  0.4262295067310333,\n",
              "  0.4319709837436676,\n",
              "  0.44428494572639465],\n",
              " 'loss': [1.1111871004104614,\n",
              "  1.079615592956543,\n",
              "  1.0692126750946045,\n",
              "  1.0582934617996216,\n",
              "  1.0500905513763428],\n",
              " 'precision_3': [0.42146506905555725,\n",
              "  0.47545111179351807,\n",
              "  0.5065104365348816,\n",
              "  0.5308798551559448,\n",
              "  0.5432323813438416],\n",
              " 'recall_3': [0.09345018118619919,\n",
              "  0.08559340983629227,\n",
              "  0.08816196769475937,\n",
              "  0.09481000155210495,\n",
              "  0.11248772591352463],\n",
              " 'val_accuracy': [0.4239327907562256,\n",
              "  0.4275658428668976,\n",
              "  0.43801090121269226,\n",
              "  0.4339236915111542,\n",
              "  0.43710264563560486],\n",
              " 'val_loss': [1.0816166400909424,\n",
              "  1.0735565423965454,\n",
              "  1.0667470693588257,\n",
              "  1.0655778646469116,\n",
              "  1.061983585357666],\n",
              " 'val_precision_3': [0.4768568277359009,\n",
              "  0.4829600751399994,\n",
              "  0.4978601932525635,\n",
              "  0.49049049615859985,\n",
              "  0.5063451528549194],\n",
              " 'val_recall_3': [0.10059037059545517,\n",
              "  0.1126248836517334,\n",
              "  0.0792461410164833,\n",
              "  0.1112624853849411,\n",
              "  0.09059945493936539]}"
            ]
          },
          "metadata": {
            "tags": []
          },
          "execution_count": 155
        }
      ]
    },
    {
      "cell_type": "code",
      "metadata": {
        "colab": {
          "base_uri": "https://localhost:8080/",
          "height": 688
        },
        "id": "6jvUqreSLSjI",
        "outputId": "838eadff-8d13-46f1-a6d4-cae5b8fa0d76"
      },
      "source": [
        "import matplotlib.pyplot as plt\n",
        "\n",
        "#plot out mse\n",
        "print('Final accuracy of training data set: ' + str(np.mean(hist.history['accuracy'][-1])))\n",
        "print('Final accuracy of validation data set: ' + str(np.mean(hist.history['val_accuracy'][-1])))\n",
        "print()\n",
        "print('Final loss of training data set: ' + str(np.mean(hist.history['loss'][-1])))\n",
        "print('Final loss of validation data set: ' + str(np.mean(hist.history['val_loss'][-1])))\n",
        "print()\n",
        "# print('Final precision of training data set: ' + str(np.mean(hist.history['precision_1'][-1])))\n",
        "# print('Final precision of validation data set: ' + str(np.mean(hist.history['val_precision_1'][-1])))\n",
        "# print()\n",
        "# print('Final recall of training data set: ' + str(np.mean(hist.history['recall_1'][-1])))\n",
        "# print('Final recall of validation data set: ' + str(np.mean(hist.history['val_recall_1'][-1])))\n",
        "# print()\n",
        "#plot model loss over training and val\n",
        "plot_loss = plt.figure(1)\n",
        "plt.plot(range(epochs), hist.history['accuracy'], label = 'training')\n",
        "plt.plot(range(epochs), hist.history['val_accuracy'], label = 'validation')\n",
        "plt.title('Training/Validation accuracy over time')\n",
        "plt.legend()\n",
        "plt.ylabel('accuracy')\n",
        "plt.xlabel('Epochs')\n",
        "\n",
        "#plot model loss over training and val\n",
        "plot_loss = plt.figure(2)\n",
        "plt.plot(range(epochs), hist.history['loss'], label = 'training')\n",
        "plt.plot(range(epochs), hist.history['val_loss'], label = 'validation')\n",
        "plt.title('Training/Validation Loss over time')\n",
        "plt.legend()\n",
        "plt.ylabel('Loss')\n",
        "plt.xlabel('Epochs')"
      ],
      "execution_count": 156,
      "outputs": [
        {
          "output_type": "stream",
          "text": [
            "Final accuracy of training data set: 0.44428494572639465\n",
            "Final accuracy of validation data set: 0.43710264563560486\n",
            "\n",
            "Final loss of training data set: 1.0500905513763428\n",
            "Final loss of validation data set: 1.061983585357666\n",
            "\n"
          ],
          "name": "stdout"
        },
        {
          "output_type": "execute_result",
          "data": {
            "text/plain": [
              "Text(0.5, 0, 'Epochs')"
            ]
          },
          "metadata": {
            "tags": []
          },
          "execution_count": 156
        },
        {
          "output_type": "display_data",
          "data": {
            "image/png": "[encoded data removed]",
            "text/plain": [
              "<Figure size 432x288 with 1 Axes>"
            ]
          },
          "metadata": {
            "tags": [],
            "needs_background": "light"
          }
        },
        {
          "output_type": "display_data",
          "data": {
            "image/png": "[encoded data removed]",
            "text/plain": [
              "<Figure size 432x288 with 1 Axes>"
            ]
          },
          "metadata": {
            "tags": [],
            "needs_background": "light"
          }
        }
      ]
    },
    {
      "cell_type": "code",
      "metadata": {
        "colab": {
          "base_uri": "https://localhost:8080/",
          "height": 361
        },
        "id": "bxpY0DNer4bM",
        "outputId": "92f7959f-e72b-4ac7-ef9f-82ce6f31b4f4"
      },
      "source": [
        "import matplotlib.pyplot as plt\n",
        "\n",
        "#plot out mse\n",
        "print('Final mae of training data set: ' + str(np.mean(hist.history['loss'][-1])))\n",
        "print('Final mae of validation data set: ' + str(np.mean(hist.history['val_loss'][-1])))\n",
        "print()\n",
        "#plot model loss over training and val\n",
        "# plot_loss = plt.figure(1)\n",
        "# plt.plot(range(epochs), hist.history['mae'], label = 'training')\n",
        "# plt.plot(range(epochs), hist.history['val_mae'], label = 'validation')\n",
        "# plt.title('Training/Validation MAE over time')\n",
        "# plt.legend()\n",
        "# plt.ylabel('MAE')\n",
        "# plt.xlabel('Epochs')\n",
        "\n",
        "#plot model loss over training and val\n",
        "plot_loss = plt.figure(2)\n",
        "plt.plot(range(epochs), hist.history['loss'], label = 'training')\n",
        "plt.plot(range(epochs), hist.history['val_loss'], label = 'validation')\n",
        "plt.title('Training/Validation Loss over time')\n",
        "plt.legend()\n",
        "plt.ylabel('Loss')\n",
        "plt.xlabel('Epochs')"
      ],
      "execution_count": 27,
      "outputs": [
        {
          "output_type": "stream",
          "text": [
            "Final mae of training data set: 10.813508033752441\n",
            "Final mae of validation data set: 10.380990982055664\n",
            "\n"
          ],
          "name": "stdout"
        },
        {
          "output_type": "execute_result",
          "data": {
            "text/plain": [
              "Text(0.5, 0, 'Epochs')"
            ]
          },
          "metadata": {
            "tags": []
          },
          "execution_count": 27
        },
        {
          "output_type": "display_data",
          "data": {
            "image/png": "[encoded data removed]",
            "text/plain": [
              "<Figure size 432x288 with 1 Axes>"
            ]
          },
          "metadata": {
            "tags": [],
            "needs_background": "light"
          }
        }
      ]
    },
    {
      "cell_type": "code",
      "metadata": {
        "colab": {
          "base_uri": "https://localhost:8080/"
        },
        "id": "aNBwrWrEt3Hz",
        "outputId": "31f18815-b4d7-4ef9-ad93-cbcc8a973117"
      },
      "source": [
        "from sklearn.metrics import confusion_matrix\n",
        "cm = confusion_matrix(x, preds)\n",
        "cm = cm.astype('float') / cm.sum(axis=1)[:, np.newaxis]\n",
        "print(cm.diagonal())\n",
        "\n",
        "for i in range(10):\n",
        "  print(i)\n",
        "  print(len(np.where(preds == i)[0]))"
      ],
      "execution_count": 92,
      "outputs": [
        {
          "output_type": "stream",
          "text": [
            "[0.01140684 0.15975104 0.05088496 0.48547718 0.27232796 0.00671141\n",
            " 0.6866417  0.00917431 0.50218341 0.16770186]\n",
            "0\n",
            "13\n",
            "1\n",
            "272\n",
            "2\n",
            "91\n",
            "3\n",
            "641\n",
            "4\n",
            "556\n",
            "5\n",
            "4\n",
            "6\n",
            "1266\n",
            "7\n",
            "7\n",
            "8\n",
            "1128\n",
            "9\n",
            "332\n"
          ],
          "name": "stdout"
        }
      ]
    },
    {
      "cell_type": "code",
      "metadata": {
        "colab": {
          "base_uri": "https://localhost:8080/"
        },
        "id": "0ba4tLWzMP_C",
        "outputId": "51db434f-4e6b-454f-fcb9-a2abd4c6baaa"
      },
      "source": [
        "x=combined_val_mode\n",
        "preds_median = [np.round(np.median(x))]*len(x)\n",
        "correct = [preds_median[i] if preds_median[i] == x[i] else -1 for i in range(len(combined_val_mode))]\n",
        "print('median:')\n",
        "print(sum([1 if i != -1 else 0 for i in correct]))\n",
        "result=precision_recall_fscore_support(x, preds_median, average='macro')\n",
        "print(result)"
      ],
      "execution_count": 166,
      "outputs": [
        {
          "output_type": "stream",
          "text": [
            "median:\n",
            "602\n",
            "(0.14055568526733597, 0.14055568526733597, 0.14055568526733597, None)\n"
          ],
          "name": "stdout"
        }
      ]
    },
    {
      "cell_type": "code",
      "metadata": {
        "colab": {
          "base_uri": "https://localhost:8080/"
        },
        "id": "LYezoGJ8sAWK",
        "outputId": "71f6dad3-f987-48a3-ce31-f6d816c0a970"
      },
      "source": [
        "from sklearn.metrics import r2_score\n",
        "from scipy import stats\n",
        "from sklearn.metrics import precision_recall_fscore_support\n",
        "\n",
        "x=combined_val_mode\n",
        "\n",
        "\n",
        "# preds = vote_model.predict(combined_train_posts)\n",
        "\n",
        "# non_binarized = uv_transformer.inverse_transform(preds)\n",
        "\n",
        "# result=precision_recall_fscore_support(x, non_binarized, average='macro')\n",
        "# print(result)\n",
        "\n",
        "\n",
        "# preds = non_binarized\n",
        "\n",
        "\n",
        "# print('Baseline check')\n",
        "\n",
        "# correct = [preds[i] if preds[i] == x[i] else -1 for i in range(len(preds))]\n",
        "# print('model:')\n",
        "# print(sum([1 if i != -1 else 0 for i in correct]))\n",
        "\n",
        "\n",
        "# #get accuracy if use mean as prediction\n",
        "\n",
        "# preds_mean = [np.round(np.mean(x))]*len(x)\n",
        "# correct = [preds_mean[i] if preds_mean[i] == x[i] else -1 for i in range(len(preds))]\n",
        "# print('mean:')\n",
        "# print(sum([1 if i != -1 else 0 for i in correct]))\n",
        "\n",
        "# #get accuracy if use median as prediction\n",
        "# preds_median = [np.round(np.median(x))]*len(x)\n",
        "# correct = [preds_median[i] if preds_median[i] == x[i] else -1 for i in range(len(preds))]\n",
        "# print('median:')\n",
        "\n",
        "\n",
        "#get accuracy if use mode as prediction\n",
        "import scipy.stats as stats\n",
        "preds_mode = [stats.mode(x)[0][0]]*len(x)\n",
        "correct = [preds_mode[i] if preds_mode[i] == x[i] else -1 for i in range(len(x))]\n",
        "print('mode:')\n",
        "print(sum([1 if i != -1 else 0 for i in correct]))\n",
        "result=precision_recall_fscore_support(x, preds_mode, average='macro')\n",
        "print(result)\n",
        "\n",
        "print()\n",
        "print('total:')\n",
        "print(len(x))\n"
      ],
      "execution_count": 35,
      "outputs": [
        {
          "output_type": "stream",
          "text": [
            "mode:\n",
            "801\n",
            "(0.018584686774941996, 0.1, 0.03134415965564468, None)\n",
            "\n",
            "total:\n",
            "4310\n"
          ],
          "name": "stdout"
        },
        {
          "output_type": "stream",
          "text": [
            "/usr/local/lib/python3.7/dist-packages/sklearn/metrics/_classification.py:1272: UndefinedMetricWarning: Precision and F-score are ill-defined and being set to 0.0 in labels with no predicted samples. Use `zero_division` parameter to control this behavior.\n",
            "  _warn_prf(average, modifier, msg_start, len(result))\n"
          ],
          "name": "stderr"
        }
      ]
    },
    {
      "cell_type": "code",
      "metadata": {
        "colab": {
          "base_uri": "https://localhost:8080/"
        },
        "id": "LUsmI6dXFxfH",
        "outputId": "be7e619e-5742-4af0-db9b-f70ababaeb01"
      },
      "source": [
        "print(1925/4404, 1856/4404)"
      ],
      "execution_count": 160,
      "outputs": [
        {
          "output_type": "stream",
          "text": [
            "0.43710263396911897 0.4214350590372389\n"
          ],
          "name": "stdout"
        }
      ]
    },
    {
      "cell_type": "markdown",
      "metadata": {
        "id": "7Xi51nPfz3DX"
      },
      "source": [
        "##Model for regression task - infertility"
      ]
    },
    {
      "cell_type": "code",
      "metadata": {
        "colab": {
          "base_uri": "https://localhost:8080/"
        },
        "id": "VJ-ScLkyIaY8",
        "outputId": "f13391aa-efcf-40e6-fa14-3b52b9e46f20"
      },
      "source": [
        "import tensorflow.keras as K\n",
        "\n",
        "vocab_size = 10000\n",
        "embedding_dim = 100\n",
        "\n",
        "# build embedding + LSTM model with functional API\n",
        "input = K.Input(shape=(seq_len,), dtype='int32')\n",
        "\n",
        "weight = i_reps_word2vec\n",
        "x = K.layers.Embedding(input_dim = vocab_size, output_dim = embedding_dim, \n",
        "                       weights=[weight.detach().numpy()], name='embedding')(input)\n",
        "x = K.layers.Bidirectional(K.layers.LSTM(units = 15))(x)   #make bidirectional=True\n",
        "# x = K.layers.LSTM(units = 128) (x)\n",
        "x = K.layers.Dropout(rate=0.5)(x)\n",
        "\n",
        "x = K.layers.Dense(units=1, activation='linear', \n",
        "                   name='output_layer')(x)\n",
        "\n",
        "model = K.Model(inputs=input, outputs=x)\n",
        "model.summary()\n",
        "\n",
        "opt = Adam(learning_rate=.001)\n",
        "epochs=16\n",
        "\n",
        "model.compile(optimizer=opt, \n",
        "              loss='mean_absolute_error', #use mean squared error\n",
        "              metrics=['mse' ]) \n",
        "model.summary() \n",
        "\n",
        "#Evaluation\n",
        "from keras.callbacks import History \n",
        "history = History() #save model metrics and loss per epoch\n",
        "\n",
        "\n",
        "#train model\n",
        "hist = model.fit(x=i_train_padded, \n",
        "         y = i_train_num_comments_0,\n",
        "         batch_size=32,\n",
        "         validation_data = (i_val_padded, i_val_num_comments_0),\n",
        "         epochs=epochs,\n",
        "         callbacks=[history] ,\n",
        "         verbose=0\n",
        "         ) #do not print log of every epoch\n",
        "\n",
        "# torch.save(model.state_dict(), 'gdrive/MyDrive/NLP_final_project/infertility_comments_regression_LSTM_001.pt')\n",
        "            "
      ],
      "execution_count": null,
      "outputs": [
        {
          "output_type": "stream",
          "text": [
            "Model: \"model_28\"\n",
            "_________________________________________________________________\n",
            "Layer (type)                 Output Shape              Param #   \n",
            "=================================================================\n",
            "input_29 (InputLayer)        [(None, 2000)]            0         \n",
            "_________________________________________________________________\n",
            "embedding (Embedding)        (None, 2000, 100)         1000000   \n",
            "_________________________________________________________________\n",
            "bidirectional_28 (Bidirectio (None, 30)                13920     \n",
            "_________________________________________________________________\n",
            "dropout_31 (Dropout)         (None, 30)                0         \n",
            "_________________________________________________________________\n",
            "output_layer (Dense)         (None, 1)                 31        \n",
            "=================================================================\n",
            "Total params: 1,013,951\n",
            "Trainable params: 1,013,951\n",
            "Non-trainable params: 0\n",
            "_________________________________________________________________\n",
            "Model: \"model_28\"\n",
            "_________________________________________________________________\n",
            "Layer (type)                 Output Shape              Param #   \n",
            "=================================================================\n",
            "input_29 (InputLayer)        [(None, 2000)]            0         \n",
            "_________________________________________________________________\n",
            "embedding (Embedding)        (None, 2000, 100)         1000000   \n",
            "_________________________________________________________________\n",
            "bidirectional_28 (Bidirectio (None, 30)                13920     \n",
            "_________________________________________________________________\n",
            "dropout_31 (Dropout)         (None, 30)                0         \n",
            "_________________________________________________________________\n",
            "output_layer (Dense)         (None, 1)                 31        \n",
            "=================================================================\n",
            "Total params: 1,013,951\n",
            "Trainable params: 1,013,951\n",
            "Non-trainable params: 0\n",
            "_________________________________________________________________\n"
          ],
          "name": "stdout"
        }
      ]
    },
    {
      "cell_type": "code",
      "metadata": {
        "colab": {
          "base_uri": "https://localhost:8080/"
        },
        "id": "HkmqbVPYDHme",
        "outputId": "a6f7f70d-6d45-4a6a-a906-4df1a40e59b9"
      },
      "source": [
        "# torch.save(model, 'gdrive/MyDrive/NLP_final_project/i_lstm_0mincount_regression_comments.pt')\n",
        "model.save(\"gdrive/MyDrive/NLP_final_project/i_lstm_0mincount_regression_comments\")"
      ],
      "execution_count": null,
      "outputs": [
        {
          "output_type": "stream",
          "text": [
            "WARNING:absl:Found untraced functions such as lstm_cell_82_layer_call_fn, lstm_cell_82_layer_call_and_return_conditional_losses, lstm_cell_83_layer_call_fn, lstm_cell_83_layer_call_and_return_conditional_losses, lstm_cell_82_layer_call_fn while saving (showing 5 of 10). These functions will not be directly callable after loading.\n",
            "WARNING:absl:Found untraced functions such as lstm_cell_82_layer_call_fn, lstm_cell_82_layer_call_and_return_conditional_losses, lstm_cell_83_layer_call_fn, lstm_cell_83_layer_call_and_return_conditional_losses, lstm_cell_82_layer_call_fn while saving (showing 5 of 10). These functions will not be directly callable after loading.\n"
          ],
          "name": "stderr"
        },
        {
          "output_type": "stream",
          "text": [
            "INFO:tensorflow:Assets written to: gdrive/MyDrive/NLP_final_project/i_lstm_0mincount_regression_comments/assets\n"
          ],
          "name": "stdout"
        },
        {
          "output_type": "stream",
          "text": [
            "INFO:tensorflow:Assets written to: gdrive/MyDrive/NLP_final_project/i_lstm_0mincount_regression_comments/assets\n"
          ],
          "name": "stderr"
        }
      ]
    },
    {
      "cell_type": "code",
      "metadata": {
        "colab": {
          "base_uri": "https://localhost:8080/"
        },
        "id": "BPw-RSn6AkLV",
        "outputId": "0564692f-caa5-4ba0-b45f-809fd5972ca5"
      },
      "source": [
        "hist.history"
      ],
      "execution_count": null,
      "outputs": [
        {
          "output_type": "execute_result",
          "data": {
            "text/plain": [
              "{'loss': [10.980110168457031,\n",
              "  10.45250415802002,\n",
              "  10.250244140625,\n",
              "  10.060075759887695,\n",
              "  9.822985649108887,\n",
              "  9.529414176940918,\n",
              "  9.365511894226074,\n",
              "  9.14530086517334,\n",
              "  8.928955078125,\n",
              "  8.728334426879883,\n",
              "  8.560909271240234,\n",
              "  8.386664390563965,\n",
              "  8.237051963806152,\n",
              "  8.088775634765625,\n",
              "  7.94495964050293],\n",
              " 'mae': [10.980110168457031,\n",
              "  10.45250415802002,\n",
              "  10.250244140625,\n",
              "  10.060075759887695,\n",
              "  9.822985649108887,\n",
              "  9.529414176940918,\n",
              "  9.365511894226074,\n",
              "  9.14530086517334,\n",
              "  8.928955078125,\n",
              "  8.728334426879883,\n",
              "  8.560909271240234,\n",
              "  8.386664390563965,\n",
              "  8.237051963806152,\n",
              "  8.088775634765625,\n",
              "  7.94495964050293],\n",
              " 'val_loss': [10.01075267791748,\n",
              "  9.929590225219727,\n",
              "  9.8883056640625,\n",
              "  9.816981315612793,\n",
              "  9.855422973632812,\n",
              "  9.837496757507324,\n",
              "  9.98033332824707,\n",
              "  9.885926246643066,\n",
              "  9.947491645812988,\n",
              "  9.930375099182129,\n",
              "  10.042360305786133,\n",
              "  10.035487174987793,\n",
              "  10.163331985473633,\n",
              "  10.120118141174316,\n",
              "  10.023557662963867],\n",
              " 'val_mae': [10.01075267791748,\n",
              "  9.929590225219727,\n",
              "  9.8883056640625,\n",
              "  9.816981315612793,\n",
              "  9.855422973632812,\n",
              "  9.837496757507324,\n",
              "  9.98033332824707,\n",
              "  9.885926246643066,\n",
              "  9.947491645812988,\n",
              "  9.930375099182129,\n",
              "  10.042360305786133,\n",
              "  10.035487174987793,\n",
              "  10.163331985473633,\n",
              "  10.120118141174316,\n",
              "  10.023557662963867]}"
            ]
          },
          "metadata": {
            "tags": []
          },
          "execution_count": 232
        }
      ]
    },
    {
      "cell_type": "code",
      "metadata": {
        "colab": {
          "base_uri": "https://localhost:8080/",
          "height": 639
        },
        "id": "HEUCnOBCTXNq",
        "outputId": "cec18fb4-2140-44ad-db78-c74612507e3f"
      },
      "source": [
        "import matplotlib.pyplot as plt\n",
        "\n",
        "#plot out mse\n",
        "print('Final MSE of training data set: ' + str(np.mean(hist.history['mae'][-1])))\n",
        "print('Final MSE of validation data set: ' + str(np.mean(hist.history['val_mae'][-1])))\n",
        "print()\n",
        "#plot model loss over training and val\n",
        "plot_loss = plt.figure(1)\n",
        "plt.plot(range(epochs), hist.history['mae'], label = 'training')\n",
        "plt.plot(range(epochs), hist.history['val_mae'], label = 'validation')\n",
        "plt.title('Training/Validation MSE over time')\n",
        "plt.legend()\n",
        "plt.ylabel('MSE')\n",
        "plt.xlabel('Epochs')\n",
        "\n",
        "#plot model loss over training and val\n",
        "plot_loss = plt.figure(2)\n",
        "plt.plot(range(epochs), hist.history['loss'], label = 'training')\n",
        "plt.plot(range(epochs), hist.history['val_loss'], label = 'validation')\n",
        "plt.title('Training/Validation Loss over time')\n",
        "plt.legend()\n",
        "plt.ylabel('Loss')\n",
        "plt.xlabel('Epochs')\n",
        "\n",
        "\n",
        "\n"
      ],
      "execution_count": null,
      "outputs": [
        {
          "output_type": "stream",
          "text": [
            "Final MSE of training data set: 7.94495964050293\n",
            "Final MSE of validation data set: 10.023557662963867\n",
            "\n"
          ],
          "name": "stdout"
        },
        {
          "output_type": "execute_result",
          "data": {
            "text/plain": [
              "Text(0.5, 0, 'Epochs')"
            ]
          },
          "metadata": {
            "tags": []
          },
          "execution_count": 234
        },
        {
          "output_type": "display_data",
          "data": {
            "image/png": "[encoded data removed]",
            "text/plain": [
              "<Figure size 432x288 with 1 Axes>"
            ]
          },
          "metadata": {
            "tags": []
          }
        },
        {
          "output_type": "display_data",
          "data": {
            "image/png": "[encoded data removed]",
            "text/plain": [
              "<Figure size 432x288 with 1 Axes>"
            ]
          },
          "metadata": {
            "tags": []
          }
        }
      ]
    },
    {
      "cell_type": "code",
      "metadata": {
        "colab": {
          "base_uri": "https://localhost:8080/",
          "height": 549
        },
        "id": "UA5ks2Soprwr",
        "outputId": "052b8138-d977-4f74-8d2b-0742865e53b0"
      },
      "source": [
        "from sklearn.metrics import r2_score\n",
        "from scipy import stats\n",
        "\n",
        "x=i_val_num_comments_0.values\n",
        "\n",
        "preds = model.predict(i_val_post_embeddings_0)\n",
        "preds = preds.flatten()\n",
        "preds = np.round(preds,2) #comment out for upvote ratio\n",
        "\n",
        "print('R squared: '+str(r2_score(x, preds)))\n",
        "print()\n",
        "pr = stats.pearsonr(x, preds)\n",
        "print('Pearson correlation: '+str(pr))\n",
        "print()\n",
        "\n",
        "print('Baseline check')\n",
        "\n",
        "correct = [preds[i] if preds[i] == x[i] else -1 for i in range(len(preds))]\n",
        "print('model:')\n",
        "print(sum([1 if i != -1 else 0 for i in correct]))\n",
        "\n",
        "\n",
        "#get accuracy if use mean as prediction\n",
        "\n",
        "preds_mean = [np.round(np.mean(x))]*len(x)\n",
        "correct = [preds_mean[i] if preds_mean[i] == x[i] else -1 for i in range(len(preds))]\n",
        "print('mean:')\n",
        "print(sum([1 if i != -1 else 0 for i in correct]))\n",
        "\n",
        "#get accuracy if use median as prediction\n",
        "preds_median = [np.round(np.median(x))]*len(x)\n",
        "correct = [preds_median[i] if preds_median[i] == x[i] else -1 for i in range(len(preds))]\n",
        "print('median:')\n",
        "print(sum([1 if i != -1 else 0 for i in correct]))\n",
        "\n",
        "\n",
        "#get accuracy if use mode as prediction\n",
        "import scipy.stats as stats\n",
        "preds_mode = [stats.mode(x)[0][0]]*len(x)\n",
        "correct = [preds_mode[i] if preds_mode[i] == x[i] else -1 for i in range(len(preds))]\n",
        "print('mode:')\n",
        "print(sum([1 if i != -1 else 0 for i in correct]))\n",
        "print()\n",
        "print('total:')\n",
        "print(len(preds))\n"
      ],
      "execution_count": null,
      "outputs": [
        {
          "output_type": "error",
          "ename": "KeyError",
          "evalue": "ignored",
          "traceback": [
            "\u001b[0;31m---------------------------------------------------------------------------\u001b[0m",
            "\u001b[0;31mKeyError\u001b[0m                                  Traceback (most recent call last)",
            "\u001b[0;32m/usr/local/lib/python3.7/dist-packages/pandas/core/indexes/base.py\u001b[0m in \u001b[0;36mget_loc\u001b[0;34m(self, key, method, tolerance)\u001b[0m\n\u001b[1;32m   2897\u001b[0m             \u001b[0;32mtry\u001b[0m\u001b[0;34m:\u001b[0m\u001b[0;34m\u001b[0m\u001b[0;34m\u001b[0m\u001b[0m\n\u001b[0;32m-> 2898\u001b[0;31m                 \u001b[0;32mreturn\u001b[0m \u001b[0mself\u001b[0m\u001b[0;34m.\u001b[0m\u001b[0m_engine\u001b[0m\u001b[0;34m.\u001b[0m\u001b[0mget_loc\u001b[0m\u001b[0;34m(\u001b[0m\u001b[0mcasted_key\u001b[0m\u001b[0;34m)\u001b[0m\u001b[0;34m\u001b[0m\u001b[0;34m\u001b[0m\u001b[0m\n\u001b[0m\u001b[1;32m   2899\u001b[0m             \u001b[0;32mexcept\u001b[0m \u001b[0mKeyError\u001b[0m \u001b[0;32mas\u001b[0m \u001b[0merr\u001b[0m\u001b[0;34m:\u001b[0m\u001b[0;34m\u001b[0m\u001b[0;34m\u001b[0m\u001b[0m\n",
            "\u001b[0;32mpandas/_libs/index.pyx\u001b[0m in \u001b[0;36mpandas._libs.index.IndexEngine.get_loc\u001b[0;34m()\u001b[0m\n",
            "\u001b[0;32mpandas/_libs/index.pyx\u001b[0m in \u001b[0;36mpandas._libs.index.IndexEngine.get_loc\u001b[0;34m()\u001b[0m\n",
            "\u001b[0;32mpandas/_libs/hashtable_class_helper.pxi\u001b[0m in \u001b[0;36mpandas._libs.hashtable.Int64HashTable.get_item\u001b[0;34m()\u001b[0m\n",
            "\u001b[0;32mpandas/_libs/hashtable_class_helper.pxi\u001b[0m in \u001b[0;36mpandas._libs.hashtable.Int64HashTable.get_item\u001b[0;34m()\u001b[0m\n",
            "\u001b[0;31mKeyError\u001b[0m: 1",
            "\nThe above exception was the direct cause of the following exception:\n",
            "\u001b[0;31mKeyError\u001b[0m                                  Traceback (most recent call last)",
            "\u001b[0;32m<ipython-input-122-fb0e0080324e>\u001b[0m in \u001b[0;36m<module>\u001b[0;34m()\u001b[0m\n\u001b[0;32m----> 1\u001b[0;31m \u001b[0mx\u001b[0m\u001b[0;34m[\u001b[0m\u001b[0;36m1\u001b[0m\u001b[0;34m]\u001b[0m\u001b[0;34m\u001b[0m\u001b[0;34m\u001b[0m\u001b[0m\n\u001b[0m",
            "\u001b[0;32m/usr/local/lib/python3.7/dist-packages/pandas/core/series.py\u001b[0m in \u001b[0;36m__getitem__\u001b[0;34m(self, key)\u001b[0m\n\u001b[1;32m    880\u001b[0m \u001b[0;34m\u001b[0m\u001b[0m\n\u001b[1;32m    881\u001b[0m         \u001b[0;32melif\u001b[0m \u001b[0mkey_is_scalar\u001b[0m\u001b[0;34m:\u001b[0m\u001b[0;34m\u001b[0m\u001b[0;34m\u001b[0m\u001b[0m\n\u001b[0;32m--> 882\u001b[0;31m             \u001b[0;32mreturn\u001b[0m \u001b[0mself\u001b[0m\u001b[0;34m.\u001b[0m\u001b[0m_get_value\u001b[0m\u001b[0;34m(\u001b[0m\u001b[0mkey\u001b[0m\u001b[0;34m)\u001b[0m\u001b[0;34m\u001b[0m\u001b[0;34m\u001b[0m\u001b[0m\n\u001b[0m\u001b[1;32m    883\u001b[0m \u001b[0;34m\u001b[0m\u001b[0m\n\u001b[1;32m    884\u001b[0m         \u001b[0;32mif\u001b[0m \u001b[0mis_hashable\u001b[0m\u001b[0;34m(\u001b[0m\u001b[0mkey\u001b[0m\u001b[0;34m)\u001b[0m\u001b[0;34m:\u001b[0m\u001b[0;34m\u001b[0m\u001b[0;34m\u001b[0m\u001b[0m\n",
            "\u001b[0;32m/usr/local/lib/python3.7/dist-packages/pandas/core/series.py\u001b[0m in \u001b[0;36m_get_value\u001b[0;34m(self, label, takeable)\u001b[0m\n\u001b[1;32m    988\u001b[0m \u001b[0;34m\u001b[0m\u001b[0m\n\u001b[1;32m    989\u001b[0m         \u001b[0;31m# Similar to Index.get_value, but we do not fall back to positional\u001b[0m\u001b[0;34m\u001b[0m\u001b[0;34m\u001b[0m\u001b[0;34m\u001b[0m\u001b[0m\n\u001b[0;32m--> 990\u001b[0;31m         \u001b[0mloc\u001b[0m \u001b[0;34m=\u001b[0m \u001b[0mself\u001b[0m\u001b[0;34m.\u001b[0m\u001b[0mindex\u001b[0m\u001b[0;34m.\u001b[0m\u001b[0mget_loc\u001b[0m\u001b[0;34m(\u001b[0m\u001b[0mlabel\u001b[0m\u001b[0;34m)\u001b[0m\u001b[0;34m\u001b[0m\u001b[0;34m\u001b[0m\u001b[0m\n\u001b[0m\u001b[1;32m    991\u001b[0m         \u001b[0;32mreturn\u001b[0m \u001b[0mself\u001b[0m\u001b[0;34m.\u001b[0m\u001b[0mindex\u001b[0m\u001b[0;34m.\u001b[0m\u001b[0m_get_values_for_loc\u001b[0m\u001b[0;34m(\u001b[0m\u001b[0mself\u001b[0m\u001b[0;34m,\u001b[0m \u001b[0mloc\u001b[0m\u001b[0;34m,\u001b[0m \u001b[0mlabel\u001b[0m\u001b[0;34m)\u001b[0m\u001b[0;34m\u001b[0m\u001b[0;34m\u001b[0m\u001b[0m\n\u001b[1;32m    992\u001b[0m \u001b[0;34m\u001b[0m\u001b[0m\n",
            "\u001b[0;32m/usr/local/lib/python3.7/dist-packages/pandas/core/indexes/base.py\u001b[0m in \u001b[0;36mget_loc\u001b[0;34m(self, key, method, tolerance)\u001b[0m\n\u001b[1;32m   2898\u001b[0m                 \u001b[0;32mreturn\u001b[0m \u001b[0mself\u001b[0m\u001b[0;34m.\u001b[0m\u001b[0m_engine\u001b[0m\u001b[0;34m.\u001b[0m\u001b[0mget_loc\u001b[0m\u001b[0;34m(\u001b[0m\u001b[0mcasted_key\u001b[0m\u001b[0;34m)\u001b[0m\u001b[0;34m\u001b[0m\u001b[0;34m\u001b[0m\u001b[0m\n\u001b[1;32m   2899\u001b[0m             \u001b[0;32mexcept\u001b[0m \u001b[0mKeyError\u001b[0m \u001b[0;32mas\u001b[0m \u001b[0merr\u001b[0m\u001b[0;34m:\u001b[0m\u001b[0;34m\u001b[0m\u001b[0;34m\u001b[0m\u001b[0m\n\u001b[0;32m-> 2900\u001b[0;31m                 \u001b[0;32mraise\u001b[0m \u001b[0mKeyError\u001b[0m\u001b[0;34m(\u001b[0m\u001b[0mkey\u001b[0m\u001b[0;34m)\u001b[0m \u001b[0;32mfrom\u001b[0m \u001b[0merr\u001b[0m\u001b[0;34m\u001b[0m\u001b[0;34m\u001b[0m\u001b[0m\n\u001b[0m\u001b[1;32m   2901\u001b[0m \u001b[0;34m\u001b[0m\u001b[0m\n\u001b[1;32m   2902\u001b[0m         \u001b[0;32mif\u001b[0m \u001b[0mtolerance\u001b[0m \u001b[0;32mis\u001b[0m \u001b[0;32mnot\u001b[0m \u001b[0;32mNone\u001b[0m\u001b[0;34m:\u001b[0m\u001b[0;34m\u001b[0m\u001b[0;34m\u001b[0m\u001b[0m\n",
            "\u001b[0;31mKeyError\u001b[0m: 1"
          ]
        }
      ]
    },
    {
      "cell_type": "code",
      "metadata": {
        "colab": {
          "base_uri": "https://localhost:8080/"
        },
        "id": "4RAhSfXdMrV0",
        "outputId": "c2718759-d398-4c92-e76e-6a505cd8518a"
      },
      "source": [
        "model.save('gdrive/MyDrive/NLP_final_project/infertility_comments_regression_LSTM_001.pt')"
      ],
      "execution_count": null,
      "outputs": [
        {
          "output_type": "stream",
          "text": [
            "Model: \"model_1\"\n",
            "_________________________________________________________________\n",
            "Layer (type)                 Output Shape              Param #   \n",
            "=================================================================\n",
            "input_2 (InputLayer)         [(None, 512)]             0         \n",
            "_________________________________________________________________\n",
            "embedding (Embedding)        (None, 512, 100)          1000000   \n",
            "_________________________________________________________________\n",
            "bidirectional_1 (Bidirection (None, 256)               234496    \n",
            "_________________________________________________________________\n",
            "dropout_1 (Dropout)          (None, 256)               0         \n",
            "_________________________________________________________________\n",
            "output_layer (Dense)         (None, 1)                 257       \n",
            "=================================================================\n",
            "Total params: 1,234,753\n",
            "Trainable params: 1,234,753\n",
            "Non-trainable params: 0\n",
            "_________________________________________________________________\n"
          ],
          "name": "stdout"
        },
        {
          "output_type": "stream",
          "text": [
            "WARNING:absl:Found untraced functions such as lstm_cell_4_layer_call_and_return_conditional_losses, lstm_cell_4_layer_call_fn, lstm_cell_5_layer_call_and_return_conditional_losses, lstm_cell_5_layer_call_fn, lstm_cell_4_layer_call_fn while saving (showing 5 of 10). These functions will not be directly callable after loading.\n",
            "WARNING:absl:Found untraced functions such as lstm_cell_4_layer_call_and_return_conditional_losses, lstm_cell_4_layer_call_fn, lstm_cell_5_layer_call_and_return_conditional_losses, lstm_cell_5_layer_call_fn, lstm_cell_4_layer_call_fn while saving (showing 5 of 10). These functions will not be directly callable after loading.\n"
          ],
          "name": "stderr"
        },
        {
          "output_type": "stream",
          "text": [
            "INFO:tensorflow:Assets written to: gdrive/MyDrive/NLP_final_project/infertility_comments_regression_LSTM_001.pt/assets\n"
          ],
          "name": "stdout"
        },
        {
          "output_type": "stream",
          "text": [
            "INFO:tensorflow:Assets written to: gdrive/MyDrive/NLP_final_project/infertility_comments_regression_LSTM_001.pt/assets\n"
          ],
          "name": "stderr"
        }
      ]
    },
    {
      "cell_type": "code",
      "metadata": {
        "colab": {
          "base_uri": "https://localhost:8080/",
          "height": 210
        },
        "id": "VNq7SuhLOLx9",
        "outputId": "dae25b80-9d3b-46cb-b890-efb02fa8ebbc"
      },
      "source": [
        "infertility_train[infertility_train.id == \"2t45rt\"]"
      ],
      "execution_count": null,
      "outputs": [
        {
          "output_type": "execute_result",
          "data": {
            "text/html": [
              "<div>\n",
              "<style scoped>\n",
              "    .dataframe tbody tr th:only-of-type {\n",
              "        vertical-align: middle;\n",
              "    }\n",
              "\n",
              "    .dataframe tbody tr th {\n",
              "        vertical-align: top;\n",
              "    }\n",
              "\n",
              "    .dataframe thead th {\n",
              "        text-align: right;\n",
              "    }\n",
              "</style>\n",
              "<table border=\"1\" class=\"dataframe\">\n",
              "  <thead>\n",
              "    <tr style=\"text-align: right;\">\n",
              "      <th></th>\n",
              "      <th>Unnamed: 0</th>\n",
              "      <th>id</th>\n",
              "      <th>created_utc</th>\n",
              "      <th>author</th>\n",
              "      <th>author_fullname</th>\n",
              "      <th>author_flair_text</th>\n",
              "      <th>url</th>\n",
              "      <th>title</th>\n",
              "      <th>selftext</th>\n",
              "      <th>upvote_ratio</th>\n",
              "      <th>score</th>\n",
              "      <th>num_comments</th>\n",
              "      <th>data_split</th>\n",
              "      <th>processed_text</th>\n",
              "      <th>processed_title</th>\n",
              "    </tr>\n",
              "  </thead>\n",
              "  <tbody>\n",
              "    <tr>\n",
              "      <th>3</th>\n",
              "      <td>5</td>\n",
              "      <td>2t45rt</td>\n",
              "      <td>1.421801e+09</td>\n",
              "      <td>Pamzella</td>\n",
              "      <td>t2_aifrd</td>\n",
              "      <td>41 MFI &amp; DOR 1MC mult IUIs</td>\n",
              "      <td>https://www.reddit.com/r/infertility/comments/...</td>\n",
              "      <td>\"Shared risk\" clinics</td>\n",
              "      <td>Please educate me, someone asked me about this...</td>\n",
              "      <td>1.0</td>\n",
              "      <td>7</td>\n",
              "      <td>17</td>\n",
              "      <td>train</td>\n",
              "      <td>[['please', 'educate', 'I', 'someone', 'ask', ...</td>\n",
              "      <td>[['share', 'risk', 'clinic']]</td>\n",
              "    </tr>\n",
              "  </tbody>\n",
              "</table>\n",
              "</div>"
            ],
            "text/plain": [
              "   Unnamed: 0  ...                processed_title\n",
              "3           5  ...  [['share', 'risk', 'clinic']]\n",
              "\n",
              "[1 rows x 15 columns]"
            ]
          },
          "metadata": {
            "tags": []
          },
          "execution_count": 141
        }
      ]
    },
    {
      "cell_type": "code",
      "metadata": {
        "colab": {
          "base_uri": "https://localhost:8080/",
          "height": 867
        },
        "id": "rdSkwvqgN0Qe",
        "outputId": "92dadfdb-78e6-49cb-f227-585ce7bfcc01"
      },
      "source": [
        "# x = i_val_num_comments.values\n",
        "\n",
        "# preds = model.predict(i_val_padded)\n",
        "# preds_diff = x - preds\n",
        "\n",
        "# #get prediction if all mean\n",
        "# preds_mean = [np.mean(x)]*len(x)\n",
        "# preds_mean_diff = x - preds_mean\n",
        "\n",
        "# preds_median = [np.median(x)]*len(x)\n",
        "# preds_median_diff = x - preds_median\n",
        "\n",
        "# plot = plt.figure(1)\n",
        "# plt.hist(preds_mean_diff, bins=20)\n",
        "# plt.title('Histogram of error when using mean as prediction ')\n",
        "# plt.xlabel('Error')\n",
        "\n",
        "# plot = plt.figure(2)\n",
        "# plt.hist(preds_median_diff, bins=20)\n",
        "# plt.title('Histogram of error when using median as prediction ')\n",
        "# plt.xlabel('Error')\n",
        "\n",
        "# plot = plt.figure(3)\n",
        "# plt.hist(preds_diff, bins=20)\n",
        "# plt.title('Histogram of error when using model as prediction ')\n",
        "# plt.xlabel('Error')\n"
      ],
      "execution_count": null,
      "outputs": [
        {
          "output_type": "execute_result",
          "data": {
            "text/plain": [
              "Text(0.5, 0, 'Error')"
            ]
          },
          "metadata": {
            "tags": []
          },
          "execution_count": 122
        },
        {
          "output_type": "display_data",
          "data": {
            "image/png": "[encoded data removed]",
            "text/plain": [
              "<Figure size 432x288 with 1 Axes>"
            ]
          },
          "metadata": {
            "tags": []
          }
        },
        {
          "output_type": "display_data",
          "data": {
            "image/png": "[encoded data removed]",
            "text/plain": [
              "<Figure size 432x288 with 1 Axes>"
            ]
          },
          "metadata": {
            "tags": []
          }
        },
        {
          "output_type": "display_data",
          "data": {
            "image/png": "[encoded data removed]",
            "text/plain": [
              "<Figure size 432x288 with 1 Axes>"
            ]
          },
          "metadata": {
            "tags": []
          }
        }
      ]
    },
    {
      "cell_type": "code",
      "metadata": {
        "id": "RaWx5ak3N601"
      },
      "source": [
        "# from sklearn.linear_model import LinearRegression\n",
        "\n",
        "# reg = LinearRegression().fit(i_train_padded, i_train_num_comments.values)\n",
        "\n",
        "# r2 = reg.score(i_train_padded, i_train_num_comments.values)\n",
        "\n",
        "# preds = reg.predict(i_val_padded)\n",
        "\n",
        "# round_preds = np.round(preds)\n",
        "\n",
        "# #calculate number of correct predictions\n",
        "# num_correct_preds = sum([1 if i_val_num_comments.values[i] == round_preds[i] else 0 for i in range(len(round_preds))])\n"
      ],
      "execution_count": null,
      "outputs": []
    },
    {
      "cell_type": "code",
      "metadata": {
        "colab": {
          "base_uri": "https://localhost:8080/"
        },
        "id": "L_Yt45VjOff3",
        "outputId": "0ddb7e6f-8c51-429d-db8b-b7be217b60b7"
      },
      "source": [
        "print(len(i_val_num_comments), len(round_preds))\n",
        "\n",
        "# i_val_num_comments.values\n",
        "print(num_correct_preds)\n",
        "num_correct_preds / len(i_val_num_comments)"
      ],
      "execution_count": null,
      "outputs": [
        {
          "output_type": "stream",
          "text": [
            "2977 2977\n",
            "66\n"
          ],
          "name": "stdout"
        },
        {
          "output_type": "execute_result",
          "data": {
            "text/plain": [
              "0.022169969768223042"
            ]
          },
          "metadata": {
            "tags": []
          },
          "execution_count": 39
        }
      ]
    },
    {
      "cell_type": "code",
      "metadata": {
        "colab": {
          "base_uri": "https://localhost:8080/",
          "height": 277
        },
        "id": "yGQE55P--K-n",
        "outputId": "2989e33a-62d3-40d2-a888-cb803a5f2091"
      },
      "source": [
        "\n",
        "#get predictions\n",
        "test_predictions = model.predict(i_val_padded).flatten()\n",
        "round_preds = np.round(test_predictions)\n",
        "\n",
        "#calculate number of correct predictions\n",
        "num_correct_preds   = sum([1 if i_val_num_comments.values[i] == round_preds[i] else 0 for i in range(len(round_preds))])\n",
        "\n",
        "print(num_correct_preds)\n",
        "print(num_correct_preds/len(round_preds))\n",
        "\n",
        "#Get prediction error histogram\n",
        "from matplotlib.pyplot import figure\n",
        "figure(figsize=(10, 10))\n",
        "\n",
        "\n",
        "#compare predictions to actual labels\n",
        "error = test_predictions - i_val_num_comments.values\n",
        "\n",
        "\n",
        "plt.hist(error, bins=35)\n",
        "plt.xlabel('Error')\n",
        "_ = plt.ylabel('Count')\n",
        "plt.title('Distribution of Prediction Error for infertility (n = 2977) ')\n",
        "plt.show()"
      ],
      "execution_count": null,
      "outputs": [
        {
          "output_type": "stream",
          "text": [
            "99\n",
            "0.033254954652334565\n"
          ],
          "name": "stdout"
        },
        {
          "output_type": "error",
          "ename": "AttributeError",
          "evalue": "ignored",
          "traceback": [
            "\u001b[0;31m---------------------------------------------------------------------------\u001b[0m",
            "\u001b[0;31mAttributeError\u001b[0m                            Traceback (most recent call last)",
            "\u001b[0;32m<ipython-input-41-88bd5c19fa1a>\u001b[0m in \u001b[0;36m<module>\u001b[0;34m()\u001b[0m\n\u001b[1;32m     18\u001b[0m \u001b[0merror\u001b[0m \u001b[0;34m=\u001b[0m \u001b[0mtest_predictions\u001b[0m \u001b[0;34m-\u001b[0m \u001b[0mi_val_num_comments\u001b[0m\u001b[0;34m.\u001b[0m\u001b[0mvalues\u001b[0m\u001b[0;34m\u001b[0m\u001b[0;34m\u001b[0m\u001b[0m\n\u001b[1;32m     19\u001b[0m \u001b[0;34m\u001b[0m\u001b[0m\n\u001b[0;32m---> 20\u001b[0;31m \u001b[0mprint\u001b[0m\u001b[0;34m(\u001b[0m\u001b[0merror\u001b[0m\u001b[0;34m.\u001b[0m\u001b[0msummary\u001b[0m\u001b[0;34m(\u001b[0m\u001b[0;34m)\u001b[0m\u001b[0;34m)\u001b[0m\u001b[0;34m\u001b[0m\u001b[0;34m\u001b[0m\u001b[0m\n\u001b[0m\u001b[1;32m     21\u001b[0m \u001b[0;34m\u001b[0m\u001b[0m\n\u001b[1;32m     22\u001b[0m \u001b[0mplt\u001b[0m\u001b[0;34m.\u001b[0m\u001b[0mhist\u001b[0m\u001b[0;34m(\u001b[0m\u001b[0merror\u001b[0m\u001b[0;34m,\u001b[0m \u001b[0mbins\u001b[0m\u001b[0;34m=\u001b[0m\u001b[0;36m35\u001b[0m\u001b[0;34m)\u001b[0m\u001b[0;34m\u001b[0m\u001b[0;34m\u001b[0m\u001b[0m\n",
            "\u001b[0;31mAttributeError\u001b[0m: 'numpy.ndarray' object has no attribute 'summary'"
          ]
        },
        {
          "output_type": "display_data",
          "data": {
            "text/plain": [
              "<Figure size 720x720 with 0 Axes>"
            ]
          },
          "metadata": {
            "tags": []
          }
        }
      ]
    },
    {
      "cell_type": "code",
      "metadata": {
        "colab": {
          "base_uri": "https://localhost:8080/"
        },
        "id": "IdaLIfZ5QeaT",
        "outputId": "857b8ef6-b2dd-4d3e-aa07-a26531230a5d"
      },
      "source": [
        "np.median(error)"
      ],
      "execution_count": null,
      "outputs": [
        {
          "output_type": "execute_result",
          "data": {
            "text/plain": [
              "-0.16881656646728516"
            ]
          },
          "metadata": {
            "tags": []
          },
          "execution_count": 49
        }
      ]
    },
    {
      "cell_type": "markdown",
      "metadata": {
        "id": "rhMSYqXF-X6E"
      },
      "source": [
        "##Model for regression task - ttcafterloss"
      ]
    },
    {
      "cell_type": "code",
      "metadata": {
        "colab": {
          "base_uri": "https://localhost:8080/"
        },
        "id": "LY6nFF6J-bFc",
        "outputId": "62ba665b-259a-4ca2-d120-729800d337f7"
      },
      "source": [
        "import tensorflow.keras as K\n",
        "\n",
        "vocab_size = 10000\n",
        "embedding_dim = 100\n",
        "\n",
        "# build embedding + LSTM model with functional API\n",
        "input = K.Input(shape=(seq_len,), dtype='int32')\n",
        "\n",
        "weight = t_reps_word2vec\n",
        "x = K.layers.Embedding(input_dim = vocab_size, output_dim = embedding_dim, \n",
        "                       weights=[weight.detach().numpy()], name='embedding')(input)\n",
        "x = K.layers.Bidirectional(K.layers.LSTM(units = 15))(x)   #make bidirectional=True\n",
        "# x = K.layers.LSTM(units = 128) (x)\n",
        "x = K.layers.Dropout(rate=0.5)(x)\n",
        "\n",
        "x = K.layers.Dense(units=1, activation='linear', \n",
        "                   name='output_layer')(x)\n",
        "\n",
        "model = K.Model(inputs=input, outputs=x)\n",
        "model.summary()\n",
        "\n",
        "opt = Adam(learning_rate=.001)\n",
        "epochs=16\n",
        "\n",
        "model.compile(optimizer=opt, \n",
        "              loss='mean_squared_error', #use mean squared error\n",
        "              metrics=['mse' ]) \n",
        "model.summary() \n",
        "\n",
        "#Evaluation\n",
        "from keras.callbacks import History \n",
        "history = History() #save model metrics and loss per epoch\n",
        "\n",
        "\n",
        "#train model\n",
        "hist = model.fit(x=t_train_padded, \n",
        "         y = t_train_num_comments_0,\n",
        "         batch_size=32,\n",
        "         validation_data = (t_val_padded, t_val_num_comments_0),\n",
        "         epochs=epochs,\n",
        "         callbacks=[history] ,\n",
        "         verbose=0\n",
        "         ) #do not print log of every epoch\n",
        "\n",
        "# torch.save(model.state_dict(), 'gdrive/MyDrive/NLP_final_project/infertility_comments_regression_LSTM_001.pt')\n",
        "            "
      ],
      "execution_count": null,
      "outputs": [
        {
          "output_type": "stream",
          "text": [
            "Model: \"model_29\"\n",
            "_________________________________________________________________\n",
            "Layer (type)                 Output Shape              Param #   \n",
            "=================================================================\n",
            "input_30 (InputLayer)        [(None, 2000)]            0         \n",
            "_________________________________________________________________\n",
            "embedding (Embedding)        (None, 2000, 100)         1000000   \n",
            "_________________________________________________________________\n",
            "bidirectional_29 (Bidirectio (None, 30)                13920     \n",
            "_________________________________________________________________\n",
            "dropout_32 (Dropout)         (None, 30)                0         \n",
            "_________________________________________________________________\n",
            "output_layer (Dense)         (None, 1)                 31        \n",
            "=================================================================\n",
            "Total params: 1,013,951\n",
            "Trainable params: 1,013,951\n",
            "Non-trainable params: 0\n",
            "_________________________________________________________________\n",
            "Model: \"model_29\"\n",
            "_________________________________________________________________\n",
            "Layer (type)                 Output Shape              Param #   \n",
            "=================================================================\n",
            "input_30 (InputLayer)        [(None, 2000)]            0         \n",
            "_________________________________________________________________\n",
            "embedding (Embedding)        (None, 2000, 100)         1000000   \n",
            "_________________________________________________________________\n",
            "bidirectional_29 (Bidirectio (None, 30)                13920     \n",
            "_________________________________________________________________\n",
            "dropout_32 (Dropout)         (None, 30)                0         \n",
            "_________________________________________________________________\n",
            "output_layer (Dense)         (None, 1)                 31        \n",
            "=================================================================\n",
            "Total params: 1,013,951\n",
            "Trainable params: 1,013,951\n",
            "Non-trainable params: 0\n",
            "_________________________________________________________________\n"
          ],
          "name": "stdout"
        }
      ]
    },
    {
      "cell_type": "code",
      "metadata": {
        "id": "0kSaNoGTUrde"
      },
      "source": [
        "model.save('gdrive/MyDrive/NLP_final_project/t_lstm_0mincount_regression_comments')"
      ],
      "execution_count": null,
      "outputs": []
    },
    {
      "cell_type": "code",
      "metadata": {
        "colab": {
          "base_uri": "https://localhost:8080/",
          "height": 555
        },
        "id": "r6-aSu5P-hzV",
        "outputId": "72956a0f-2a1e-4469-bb2f-ff20364f1a29"
      },
      "source": [
        "\n",
        "import matplotlib.pyplot as plt\n",
        "\n",
        "#plot out mse\n",
        "print('Final MSE of training data set: ' + str(np.mean(hist.history['mse'][-1])))\n",
        "print('Final MSE of validation data set: ' + str(np.mean(hist.history['val_mse'][-1])))\n",
        "print()\n",
        "#plot model loss over training and val\n",
        "plot_loss = plt.figure(1)\n",
        "plt.plot(range(epochs), hist.history['mse'], label = 'training')\n",
        "plt.plot(range(epochs), hist.history['val_mse'], label = 'validation')\n",
        "plt.title('Training/Validation MSE over time')\n",
        "plt.legend()\n",
        "plt.ylabel('Loss')\n",
        "plt.xlabel('Epochs')\n",
        "\n",
        "#plot out mae\n",
        "print('Final MAE of training data set: ' + str(np.mean(hist.history['mae'][-1])))\n",
        "print('Final MAE of validation data set: ' + str(np.mean(hist.history['val_mae'][-1])))\n",
        "print()\n",
        "#plot model loss over training and val\n",
        "plot_loss = plt.figure(2)\n",
        "plt.plot(range(epochs), hist.history['mae'], label = 'training')\n",
        "plt.plot(range(epochs), hist.history['val_mae'], label = 'validation')\n",
        "plt.title('Training/Validation MAE over time')\n",
        "plt.legend()\n",
        "plt.ylabel('Loss')\n",
        "plt.xlabel('Epochs')\n",
        "\n",
        "\n",
        "\n"
      ],
      "execution_count": null,
      "outputs": [
        {
          "output_type": "stream",
          "text": [
            "Final MSE of training data set: 65.48932647705078\n",
            "Final MSE of validation data set: 94.78543853759766\n",
            "\n"
          ],
          "name": "stdout"
        },
        {
          "output_type": "error",
          "ename": "KeyError",
          "evalue": "ignored",
          "traceback": [
            "\u001b[0;31m---------------------------------------------------------------------------\u001b[0m",
            "\u001b[0;31mKeyError\u001b[0m                                  Traceback (most recent call last)",
            "\u001b[0;32m<ipython-input-196-f9fb000cae4f>\u001b[0m in \u001b[0;36m<module>\u001b[0;34m()\u001b[0m\n\u001b[1;32m     16\u001b[0m \u001b[0;34m\u001b[0m\u001b[0m\n\u001b[1;32m     17\u001b[0m \u001b[0;31m#plot out mae\u001b[0m\u001b[0;34m\u001b[0m\u001b[0;34m\u001b[0m\u001b[0;34m\u001b[0m\u001b[0m\n\u001b[0;32m---> 18\u001b[0;31m \u001b[0mprint\u001b[0m\u001b[0;34m(\u001b[0m\u001b[0;34m'Final MAE of training data set: '\u001b[0m \u001b[0;34m+\u001b[0m \u001b[0mstr\u001b[0m\u001b[0;34m(\u001b[0m\u001b[0mnp\u001b[0m\u001b[0;34m.\u001b[0m\u001b[0mmean\u001b[0m\u001b[0;34m(\u001b[0m\u001b[0mhist\u001b[0m\u001b[0;34m.\u001b[0m\u001b[0mhistory\u001b[0m\u001b[0;34m[\u001b[0m\u001b[0;34m'mae'\u001b[0m\u001b[0;34m]\u001b[0m\u001b[0;34m[\u001b[0m\u001b[0;34m-\u001b[0m\u001b[0;36m1\u001b[0m\u001b[0;34m]\u001b[0m\u001b[0;34m)\u001b[0m\u001b[0;34m)\u001b[0m\u001b[0;34m)\u001b[0m\u001b[0;34m\u001b[0m\u001b[0;34m\u001b[0m\u001b[0m\n\u001b[0m\u001b[1;32m     19\u001b[0m \u001b[0mprint\u001b[0m\u001b[0;34m(\u001b[0m\u001b[0;34m'Final MAE of validation data set: '\u001b[0m \u001b[0;34m+\u001b[0m \u001b[0mstr\u001b[0m\u001b[0;34m(\u001b[0m\u001b[0mnp\u001b[0m\u001b[0;34m.\u001b[0m\u001b[0mmean\u001b[0m\u001b[0;34m(\u001b[0m\u001b[0mhist\u001b[0m\u001b[0;34m.\u001b[0m\u001b[0mhistory\u001b[0m\u001b[0;34m[\u001b[0m\u001b[0;34m'val_mae'\u001b[0m\u001b[0;34m]\u001b[0m\u001b[0;34m[\u001b[0m\u001b[0;34m-\u001b[0m\u001b[0;36m1\u001b[0m\u001b[0;34m]\u001b[0m\u001b[0;34m)\u001b[0m\u001b[0;34m)\u001b[0m\u001b[0;34m)\u001b[0m\u001b[0;34m\u001b[0m\u001b[0;34m\u001b[0m\u001b[0m\n\u001b[1;32m     20\u001b[0m \u001b[0mprint\u001b[0m\u001b[0;34m(\u001b[0m\u001b[0;34m)\u001b[0m\u001b[0;34m\u001b[0m\u001b[0;34m\u001b[0m\u001b[0m\n",
            "\u001b[0;31mKeyError\u001b[0m: 'mae'"
          ]
        },
        {
          "output_type": "display_data",
          "data": {
            "image/png": "[encoded data removed]",
            "text/plain": [
              "<Figure size 432x288 with 1 Axes>"
            ]
          },
          "metadata": {
            "tags": []
          }
        }
      ]
    },
    {
      "cell_type": "code",
      "metadata": {
        "colab": {
          "base_uri": "https://localhost:8080/"
        },
        "id": "JFDqY4adClWD",
        "outputId": "8e6c90b5-c077-4a6e-8f73-9496ea2a0446"
      },
      "source": [
        "preds = model.predict(t_val_padded)\n",
        "preds_round = np.round(preds)\n",
        "preds_round = preds_round.flatten()\n",
        "\n",
        "correct = [preds_round[i] if preds_round[i] == t_val_num_comments.values[i] else -1 for i in range(len(preds))]\n",
        "print(correct)\n",
        "# np.count_nonzero(correct)\n",
        "import collections\n",
        "\n",
        "print(collections.Counter(correct))\n",
        "\n",
        "print(sum([1 if i != -1 else 0 for i in correct]))\n",
        "len(correct)"
      ],
      "execution_count": null,
      "outputs": [
        {
          "output_type": "stream",
          "text": [
            "[-1, -1, -1, -1, 11.0, 5.0, -1, -1, -1, -1, -1, -1, -1, -1, 7.0, -1, -1, -1, -1, -1, -1, -1, -1, -1, -1, -1, -1, -1, 5.0, -1, -1, -1, -1, -1, -1, 9.0, -1, -1, -1, -1, -1, -1, -1, 9.0, -1, -1, -1, 11.0, -1, -1, -1, -1, 8.0, -1, -1, -1, -1, -1, -1, -1, -1, -1, -1, -1, -1, -1, -1, -1, -1, -1, -1, 8.0, -1, -1, -1, -1, -1, 5.0, -1, -1, -1, -1, 8.0, -1, -1, -1, -1, -1, -1, -1, -1, 7.0, -1, -1, 7.0, -1, -1, -1, -1, -1, -1, -1, 6.0, -1, -1, -1, -1, -1, -1, -1, -1, -1, -1, -1, -1, -1, -1, -1, -1, -1, -1, -1, -1, -1, -1, -1, -1, -1, -1, -1, -1, -1, -1, -1, -1, -1, -1, -1, -1, -1, -1, -1, 7.0, -1, -1, -1, -1, -1, -1, -1, -1, -1, -1, -1, -1, -1, -1, -1, -1, -1, -1, -1, -1, -1, -1, -1, -1, -1, -1, -1, -1, -1, -1, -1, -1, -1, -1, -1, -1, -1, -1, -1, -1, -1, -1, -1, -1, -1, -1, -1, -1, 11.0, -1, -1, -1, 6.0, -1, -1, -1, -1, -1, -1, 8.0, -1, -1, -1, -1, -1, -1, -1, -1, 4.0, 5.0, -1, -1, -1, -1, 7.0, -1, -1, -1, 9.0, -1, -1, 10.0, -1, -1, -1, -1, -1, -1, -1, -1, -1, -1, -1, -1, -1, -1, -1, -1, -1, 9.0, -1, 8.0, -1, -1, -1, -1, -1, -1, -1, -1, -1, 13.0, -1, -1, -1, -1, -1, -1, -1, -1, -1, -1, -1, -1, -1, -1, -1, -1, -1, 6.0, -1, -1, -1, -1, -1, -1, -1, -1, 8.0, -1, -1, -1, -1, -1, -1, -1, -1, -1, -1, 6.0, -1, -1, -1, -1, -1, -1, -1, -1, -1, -1, -1, -1, -1, -1, -1, -1, -1, -1, -1, -1, -1, -1, -1, -1, 8.0, -1, -1, -1, -1, -1, -1, -1, -1, -1, 7.0, -1, -1, -1, -1, -1, 10.0, -1, -1, 7.0, -1, -1, -1, -1, -1, -1, -1, -1, -1, -1, -1, -1, -1, 9.0, -1, -1, -1, -1, -1, 7.0, -1, -1, -1, -1, 6.0, -1, -1, -1, -1, -1, -1, -1, -1, -1, -1, -1, -1, -1, -1, 11.0, 11.0, -1, -1, -1, -1, -1, -1, -1, -1, -1, -1, -1, -1, -1, 10.0, -1, -1, -1, -1, -1, -1, -1, -1, -1, -1, -1, -1, -1, -1, -1, -1, -1, -1, -1, -1, -1, -1, -1, -1, -1, -1, -1, -1, -1, -1, -1, -1, -1, -1, -1, 10.0, -1, -1, -1, -1, -1, -1, -1, -1, -1, -1, -1, -1, -1, -1, -1, -1, -1, -1, -1, -1, -1, -1, -1, -1, -1, -1, -1, -1, -1, -1, -1, -1, 12.0, -1, -1, -1, -1, -1, -1, -1, -1, -1, -1, -1, -1, -1, -1, -1, -1, -1, -1, -1, -1, -1, -1, -1, -1, -1, -1, -1, -1, -1, -1, -1, -1, 10.0, -1, -1, -1, -1, -1, -1, -1, -1, -1, -1, -1, -1, -1, 13.0, -1, -1, -1, -1, -1, -1, -1, -1, -1, -1, -1, -1, -1, -1, -1, -1, -1, -1, -1, -1, -1, -1, 10.0, -1, -1, -1, -1, -1, 8.0, -1, -1, -1, -1, -1, -1, 6.0, -1, -1, -1, -1, -1, -1, 8.0, -1, -1, -1, -1, -1, 7.0, -1, -1, -1, -1, -1, -1, -1, -1, -1, -1, -1, -1, -1, -1, -1, -1, -1, -1, -1, -1, -1, -1, -1, -1, -1, -1, -1, -1, -1, -1, -1, -1, -1, -1, -1, -1, -1, -1, -1, -1, -1, -1, -1, -1, -1, -1, -1, 15.0, -1, -1, -1, -1, -1, -1, -1, -1, -1, -1, -1, -1, -1, -1, -1, -1, -1, -1, -1, -1, -1, -1, -1, -1, -1, -1, -1, -1, -1, -1, -1, -1, -1, -1, -1, -1, -1, -1, 9.0, 6.0, 8.0, -1, -1, -1, -1, -1, -1, -1, -1, -1, -1, -1, -1, -1, -1, -1, -1, 8.0, -1, -1, -1, -1, 7.0, -1, -1, -1, 7.0, -1, -1, -1, -1, -1, -1, -1, -1, -1, -1, -1, -1, -1, -1, -1, -1, -1, 6.0, -1, -1, -1, -1, -1, -1, -1, -1, -1, 11.0, -1, -1, -1, -1, -1, -1, -1, -1, -1, -1, -1, -1, -1, -1, -1, -1, -1, -1, -1, -1, -1, -1, -1, -1, -1, -1, -1, -1, -1, -1, -1, -1, -1, -1, -1, -1, -1, -1, -1, -1, -1, -1, -1, -1, -1, -1, -1, -1, -1, 10.0, -1, -1, -1, -1, -1, -1, -1, -1, -1, 4.0, -1, -1, -1, -1, -1, -1, -1, -1, -1, -1, -1, -1, -1, -1, -1, -1, -1, -1, 5.0, -1, -1, -1, -1, -1, -1, -1, -1, -1, -1, -1, -1, -1, -1, -1, -1, -1, -1, -1, -1, -1, -1, -1, -1, -1, -1, -1, -1, -1, -1, -1, 6.0, -1, -1, -1, -1, -1, -1, -1, -1, 7.0, -1, -1, 8.0, -1, -1, -1, -1, -1, -1, -1, -1, -1, -1, -1, -1, -1, -1, -1, 9.0, -1, -1, -1, -1, -1, -1, -1, -1, -1, -1, -1, -1, -1, -1, -1, -1, -1, -1, -1, -1, -1, -1, -1, -1, -1, 8.0, -1, -1, -1, -1, -1, -1, -1, -1, -1, -1, -1, -1, -1, -1, -1, -1, -1, -1, 7.0, -1, -1, 11.0, -1, -1, -1, -1, -1, -1, -1, -1, -1, -1, -1, -1, -1, -1, -1, -1, -1, -1, -1, -1, -1, -1, -1, -1, -1, -1, -1, -1, -1, -1, -1, -1, -1, -1, -1, -1, -1, -1, -1, -1, -1, -1, -1, -1, -1, -1, -1, -1, -1, -1, -1, -1, -1, -1, -1, -1, -1, -1, -1, -1, -1, -1, -1, -1, -1, -1, -1, -1, -1, -1, -1, -1, -1, -1, -1, -1, -1, -1, -1, -1, -1, -1, -1, -1, -1, -1, -1, -1, -1, -1, -1, -1, -1, -1, 5.0, -1, -1, -1, 8.0, -1, -1, -1, -1, -1, -1, -1, -1, -1, -1, -1, -1, -1, 6.0, -1, -1, -1, -1, -1, -1, -1, -1, -1, -1, -1, -1, -1, -1, -1, -1, -1, -1, -1, -1, -1, 9.0, -1, -1, -1, -1, -1, -1, -1, -1, -1, -1, -1, -1, -1, -1, -1, -1, -1, -1, -1, -1, -1, -1, -1, 6.0, -1, -1, -1, -1, -1, -1, -1, -1, -1, -1, -1, -1, -1, -1, -1, -1, -1, -1, -1, -1, -1, -1, 7.0, -1, -1, -1, -1, -1, -1, -1, -1, -1, 6.0, -1, -1, -1, -1, -1, -1, -1, -1, -1, -1, -1, -1, -1, -1, -1, -1, -1, -1, -1, -1, -1, -1, -1, -1, -1, -1, 5.0, -1, -1, -1, -1, -1, 8.0, -1, -1, -1, -1, -1, -1, -1, -1, -1, -1, -1, -1, -1, -1, -1, -1, -1, -1, -1, -1, -1, -1, -1, -1, -1, -1, -1, -1, -1, -1, -1, -1, -1, -1, -1, -1, -1, -1, -1, -1, -1, -1, -1, 9.0, -1, -1, -1, -1, -1, 7.0, -1, 7.0, -1, -1, -1, -1, -1, -1, -1, -1, -1, -1, -1, -1, -1, -1, -1, 6.0, -1, -1, -1, -1, -1, -1, -1, -1, -1, -1, -1, 7.0, -1, -1, -1, -1, -1, -1, -1, -1, -1, -1, -1, -1, -1, -1, -1, -1, -1, -1, -1, -1, -1, -1, -1, -1, -1, 7.0, -1, -1, -1, -1, -1, -1, 9.0, -1, -1, -1, -1, -1, 10.0, -1, -1, -1, -1, -1, -1, -1, -1, -1, -1, -1, -1, -1, -1, -1, -1, -1, -1, -1, -1, -1, -1, -1, -1, -1, -1, -1, -1, -1, 9.0, -1, -1, -1, 5.0, -1, -1, -1, -1, 8.0, -1, -1, -1, -1, -1, -1, -1, -1, -1, -1, 9.0, -1, -1, -1, -1, -1, -1, -1, -1, -1, -1, -1, -1, -1, -1, -1, -1, -1, -1, 10.0, -1, -1, -1, -1, -1, -1, -1, -1, -1, -1, -1, -1, -1, -1, -1, -1, -1, -1, -1, -1, -1, -1, -1, -1, -1, -1, -1, -1, -1, -1, -1, -1, -1, -1, -1, -1, -1, -1, -1, -1, -1, -1, -1, -1, -1, -1, -1, -1, -1, -1, -1, -1, -1, -1, -1, -1, -1, -1, -1, -1, -1, -1, -1, -1, -1, -1, -1, -1, -1, -1, -1, -1, -1, -1, -1, -1, -1, -1, -1, -1, -1, -1, -1, -1, -1, -1, -1, -1, -1, -1, -1, -1, -1, -1, -1, -1, -1, -1, -1, -1, 9.0, -1, -1, -1, -1, -1, -1, -1, 8.0, -1, -1, -1, -1, -1, -1, -1, -1, -1, -1, -1, -1, -1, -1, -1, -1, -1, -1, -1, -1, -1, -1, -1, -1, -1, -1, -1, -1, -1, -1, -1, -1, -1, -1, -1, -1, -1, -1, -1, -1, -1, -1, -1, -1, -1, -1, -1, -1, -1, -1, -1, -1, -1, -1, -1, -1, -1, -1, -1, -1, -1, -1, -1, -1, -1, 5.0, -1, -1, 10.0, -1, -1, -1]\n",
            "Counter({-1: 1388, 7.0: 18, 8.0: 17, 9.0: 13, 6.0: 13, 10.0: 10, 5.0: 9, 11.0: 7, 4.0: 2, 13.0: 2, 12.0: 1, 15.0: 1})\n",
            "93\n"
          ],
          "name": "stdout"
        },
        {
          "output_type": "execute_result",
          "data": {
            "text/plain": [
              "1481"
            ]
          },
          "metadata": {
            "tags": []
          },
          "execution_count": 68
        }
      ]
    },
    {
      "cell_type": "code",
      "metadata": {
        "colab": {
          "base_uri": "https://localhost:8080/"
        },
        "id": "F74SOCOCXbaE",
        "outputId": "ec351f72-1f1b-47d7-84bc-957b6b09efeb"
      },
      "source": [
        "#get accuracy if use mean as prediction\n",
        "x=t_val_num_comments.values\n",
        "preds_mean = [np.round(np.mean(x))]*len(x)\n",
        "correct = [preds_mean[i] if preds_mean[i] == x[i] else -1 for i in range(len(preds))]\n",
        "print(sum([1 if i != -1 else 0 for i in correct]))\n",
        "\n",
        "#get accuracy if use median as prediction\n",
        "preds_median = [np.round(np.median(x))]*len(x)\n",
        "correct = [preds_median[i] if preds_median[i] == x[i] else -1 for i in range(len(preds))]\n",
        "print(sum([1 if i != -1 else 0 for i in correct]))\n",
        "\n",
        "#get accuracy if use mode as prediction\n",
        "import scipy.stats as stats\n",
        "preds_mode = [stats.mode(x)[0][0]]*len(x)\n",
        "print(preds_mode)\n",
        "correct = [preds_mode[i] if preds_mode[i] == x[i] else -1 for i in range(len(x))]\n",
        "print(sum([1 if i != -1 else 0 for i in correct]))"
      ],
      "execution_count": null,
      "outputs": [
        {
          "output_type": "stream",
          "text": [
            "72\n",
            "90\n",
            "[4, 4, 4, 4, 4, 4, 4, 4, 4, 4, 4, 4, 4, 4, 4, 4, 4, 4, 4, 4, 4, 4, 4, 4, 4, 4, 4, 4, 4, 4, 4, 4, 4, 4, 4, 4, 4, 4, 4, 4, 4, 4, 4, 4, 4, 4, 4, 4, 4, 4, 4, 4, 4, 4, 4, 4, 4, 4, 4, 4, 4, 4, 4, 4, 4, 4, 4, 4, 4, 4, 4, 4, 4, 4, 4, 4, 4, 4, 4, 4, 4, 4, 4, 4, 4, 4, 4, 4, 4, 4, 4, 4, 4, 4, 4, 4, 4, 4, 4, 4, 4, 4, 4, 4, 4, 4, 4, 4, 4, 4, 4, 4, 4, 4, 4, 4, 4, 4, 4, 4, 4, 4, 4, 4, 4, 4, 4, 4, 4, 4, 4, 4, 4, 4, 4, 4, 4, 4, 4, 4, 4, 4, 4, 4, 4, 4, 4, 4, 4, 4, 4, 4, 4, 4, 4, 4, 4, 4, 4, 4, 4, 4, 4, 4, 4, 4, 4, 4, 4, 4, 4, 4, 4, 4, 4, 4, 4, 4, 4, 4, 4, 4, 4, 4, 4, 4, 4, 4, 4, 4, 4, 4, 4, 4, 4, 4, 4, 4, 4, 4, 4, 4, 4, 4, 4, 4, 4, 4, 4, 4, 4, 4, 4, 4, 4, 4, 4, 4, 4, 4, 4, 4, 4, 4, 4, 4, 4, 4, 4, 4, 4, 4, 4, 4, 4, 4, 4, 4, 4, 4, 4, 4, 4, 4, 4, 4, 4, 4, 4, 4, 4, 4, 4, 4, 4, 4, 4, 4, 4, 4, 4, 4, 4, 4, 4, 4, 4, 4, 4, 4, 4, 4, 4, 4, 4, 4, 4, 4, 4, 4, 4, 4, 4, 4, 4, 4, 4, 4, 4, 4, 4, 4, 4, 4, 4, 4, 4, 4, 4, 4, 4, 4, 4, 4, 4, 4, 4, 4, 4, 4, 4, 4, 4, 4, 4, 4, 4, 4, 4, 4, 4, 4, 4, 4, 4, 4, 4, 4, 4, 4, 4, 4, 4, 4, 4, 4, 4, 4, 4, 4, 4, 4, 4, 4, 4, 4, 4, 4, 4, 4, 4, 4, 4, 4, 4, 4, 4, 4, 4, 4, 4, 4, 4, 4, 4, 4, 4, 4, 4, 4, 4, 4, 4, 4, 4, 4, 4, 4, 4, 4, 4, 4, 4, 4, 4, 4, 4, 4, 4, 4, 4, 4, 4, 4, 4, 4, 4, 4, 4, 4, 4, 4, 4, 4, 4, 4, 4, 4, 4, 4, 4, 4, 4, 4, 4, 4, 4, 4, 4, 4, 4, 4, 4, 4, 4, 4, 4, 4, 4, 4, 4, 4, 4, 4, 4, 4, 4, 4, 4, 4, 4, 4, 4, 4, 4, 4, 4, 4, 4, 4, 4, 4, 4, 4, 4, 4, 4, 4, 4, 4, 4, 4, 4, 4, 4, 4, 4, 4, 4, 4, 4, 4, 4, 4, 4, 4, 4, 4, 4, 4, 4, 4, 4, 4, 4, 4, 4, 4, 4, 4, 4, 4, 4, 4, 4, 4, 4, 4, 4, 4, 4, 4, 4, 4, 4, 4, 4, 4, 4, 4, 4, 4, 4, 4, 4, 4, 4, 4, 4, 4, 4, 4, 4, 4, 4, 4, 4, 4, 4, 4, 4, 4, 4, 4, 4, 4, 4, 4, 4, 4, 4, 4, 4, 4, 4, 4, 4, 4, 4, 4, 4, 4, 4, 4, 4, 4, 4, 4, 4, 4, 4, 4, 4, 4, 4, 4, 4, 4, 4, 4, 4, 4, 4, 4, 4, 4, 4, 4, 4, 4, 4, 4, 4, 4, 4, 4, 4, 4, 4, 4, 4, 4, 4, 4, 4, 4, 4, 4, 4, 4, 4, 4, 4, 4, 4, 4, 4, 4, 4, 4, 4, 4, 4, 4, 4, 4, 4, 4, 4, 4, 4, 4, 4, 4, 4, 4, 4, 4, 4, 4, 4, 4, 4, 4, 4, 4, 4, 4, 4, 4, 4, 4, 4, 4, 4, 4, 4, 4, 4, 4, 4, 4, 4, 4, 4, 4, 4, 4, 4, 4, 4, 4, 4, 4, 4, 4, 4, 4, 4, 4, 4, 4, 4, 4, 4, 4, 4, 4, 4, 4, 4, 4, 4, 4, 4, 4, 4, 4, 4, 4, 4, 4, 4, 4, 4, 4, 4, 4, 4, 4, 4, 4, 4, 4, 4, 4, 4, 4, 4, 4, 4, 4, 4, 4, 4, 4, 4, 4, 4, 4, 4, 4, 4, 4, 4, 4, 4, 4, 4, 4, 4, 4, 4, 4, 4, 4, 4, 4, 4, 4, 4, 4, 4, 4, 4, 4, 4, 4, 4, 4, 4, 4, 4, 4, 4, 4, 4, 4, 4, 4, 4, 4, 4, 4, 4, 4, 4, 4, 4, 4, 4, 4, 4, 4, 4, 4, 4, 4, 4, 4, 4, 4, 4, 4, 4, 4, 4, 4, 4, 4, 4, 4, 4, 4, 4, 4, 4, 4, 4, 4, 4, 4, 4, 4, 4, 4, 4, 4, 4, 4, 4, 4, 4, 4, 4, 4, 4, 4, 4, 4, 4, 4, 4, 4, 4, 4, 4, 4, 4, 4, 4, 4, 4, 4, 4, 4, 4, 4, 4, 4, 4, 4, 4, 4, 4, 4, 4, 4, 4, 4, 4, 4, 4, 4, 4, 4, 4, 4, 4, 4, 4, 4, 4, 4, 4, 4, 4, 4, 4, 4, 4, 4, 4, 4, 4, 4, 4, 4, 4, 4, 4, 4, 4, 4, 4, 4, 4, 4, 4, 4, 4, 4, 4, 4, 4, 4, 4, 4, 4, 4, 4, 4, 4, 4, 4, 4, 4, 4, 4, 4, 4, 4, 4, 4, 4, 4, 4, 4, 4, 4, 4, 4, 4, 4, 4, 4, 4, 4, 4, 4, 4, 4, 4, 4, 4, 4, 4, 4, 4, 4, 4, 4, 4, 4, 4, 4, 4, 4, 4, 4, 4, 4, 4, 4, 4, 4, 4, 4, 4, 4, 4, 4, 4, 4, 4, 4, 4, 4, 4, 4, 4, 4, 4, 4, 4, 4, 4, 4, 4, 4, 4, 4, 4, 4, 4, 4, 4, 4, 4, 4, 4, 4, 4, 4, 4, 4, 4, 4, 4, 4, 4, 4, 4, 4, 4, 4, 4, 4, 4, 4, 4, 4, 4, 4, 4, 4, 4, 4, 4, 4, 4, 4, 4, 4, 4, 4, 4, 4, 4, 4, 4, 4, 4, 4, 4, 4, 4, 4, 4, 4, 4, 4, 4, 4, 4, 4, 4, 4, 4, 4, 4, 4, 4, 4, 4, 4, 4, 4, 4, 4, 4, 4, 4, 4, 4, 4, 4, 4, 4, 4, 4, 4, 4, 4, 4, 4, 4, 4, 4, 4, 4, 4, 4, 4, 4, 4, 4, 4, 4, 4, 4, 4, 4, 4, 4, 4, 4, 4, 4, 4, 4, 4, 4, 4, 4, 4, 4, 4, 4, 4, 4, 4, 4, 4, 4, 4, 4, 4, 4, 4, 4, 4, 4, 4, 4, 4, 4, 4, 4, 4, 4, 4, 4, 4, 4, 4, 4, 4, 4, 4, 4, 4, 4, 4, 4, 4, 4, 4, 4, 4, 4, 4, 4, 4, 4, 4, 4, 4, 4, 4, 4, 4, 4, 4, 4, 4, 4, 4, 4, 4, 4, 4, 4, 4, 4, 4, 4, 4, 4, 4, 4, 4, 4, 4, 4, 4, 4, 4, 4, 4, 4, 4, 4, 4, 4, 4, 4, 4, 4, 4, 4, 4, 4, 4, 4, 4, 4, 4, 4, 4, 4, 4, 4, 4, 4, 4, 4, 4, 4, 4, 4, 4, 4, 4, 4, 4, 4, 4, 4, 4, 4, 4, 4, 4, 4, 4, 4, 4, 4, 4, 4, 4, 4, 4, 4, 4, 4, 4, 4, 4, 4, 4, 4, 4, 4, 4, 4, 4, 4, 4, 4, 4, 4, 4, 4, 4, 4, 4, 4, 4, 4, 4, 4, 4, 4, 4, 4, 4, 4, 4, 4, 4, 4, 4, 4, 4, 4, 4, 4, 4, 4, 4, 4, 4, 4, 4, 4, 4, 4, 4, 4, 4, 4, 4, 4, 4, 4, 4, 4, 4, 4, 4, 4, 4, 4, 4, 4, 4, 4, 4, 4, 4, 4, 4, 4, 4, 4, 4, 4, 4, 4, 4, 4, 4, 4, 4, 4, 4, 4, 4, 4, 4, 4, 4, 4, 4, 4, 4, 4, 4, 4, 4, 4, 4, 4, 4, 4, 4, 4, 4, 4, 4, 4, 4, 4, 4, 4, 4, 4, 4, 4, 4, 4, 4, 4, 4, 4, 4, 4, 4, 4, 4, 4, 4, 4, 4, 4, 4, 4, 4, 4, 4, 4, 4, 4, 4, 4, 4, 4, 4, 4, 4, 4, 4, 4, 4, 4, 4, 4, 4, 4, 4, 4, 4, 4, 4, 4, 4, 4, 4, 4, 4, 4, 4, 4, 4, 4, 4, 4, 4, 4, 4, 4, 4, 4, 4, 4, 4, 4, 4, 4, 4, 4, 4, 4, 4, 4, 4, 4, 4, 4, 4, 4, 4, 4, 4, 4, 4, 4, 4, 4, 4, 4, 4, 4, 4, 4, 4, 4, 4, 4, 4, 4, 4, 4, 4, 4, 4, 4, 4, 4]\n",
            "113\n"
          ],
          "name": "stdout"
        }
      ]
    },
    {
      "cell_type": "markdown",
      "metadata": {
        "id": "1s086fQSz9W3"
      },
      "source": [
        "##Model for categorical task, bin outcomes"
      ]
    },
    {
      "cell_type": "markdown",
      "metadata": {
        "id": "3Fe-BmKsSLuT"
      },
      "source": [
        "Bin outcomes"
      ]
    },
    {
      "cell_type": "code",
      "metadata": {
        "colab": {
          "base_uri": "https://localhost:8080/"
        },
        "id": "xo2gik_kmW3f",
        "outputId": "dab1ab0a-2841-454f-eb6b-a9fe2a3d82e9"
      },
      "source": [
        "# i_abs_max = np.amax([max(i_train_num_comments), max(i_val_num_comments)])\n",
        "# t_abs_max = np.amax([max(t_train_num_comments), max(t_val_num_comments)])\n",
        "# print(i_abs_max, t_abs_max)\n",
        "\n",
        "# i_abs_max = np.amax([max(i_train_num_comments), max(i_val_num_comments)])\n",
        "# t_abs_max = np.amax([max(t_train_num_comments), max(t_val_num_comments)])\n",
        "\n",
        "# hist_i_train_comments = np.histogram(i_train_num_comments, bins=8, range=(0, i_abs_max), weights=None)\n",
        "# hist_i_val_comments = np.histogram(i_val_num_comments, bins=8, range=(0, i_abs_max), weights=None)\n",
        "\n",
        "# hist_t_train_comments = np.histogram(t_train_num_comments, bins=8, range=(0, t_abs_max), weights=None)\n",
        "# hist_t_val_comments = np.histogram(t_val_num_comments, bins=8, range=(0, t_abs_max), weights=None)\n",
        "\n",
        "# print(hist_i_train_comments)\n",
        "# print(hist_i_val_comments)\n",
        "# print(hist_t_train_comments)\n",
        "# print(hist_t_val_comments)"
      ],
      "execution_count": null,
      "outputs": [
        {
          "output_type": "stream",
          "text": [
            "565 113\n",
            "(array([8686,  186,   44,   10,    5,    0,    0,    1]), array([  0.   ,  70.625, 141.25 , 211.875, 282.5  , 353.125, 423.75 ,\n",
            "       494.375, 565.   ]))\n",
            "(array([2899,   60,   16,    2,    0,    0,    0,    0]), array([  0.   ,  70.625, 141.25 , 211.875, 282.5  , 353.125, 423.75 ,\n",
            "       494.375, 565.   ]))\n",
            "(array([3371,  841,  169,   35,   20,    4,    1,    3]), array([  0.   ,  14.125,  28.25 ,  42.375,  56.5  ,  70.625,  84.75 ,\n",
            "        98.875, 113.   ]))\n",
            "(array([1147,  272,   51,    5,    4,    2,    0,    0]), array([  0.   ,  14.125,  28.25 ,  42.375,  56.5  ,  70.625,  84.75 ,\n",
            "        98.875, 113.   ]))\n"
          ],
          "name": "stdout"
        }
      ]
    },
    {
      "cell_type": "code",
      "metadata": {
        "id": "R5oJNhmF0TTE"
      },
      "source": [
        "# #customize bins\n",
        "# i_num_bins = [10,20,30,40,50,60,70,80,90,100]\n",
        "# t_num_bins = [10,20,30,40,50,60,70]\n",
        "\n",
        "# def find_nearest(array,value):\n",
        "#   idx = (np.abs(array-np.ceil(value))).argmin()\n",
        "#   return array[idx]\n",
        "\n",
        "# bin_i_train_comments = [find_nearest(i_num_bins, x) for x in i_train_num_comments]\n",
        "# bin_i_val_comments = [find_nearest(i_num_bins, x) for x in i_val_num_comments]\n",
        "\n",
        "# bin_t_train_comments = [find_nearest(t_num_bins, x) for x in t_train_num_comments]\n",
        "# bin_t_val_comments = [find_nearest(t_num_bins, x) for x in t_val_num_comments]\n",
        "\n",
        "# #binarize labels\n",
        "# from sklearn.preprocessing import LabelBinarizer\n",
        "# label_transformer = LabelBinarizer()\n",
        "\n",
        "# binary_i_train_comments = label_transformer.fit_transform(bin_i_train_comments)\n",
        "# binary_i_val_comments = label_transformer.fit_transform(bin_i_val_comments)\n",
        "\n",
        "# binary_t_train_comments = label_transformer.fit_transform(bin_t_train_comments)\n",
        "# binary_t_val_comments = label_transformer.fit_transform(bin_t_val_comments)\n"
      ],
      "execution_count": null,
      "outputs": []
    },
    {
      "cell_type": "markdown",
      "metadata": {
        "id": "8Ro8eVp-JixV"
      },
      "source": [
        "New binning methods, makes equal size bins"
      ]
    },
    {
      "cell_type": "code",
      "metadata": {
        "id": "Bv3cJgL9IbK5"
      },
      "source": [
        "# data = i_train_num_comments\n",
        "# # parameter q specifies the number of bins\n",
        "# qc = pd.qcut(data, q=6, precision=1)\n",
        "\n",
        "# # bin definition\n",
        "# bins  = qc.cat.categories\n",
        "# print(bins)\n",
        "\n",
        "# # bin corresponding to each point in data\n",
        "# newbin_i_train_comments = qc.cat.codes\n",
        "\n",
        "# #define for val\n",
        "# i_newbins = [0, 5, 9, 13, 18, 29]\n",
        "# newbin_i_val_comments = [find_nearest(i_newbins, x) for x in i_val_num_comments]\n",
        "\n",
        "# newbinary_i_train_comments = label_transformer.fit_transform(newbin_i_train_comments)\n",
        "# newbinary_i_val_comments = label_transformer.fit_transform(newbin_i_val_comments)"
      ],
      "execution_count": null,
      "outputs": []
    },
    {
      "cell_type": "code",
      "metadata": {
        "id": "wq_EejyDjaH5"
      },
      "source": [
        "combined_train_uv_binned=[]\n",
        "for i in combined_train_uv:\n",
        "  if i < 0.86: combined_train_uv_binned.append(0)\n",
        "  elif i < 1: combined_train_uv_binned.append(1)\n",
        "  else: combined_train_uv_binned.append(2)\n",
        "\n",
        "combined_val_uv_binned=[]\n",
        "for i in combined_val_uv:\n",
        "  if i < 0.86: combined_val_uv_binned.append(0)\n",
        "  elif i < 1: combined_val_uv_binned.append(1)\n",
        "  else: combined_val_uv_binned.append(2) \n",
        "\n",
        "combined_train_uv_binned = np.array(combined_train_uv_binned)\n",
        "combined_val_uv_binned = np.array(combined_val_uv_binned)  "
      ],
      "execution_count": 23,
      "outputs": []
    },
    {
      "cell_type": "code",
      "metadata": {
        "colab": {
          "base_uri": "https://localhost:8080/"
        },
        "id": "daTU2PzoQ0FI",
        "outputId": "19266eee-1066-427d-c359-5a35d595f74d"
      },
      "source": [
        "data = pd.Series(combined_train)\n",
        "# parameter q specifies the number of bins\n",
        "qc = pd.qcut(data, q=6, precision=1)\n",
        "\n",
        "# bin definition\n",
        "bins  = qc.cat.categories\n",
        "print(bins)\n",
        "\n",
        "# bin corresponding to each point in data\n",
        "newbin_train_comments = qc.cat.codes\n",
        "\n",
        "#define for val\n",
        "combined_newbins = [4, 8, 11, 16, 25, 565]\n",
        "\n",
        "#get values\n",
        "l_train = [combined_newbins[k] for k in np.searchsorted(combined_newbins, data)]\n",
        "#map values to right bins\n",
        "df = pd.DataFrame({'x': l_train})\n",
        "# print(df)\n",
        "df = df.replace([5, 9, 13, 18, 29, 565], [0, 1, 2, 3, 4, 5])\n",
        "newbin_train_comments = df.x.values\n",
        "\n",
        "data = pd.Series(combined_val)\n",
        "\n",
        "#get values\n",
        "l_val = [combined_newbins[k] for k in np.searchsorted(combined_newbins, data)]\n",
        "#map values to right bins\n",
        "df = pd.DataFrame({'x': l_val})\n",
        "# print(df)\n",
        "df = df.replace([5, 9, 13, 18, 29, 565], [0, 1, 2, 3, 4, 5])\n",
        "newbin_val_comments = df.x.values\n",
        "\n",
        "#binarize labels\n",
        "from sklearn.preprocessing import LabelBinarizer\n",
        "label_transformer = LabelBinarizer()\n",
        "\n",
        "newbinary_train_comments = label_transformer.fit_transform(newbin_train_comments)\n",
        "newbinary_val_comments = label_transformer.fit_transform(newbin_val_comments)"
      ],
      "execution_count": 31,
      "outputs": [
        {
          "output_type": "stream",
          "text": [
            "IntervalIndex([(-0.1, 4.0], (4.0, 8.0], (8.0, 11.0], (11.0, 16.0], (16.0, 25.0], (25.0, 565.0]],\n",
            "              closed='right',\n",
            "              dtype='interval[float64]')\n"
          ],
          "name": "stdout"
        }
      ]
    },
    {
      "cell_type": "code",
      "metadata": {
        "colab": {
          "base_uri": "https://localhost:8080/"
        },
        "id": "BYeQtDkc3etN",
        "outputId": "76015e20-6ecd-4f8f-d215-1e84d31a90e3"
      },
      "source": [
        "preds"
      ],
      "execution_count": null,
      "outputs": [
        {
          "output_type": "execute_result",
          "data": {
            "text/plain": [
              "array([[0.22290622, 0.09837801, 0.23906049, 0.1468916 , 0.15497226,\n",
              "        0.13779141],\n",
              "       [0.14484702, 0.16286357, 0.23304744, 0.1297376 , 0.17526384,\n",
              "        0.15424065],\n",
              "       [0.1900869 , 0.12710612, 0.20872194, 0.15576504, 0.13572286,\n",
              "        0.1825971 ],\n",
              "       ...,\n",
              "       [0.12760602, 0.19212817, 0.22860803, 0.13351412, 0.15918961,\n",
              "        0.15895407],\n",
              "       [0.14145711, 0.21635255, 0.17639515, 0.12203903, 0.15703405,\n",
              "        0.18672214],\n",
              "       [0.18368964, 0.16177253, 0.19827347, 0.12039989, 0.16693448,\n",
              "        0.16893   ]], dtype=float32)"
            ]
          },
          "metadata": {
            "tags": []
          },
          "execution_count": 47
        }
      ]
    },
    {
      "cell_type": "code",
      "metadata": {
        "colab": {
          "base_uri": "https://localhost:8080/"
        },
        "id": "5QkixEAJTQXf",
        "outputId": "98b8bb75-65a4-4a44-9ced-164acffb6196"
      },
      "source": [
        "data = t_train_num_comments\n",
        "# parameter q specifies the number of bins\n",
        "qc = pd.qcut(data, q=6, precision=1)\n",
        "\n",
        "# bin definition\n",
        "bins  = qc.cat.categories\n",
        "print(bins)\n",
        "\n",
        "# bin corresponding to each point in data\n",
        "newbin_t_train_comments = qc.cat.codes\n",
        "\n",
        "#define for val\n",
        "t_newbins = [3, 6, 8, 12, 18, 113]\n",
        "\n",
        "#get values\n",
        "l_train = [t_newbins[k] for k in np.searchsorted(t_newbins, t_train_num_comments)]\n",
        "#map values to right bins\n",
        "df = pd.DataFrame({'x': l_train})\n",
        "# print(df)\n",
        "df = df.replace(t_newbins, [0, 1, 2, 3, 4, 5])\n",
        "newbin_t_train_comments = df.x.values\n",
        "\n",
        "#get values\n",
        "l_val = [t_newbins[k] for k in np.searchsorted(t_newbins, t_val_num_comments)]\n",
        "#map values to right bins\n",
        "df = pd.DataFrame({'x': l_val})\n",
        "# print(df)\n",
        "df = df.replace(t_newbins, [0, 1, 2, 3, 4, 5])\n",
        "newbin_t_val_comments = df.x.values\n",
        "\n",
        "#binarize labels\n",
        "from sklearn.preprocessing import LabelBinarizer\n",
        "label_transformer = LabelBinarizer()\n",
        "\n",
        "newbinary_t_train_comments = label_transformer.fit_transform(newbin_t_train_comments)\n",
        "newbinary_t_val_comments = label_transformer.fit_transform(newbin_t_val_comments)"
      ],
      "execution_count": null,
      "outputs": [
        {
          "output_type": "stream",
          "text": [
            "IntervalIndex([(-0.1, 3.0], (3.0, 6.0], (6.0, 8.0], (8.0, 12.0], (12.0, 18.0], (18.0, 113.0]],\n",
            "              closed='right',\n",
            "              dtype='interval[float64]')\n"
          ],
          "name": "stdout"
        }
      ]
    },
    {
      "cell_type": "code",
      "metadata": {
        "colab": {
          "base_uri": "https://localhost:8080/"
        },
        "id": "WsAxUqUz4Xeq",
        "outputId": "2b6b3b7c-eb2e-4fc8-9356-28e074820ca0"
      },
      "source": [
        "np.sum(newbinary_i_train_comments, axis=0)"
      ],
      "execution_count": null,
      "outputs": [
        {
          "output_type": "execute_result",
          "data": {
            "text/plain": [
              "array([1554, 1598, 1417, 1300, 1531, 1415])"
            ]
          },
          "metadata": {
            "tags": []
          },
          "execution_count": 145
        }
      ]
    },
    {
      "cell_type": "code",
      "metadata": {
        "colab": {
          "base_uri": "https://localhost:8080/",
          "height": 664
        },
        "id": "WLWydO560B8N",
        "outputId": "535ace23-e2e6-4d82-de9d-1f96448b75b7"
      },
      "source": [
        "import tensorflow.keras as K\n",
        "from tensorflow.keras.models import Sequential\n",
        "from tensorflow.keras.layers import Dense, Dropout, Activation\n",
        "from tensorflow.keras.optimizers import SGD\n",
        "from tensorflow.keras.metrics import Recall, Precision\n",
        "\n",
        "\n",
        "epochs=5\n",
        "vocab_size = 10000\n",
        "embedding_dim = 100\n",
        "seq_len=2000\n",
        "\n",
        "# build embedding + LSTM model with functional API\n",
        "input = K.Input(shape=(seq_len,), dtype='int32')\n",
        "\n",
        "weight = i_reps_word2vec\n",
        "x = K.layers.Embedding(input_dim = vocab_size, output_dim = embedding_dim, \n",
        "                       weights=[weight.detach().numpy()], name='embedding')(input)\n",
        "x = K.layers.Bidirectional(K.layers.LSTM(units = 30))(x)   #make bidirectional=True\n",
        "x = K.layers.Dropout(rate=0.5)(x)\n",
        "\n",
        "\n",
        "x = K.layers.Dense(units=len(i_newbins), activation='softmax',  name='output_layer')(x)\n",
        "# x = K.layers.Dense(units=1, activation='sigmoid',  name='output_layer')(x)\n",
        "\n",
        "model = K.Model(inputs=input, outputs=x)\n",
        "model.summary()\n",
        "\n",
        "opt = Adam(lr=.001)\n",
        "\n",
        "model.compile(optimizer=opt, \n",
        "              loss='categorical_crossentropy', #use mean squared error\n",
        "              metrics=['accuracy', Precision() , Recall()\n",
        "                       ])  #AUC, accuracy, loss\n",
        "\n",
        "#Evaluation\n",
        "from keras.callbacks import History \n",
        "history = History() #save model metrics and loss per epoch\n",
        "\n",
        "\n",
        "#train model\n",
        "hist = model.fit(x=i_train_padded, \n",
        "         y = newbinary_i_train_comments,\n",
        "         batch_size=32,\n",
        "         validation_data = (i_val_padded, newbinary_i_val_comments),\n",
        "         epochs=epochs,\n",
        "         callbacks=[history] ,\n",
        "         verbose=0\n",
        "         ) #do not print log of every epoch\n",
        "\n",
        "# model.save('gdrive/MyDrive/NLP_final_project/infertility_comments_classif_LSTM_001.pt')\n"
      ],
      "execution_count": null,
      "outputs": [
        {
          "output_type": "stream",
          "text": [
            "Model: \"model_18\"\n",
            "_________________________________________________________________\n",
            "Layer (type)                 Output Shape              Param #   \n",
            "=================================================================\n",
            "input_19 (InputLayer)        [(None, 2000)]            0         \n",
            "_________________________________________________________________\n",
            "embedding (Embedding)        (None, 2000, 100)         1000000   \n",
            "_________________________________________________________________\n",
            "bidirectional_18 (Bidirectio (None, 60)                31440     \n",
            "_________________________________________________________________\n",
            "dropout_21 (Dropout)         (None, 60)                0         \n",
            "_________________________________________________________________\n",
            "output_layer (Dense)         (None, 6)                 366       \n",
            "=================================================================\n",
            "Total params: 1,031,806\n",
            "Trainable params: 1,031,806\n",
            "Non-trainable params: 0\n",
            "_________________________________________________________________\n"
          ],
          "name": "stdout"
        },
        {
          "output_type": "error",
          "ename": "KeyboardInterrupt",
          "evalue": "ignored",
          "traceback": [
            "\u001b[0;31m---------------------------------------------------------------------------\u001b[0m",
            "\u001b[0;31mKeyboardInterrupt\u001b[0m                         Traceback (most recent call last)",
            "\u001b[0;32m<ipython-input-170-4cbb8de16b2b>\u001b[0m in \u001b[0;36m<module>\u001b[0;34m()\u001b[0m\n\u001b[1;32m     46\u001b[0m          \u001b[0mepochs\u001b[0m\u001b[0;34m=\u001b[0m\u001b[0mepochs\u001b[0m\u001b[0;34m,\u001b[0m\u001b[0;34m\u001b[0m\u001b[0;34m\u001b[0m\u001b[0m\n\u001b[1;32m     47\u001b[0m          \u001b[0mcallbacks\u001b[0m\u001b[0;34m=\u001b[0m\u001b[0;34m[\u001b[0m\u001b[0mhistory\u001b[0m\u001b[0;34m]\u001b[0m \u001b[0;34m,\u001b[0m\u001b[0;34m\u001b[0m\u001b[0;34m\u001b[0m\u001b[0m\n\u001b[0;32m---> 48\u001b[0;31m          \u001b[0mverbose\u001b[0m\u001b[0;34m=\u001b[0m\u001b[0;36m0\u001b[0m\u001b[0;34m\u001b[0m\u001b[0;34m\u001b[0m\u001b[0m\n\u001b[0m\u001b[1;32m     49\u001b[0m          ) #do not print log of every epoch\n\u001b[1;32m     50\u001b[0m \u001b[0;34m\u001b[0m\u001b[0m\n",
            "\u001b[0;32m/usr/local/lib/python3.7/dist-packages/tensorflow/python/keras/engine/training.py\u001b[0m in \u001b[0;36mfit\u001b[0;34m(self, x, y, batch_size, epochs, verbose, callbacks, validation_split, validation_data, shuffle, class_weight, sample_weight, initial_epoch, steps_per_epoch, validation_steps, validation_batch_size, validation_freq, max_queue_size, workers, use_multiprocessing)\u001b[0m\n\u001b[1;32m   1098\u001b[0m                 _r=1):\n\u001b[1;32m   1099\u001b[0m               \u001b[0mcallbacks\u001b[0m\u001b[0;34m.\u001b[0m\u001b[0mon_train_batch_begin\u001b[0m\u001b[0;34m(\u001b[0m\u001b[0mstep\u001b[0m\u001b[0;34m)\u001b[0m\u001b[0;34m\u001b[0m\u001b[0;34m\u001b[0m\u001b[0m\n\u001b[0;32m-> 1100\u001b[0;31m               \u001b[0mtmp_logs\u001b[0m \u001b[0;34m=\u001b[0m \u001b[0mself\u001b[0m\u001b[0;34m.\u001b[0m\u001b[0mtrain_function\u001b[0m\u001b[0;34m(\u001b[0m\u001b[0miterator\u001b[0m\u001b[0;34m)\u001b[0m\u001b[0;34m\u001b[0m\u001b[0;34m\u001b[0m\u001b[0m\n\u001b[0m\u001b[1;32m   1101\u001b[0m               \u001b[0;32mif\u001b[0m \u001b[0mdata_handler\u001b[0m\u001b[0;34m.\u001b[0m\u001b[0mshould_sync\u001b[0m\u001b[0;34m:\u001b[0m\u001b[0;34m\u001b[0m\u001b[0;34m\u001b[0m\u001b[0m\n\u001b[1;32m   1102\u001b[0m                 \u001b[0mcontext\u001b[0m\u001b[0;34m.\u001b[0m\u001b[0masync_wait\u001b[0m\u001b[0;34m(\u001b[0m\u001b[0;34m)\u001b[0m\u001b[0;34m\u001b[0m\u001b[0;34m\u001b[0m\u001b[0m\n",
            "\u001b[0;32m/usr/local/lib/python3.7/dist-packages/tensorflow/python/eager/def_function.py\u001b[0m in \u001b[0;36m__call__\u001b[0;34m(self, *args, **kwds)\u001b[0m\n\u001b[1;32m    826\u001b[0m     \u001b[0mtracing_count\u001b[0m \u001b[0;34m=\u001b[0m \u001b[0mself\u001b[0m\u001b[0;34m.\u001b[0m\u001b[0mexperimental_get_tracing_count\u001b[0m\u001b[0;34m(\u001b[0m\u001b[0;34m)\u001b[0m\u001b[0;34m\u001b[0m\u001b[0;34m\u001b[0m\u001b[0m\n\u001b[1;32m    827\u001b[0m     \u001b[0;32mwith\u001b[0m \u001b[0mtrace\u001b[0m\u001b[0;34m.\u001b[0m\u001b[0mTrace\u001b[0m\u001b[0;34m(\u001b[0m\u001b[0mself\u001b[0m\u001b[0;34m.\u001b[0m\u001b[0m_name\u001b[0m\u001b[0;34m)\u001b[0m \u001b[0;32mas\u001b[0m \u001b[0mtm\u001b[0m\u001b[0;34m:\u001b[0m\u001b[0;34m\u001b[0m\u001b[0;34m\u001b[0m\u001b[0m\n\u001b[0;32m--> 828\u001b[0;31m       \u001b[0mresult\u001b[0m \u001b[0;34m=\u001b[0m \u001b[0mself\u001b[0m\u001b[0;34m.\u001b[0m\u001b[0m_call\u001b[0m\u001b[0;34m(\u001b[0m\u001b[0;34m*\u001b[0m\u001b[0margs\u001b[0m\u001b[0;34m,\u001b[0m \u001b[0;34m**\u001b[0m\u001b[0mkwds\u001b[0m\u001b[0;34m)\u001b[0m\u001b[0;34m\u001b[0m\u001b[0;34m\u001b[0m\u001b[0m\n\u001b[0m\u001b[1;32m    829\u001b[0m       \u001b[0mcompiler\u001b[0m \u001b[0;34m=\u001b[0m \u001b[0;34m\"xla\"\u001b[0m \u001b[0;32mif\u001b[0m \u001b[0mself\u001b[0m\u001b[0;34m.\u001b[0m\u001b[0m_experimental_compile\u001b[0m \u001b[0;32melse\u001b[0m \u001b[0;34m\"nonXla\"\u001b[0m\u001b[0;34m\u001b[0m\u001b[0;34m\u001b[0m\u001b[0m\n\u001b[1;32m    830\u001b[0m       \u001b[0mnew_tracing_count\u001b[0m \u001b[0;34m=\u001b[0m \u001b[0mself\u001b[0m\u001b[0;34m.\u001b[0m\u001b[0mexperimental_get_tracing_count\u001b[0m\u001b[0;34m(\u001b[0m\u001b[0;34m)\u001b[0m\u001b[0;34m\u001b[0m\u001b[0;34m\u001b[0m\u001b[0m\n",
            "\u001b[0;32m/usr/local/lib/python3.7/dist-packages/tensorflow/python/eager/def_function.py\u001b[0m in \u001b[0;36m_call\u001b[0;34m(self, *args, **kwds)\u001b[0m\n\u001b[1;32m    853\u001b[0m       \u001b[0;31m# In this case we have created variables on the first call, so we run the\u001b[0m\u001b[0;34m\u001b[0m\u001b[0;34m\u001b[0m\u001b[0;34m\u001b[0m\u001b[0m\n\u001b[1;32m    854\u001b[0m       \u001b[0;31m# defunned version which is guaranteed to never create variables.\u001b[0m\u001b[0;34m\u001b[0m\u001b[0;34m\u001b[0m\u001b[0;34m\u001b[0m\u001b[0m\n\u001b[0;32m--> 855\u001b[0;31m       \u001b[0;32mreturn\u001b[0m \u001b[0mself\u001b[0m\u001b[0;34m.\u001b[0m\u001b[0m_stateless_fn\u001b[0m\u001b[0;34m(\u001b[0m\u001b[0;34m*\u001b[0m\u001b[0margs\u001b[0m\u001b[0;34m,\u001b[0m \u001b[0;34m**\u001b[0m\u001b[0mkwds\u001b[0m\u001b[0;34m)\u001b[0m  \u001b[0;31m# pylint: disable=not-callable\u001b[0m\u001b[0;34m\u001b[0m\u001b[0;34m\u001b[0m\u001b[0m\n\u001b[0m\u001b[1;32m    856\u001b[0m     \u001b[0;32melif\u001b[0m \u001b[0mself\u001b[0m\u001b[0;34m.\u001b[0m\u001b[0m_stateful_fn\u001b[0m \u001b[0;32mis\u001b[0m \u001b[0;32mnot\u001b[0m \u001b[0;32mNone\u001b[0m\u001b[0;34m:\u001b[0m\u001b[0;34m\u001b[0m\u001b[0;34m\u001b[0m\u001b[0m\n\u001b[1;32m    857\u001b[0m       \u001b[0;31m# Release the lock early so that multiple threads can perform the call\u001b[0m\u001b[0;34m\u001b[0m\u001b[0;34m\u001b[0m\u001b[0;34m\u001b[0m\u001b[0m\n",
            "\u001b[0;32m/usr/local/lib/python3.7/dist-packages/tensorflow/python/eager/function.py\u001b[0m in \u001b[0;36m__call__\u001b[0;34m(self, *args, **kwargs)\u001b[0m\n\u001b[1;32m   2941\u001b[0m        filtered_flat_args) = self._maybe_define_function(args, kwargs)\n\u001b[1;32m   2942\u001b[0m     return graph_function._call_flat(\n\u001b[0;32m-> 2943\u001b[0;31m         filtered_flat_args, captured_inputs=graph_function.captured_inputs)  # pylint: disable=protected-access\n\u001b[0m\u001b[1;32m   2944\u001b[0m \u001b[0;34m\u001b[0m\u001b[0m\n\u001b[1;32m   2945\u001b[0m   \u001b[0;34m@\u001b[0m\u001b[0mproperty\u001b[0m\u001b[0;34m\u001b[0m\u001b[0;34m\u001b[0m\u001b[0m\n",
            "\u001b[0;32m/usr/local/lib/python3.7/dist-packages/tensorflow/python/eager/function.py\u001b[0m in \u001b[0;36m_call_flat\u001b[0;34m(self, args, captured_inputs, cancellation_manager)\u001b[0m\n\u001b[1;32m   1917\u001b[0m       \u001b[0;31m# No tape is watching; skip to running the function.\u001b[0m\u001b[0;34m\u001b[0m\u001b[0;34m\u001b[0m\u001b[0;34m\u001b[0m\u001b[0m\n\u001b[1;32m   1918\u001b[0m       return self._build_call_outputs(self._inference_function.call(\n\u001b[0;32m-> 1919\u001b[0;31m           ctx, args, cancellation_manager=cancellation_manager))\n\u001b[0m\u001b[1;32m   1920\u001b[0m     forward_backward = self._select_forward_and_backward_functions(\n\u001b[1;32m   1921\u001b[0m         \u001b[0margs\u001b[0m\u001b[0;34m,\u001b[0m\u001b[0;34m\u001b[0m\u001b[0;34m\u001b[0m\u001b[0m\n",
            "\u001b[0;32m/usr/local/lib/python3.7/dist-packages/tensorflow/python/eager/function.py\u001b[0m in \u001b[0;36mcall\u001b[0;34m(self, ctx, args, cancellation_manager)\u001b[0m\n\u001b[1;32m    558\u001b[0m               \u001b[0minputs\u001b[0m\u001b[0;34m=\u001b[0m\u001b[0margs\u001b[0m\u001b[0;34m,\u001b[0m\u001b[0;34m\u001b[0m\u001b[0;34m\u001b[0m\u001b[0m\n\u001b[1;32m    559\u001b[0m               \u001b[0mattrs\u001b[0m\u001b[0;34m=\u001b[0m\u001b[0mattrs\u001b[0m\u001b[0;34m,\u001b[0m\u001b[0;34m\u001b[0m\u001b[0;34m\u001b[0m\u001b[0m\n\u001b[0;32m--> 560\u001b[0;31m               ctx=ctx)\n\u001b[0m\u001b[1;32m    561\u001b[0m         \u001b[0;32melse\u001b[0m\u001b[0;34m:\u001b[0m\u001b[0;34m\u001b[0m\u001b[0;34m\u001b[0m\u001b[0m\n\u001b[1;32m    562\u001b[0m           outputs = execute.execute_with_cancellation(\n",
            "\u001b[0;32m/usr/local/lib/python3.7/dist-packages/tensorflow/python/eager/execute.py\u001b[0m in \u001b[0;36mquick_execute\u001b[0;34m(op_name, num_outputs, inputs, attrs, ctx, name)\u001b[0m\n\u001b[1;32m     58\u001b[0m     \u001b[0mctx\u001b[0m\u001b[0;34m.\u001b[0m\u001b[0mensure_initialized\u001b[0m\u001b[0;34m(\u001b[0m\u001b[0;34m)\u001b[0m\u001b[0;34m\u001b[0m\u001b[0;34m\u001b[0m\u001b[0m\n\u001b[1;32m     59\u001b[0m     tensors = pywrap_tfe.TFE_Py_Execute(ctx._handle, device_name, op_name,\n\u001b[0;32m---> 60\u001b[0;31m                                         inputs, attrs, num_outputs)\n\u001b[0m\u001b[1;32m     61\u001b[0m   \u001b[0;32mexcept\u001b[0m \u001b[0mcore\u001b[0m\u001b[0;34m.\u001b[0m\u001b[0m_NotOkStatusException\u001b[0m \u001b[0;32mas\u001b[0m \u001b[0me\u001b[0m\u001b[0;34m:\u001b[0m\u001b[0;34m\u001b[0m\u001b[0;34m\u001b[0m\u001b[0m\n\u001b[1;32m     62\u001b[0m     \u001b[0;32mif\u001b[0m \u001b[0mname\u001b[0m \u001b[0;32mis\u001b[0m \u001b[0;32mnot\u001b[0m \u001b[0;32mNone\u001b[0m\u001b[0;34m:\u001b[0m\u001b[0;34m\u001b[0m\u001b[0;34m\u001b[0m\u001b[0m\n",
            "\u001b[0;31mKeyboardInterrupt\u001b[0m: "
          ]
        }
      ]
    },
    {
      "cell_type": "markdown",
      "metadata": {
        "id": "xEOuORF9rmQa"
      },
      "source": [
        "Multiclass outcome (n=6)"
      ]
    },
    {
      "cell_type": "code",
      "metadata": {
        "colab": {
          "base_uri": "https://localhost:8080/"
        },
        "id": "rLb9EzT57OY8",
        "outputId": "0579b198-e462-41c4-cc50-843dcc4e2d20"
      },
      "source": [
        "hist.history"
      ],
      "execution_count": null,
      "outputs": [
        {
          "output_type": "execute_result",
          "data": {
            "text/plain": [
              "{'auc': [0.5271155834197998,\n",
              "  0.5901338458061218,\n",
              "  0.6295017004013062,\n",
              "  0.6563419103622437,\n",
              "  0.686734139919281],\n",
              " 'loss': [1.8109698295593262,\n",
              "  1.7475783824920654,\n",
              "  1.7070376873016357,\n",
              "  1.6713999509811401,\n",
              "  1.628830909729004],\n",
              " 'precision_5': [0.6129032373428345,\n",
              "  0.9466666579246521,\n",
              "  0.802395224571228,\n",
              "  0.7647058963775635,\n",
              "  0.7331838607788086],\n",
              " 'recall_5': [0.002155416877940297,\n",
              "  0.008054452948272228,\n",
              "  0.015201360918581486,\n",
              "  0.025070901960134506,\n",
              "  0.03709585964679718],\n",
              " 'val_auc': [0.5660770535469055,\n",
              "  0.5839478969573975,\n",
              "  0.5923471450805664,\n",
              "  0.6029413342475891,\n",
              "  0.6083208918571472],\n",
              " 'val_loss': [1.7658979892730713,\n",
              "  1.7447017431259155,\n",
              "  1.7348763942718506,\n",
              "  1.725115180015564,\n",
              "  1.7261186838150024],\n",
              " 'val_precision_5': [0.9285714030265808,\n",
              "  0.9166666865348816,\n",
              "  0.8399999737739563,\n",
              "  0.8181818127632141,\n",
              "  0.8275862336158752],\n",
              " 'val_recall_5': [0.008870692923665047,\n",
              "  0.011258956044912338,\n",
              "  0.021494369953870773,\n",
              "  0.027635619044303894,\n",
              "  0.03275332599878311]}"
            ]
          },
          "metadata": {
            "tags": []
          },
          "execution_count": 156
        }
      ]
    },
    {
      "cell_type": "code",
      "metadata": {
        "colab": {
          "base_uri": "https://localhost:8080/",
          "height": 738
        },
        "id": "71MqP5PfrlmC",
        "outputId": "9f498f75-edfd-4994-933b-0549848d0410"
      },
      "source": [
        "import matplotlib.pyplot as plt\n",
        "\n",
        "# Plot the training and validation loss vs. epochs\n",
        "\n",
        "print('Final AUC of training data set: ' + str(hist.history['auc'][-1]))\n",
        "print('Final AUC of validation data set: ' + str(hist.history['val_auc'][-1]))\n",
        "print()\n",
        "print('Final loss of training data set: ' + str(hist.history['loss'][-1]))\n",
        "print('Final loss of validation data set: ' + str(hist.history['val_loss'][-1]))\n",
        "print()\n",
        "\n",
        "x='5'\n",
        "p1, r1, p2, r2 = 'precision_'+x, 'recall_'+x, 'val_precision_'+x, 'val_recall_'+x\n",
        "\n",
        "f1 = 2*hist.history[p1][-1]*hist.history[r1][-1] / (hist.history[p1][-1] + hist.history[r1][-1])\n",
        "print('Training F1: ' + str(f1))\n",
        "print()\n",
        "f1 = 2*hist.history[p2][-1]*hist.history[r2][-1] / (hist.history[p2][-1] + hist.history[r2][-1])\n",
        "print('Validation F1: ' + str(f1))\n",
        "print()\n",
        "\n",
        "#plot model loss over training and val\n",
        "plot_loss = plt.figure(1)\n",
        "plt.plot(range(epochs), hist.history['loss'], label = 'training')\n",
        "plt.plot(range(epochs), hist.history['val_loss'], label = 'validation')\n",
        "plt.title('Training/Validation Loss over time')\n",
        "plt.legend()\n",
        "plt.ylabel('Loss')\n",
        "plt.xlabel('Epochs')\n",
        "\n",
        "#plot model loss over training and val\n",
        "plot_loss = plt.figure(2)\n",
        "plt.plot(range(epochs), hist.history['auc'], label = 'training')\n",
        "plt.plot(range(epochs), hist.history['val_auc'], label = 'validation')\n",
        "plt.title('Training/Validation AUC over time')\n",
        "plt.legend()\n",
        "plt.ylabel('AUC')\n",
        "plt.xlabel('Epochs')\n",
        "\n",
        "plt.show()"
      ],
      "execution_count": null,
      "outputs": [
        {
          "output_type": "stream",
          "text": [
            "Final AUC of training data set: 0.686734139919281\n",
            "Final AUC of validation data set: 0.6083208918571472\n",
            "\n",
            "Final loss of training data set: 1.628830909729004\n",
            "Final loss of validation data set: 1.7261186838150024\n",
            "\n",
            "Training F1: 0.07061872427257905\n",
            "\n",
            "Validation F1: 0.06301279860678863\n",
            "\n"
          ],
          "name": "stdout"
        },
        {
          "output_type": "display_data",
          "data": {
            "image/png": "[encoded data removed]",
            "text/plain": [
              "<Figure size 432x288 with 1 Axes>"
            ]
          },
          "metadata": {
            "tags": []
          }
        },
        {
          "output_type": "display_data",
          "data": {
            "image/png": "[encoded data removed]",
            "text/plain": [
              "<Figure size 432x288 with 1 Axes>"
            ]
          },
          "metadata": {
            "tags": []
          }
        }
      ]
    },
    {
      "cell_type": "code",
      "metadata": {
        "colab": {
          "base_uri": "https://localhost:8080/"
        },
        "id": "gZSn7zS6sY5x",
        "outputId": "da430b00-1e82-480c-8fc7-1308257e81f0"
      },
      "source": [
        "x=newbin_i_val_comments\n",
        "\n",
        "preds = model.predict(i_val_padded)\n",
        "non_binarized = label_transformer.inverse_transform(preds)\n",
        "print(non_binarized)\n",
        "\n",
        "correct = [non_binarized[i] if non_binarized[i] == x[i] else -1 for i in range(len(non_binarized))]\n",
        "print(sum([1 if i != -1 else 0 for i in correct]))\n",
        "\n",
        "\n",
        "#get accuracy if use mean as prediction\n",
        "\n",
        "preds_mean = [np.round(np.mean(x))]*len(x)\n",
        "correct = [preds_mean[i] if preds_mean[i] == x[i] else -1 for i in range(len(preds))]\n",
        "print(sum([1 if i != -1 else 0 for i in correct]))\n",
        "\n",
        "#get accuracy if use median as prediction\n",
        "preds_median = [np.round(np.median(x))]*len(x)\n",
        "correct = [preds_median[i] if preds_median[i] == x[i] else -1 for i in range(len(preds))]\n",
        "print(sum([1 if i != -1 else 0 for i in correct]))\n",
        "\n",
        "#get accuracy if use mode as prediction\n",
        "import scipy.stats as stats\n",
        "preds_mode = [stats.mode(x)[0][0]]*len(x)\n",
        "correct = [preds_mode[i] if preds_mode[i] == x[i] else -1 for i in range(len(preds))]\n",
        "print(sum([1 if i != -1 else 0 for i in correct]))\n",
        "\n",
        "print(len(preds))\n"
      ],
      "execution_count": null,
      "outputs": [
        {
          "output_type": "stream",
          "text": [
            "2931\n",
            "Using model as prediction\n",
            "1584\n",
            "1541\n"
          ],
          "name": "stdout"
        }
      ]
    },
    {
      "cell_type": "markdown",
      "metadata": {
        "id": "PSuJXidUrj0v"
      },
      "source": [
        "Binary outcome"
      ]
    },
    {
      "cell_type": "code",
      "metadata": {
        "colab": {
          "base_uri": "https://localhost:8080/",
          "height": 999
        },
        "id": "q2ypfAMWMspN",
        "outputId": "8ef5fa9c-038a-4b43-8f3a-1b904228e374"
      },
      "source": [
        "import matplotlib.pyplot as plt\n",
        "\n",
        "\n",
        "##Binary\n",
        "\n",
        "# Plot the training and validation loss vs. epochs\n",
        "print('Final accuracy of training data set: ' + str(hist.history['accuracy'][-1]))\n",
        "print('Final accuracy of validation data set: ' + str(hist.history['val_accuracy'][-1]))\n",
        "print()\n",
        "print('Final loss of training data set: ' + str(hist.history['loss'][-1]))\n",
        "print('Final loss of validation data set: ' + str(hist.history['val_loss'][-1]))\n",
        "print()\n",
        "print('Final AUC of training data set: ' + str(hist.history['auc'][-1]))\n",
        "print('Final AUC of validation data set: ' + str(hist.history['val_auc'][-1]))\n",
        "print()\n",
        "#plot model loss over training and val\n",
        "plot_loss = plt.figure(1)\n",
        "plt.plot(range(epochs), hist.history['loss'], label = 'training')\n",
        "plt.plot(range(epochs), hist.history['val_loss'], label = 'validation')\n",
        "plt.title('Training/Validation Loss over time')\n",
        "plt.legend()\n",
        "plt.ylabel('Loss')\n",
        "plt.xlabel('Epochs')\n",
        "\n",
        "#plot model accuracy over training and val\n",
        "plot_loss = plt.figure(2)\n",
        "plt.plot(range(epochs), hist.history['accuracy'], label = 'training')\n",
        "plt.plot(range(epochs), hist.history['val_accuracy'], label = 'validation')\n",
        "plt.title('Training/Validation Accuracy over time')\n",
        "plt.legend()\n",
        "plt.ylabel('Accuracy')\n",
        "plt.xlabel('Epochs')\n",
        "\n",
        "plot_loss = plt.figure(3)\n",
        "plt.plot(range(epochs), hist.history['auc'], label = 'training')\n",
        "plt.plot(range(epochs), hist.history['val_auc'], label = 'validation')\n",
        "plt.title('Training/Validation AUC over time')\n",
        "plt.legend()\n",
        "plt.ylabel('AUC')\n",
        "plt.xlabel('Epochs')\n",
        "\n",
        "plt.show()"
      ],
      "execution_count": null,
      "outputs": [
        {
          "output_type": "stream",
          "text": [
            "Final accuracy of training data set: 0.646327793598175\n",
            "Final accuracy of validation data set: 0.6577091217041016\n",
            "\n",
            "Final loss of training data set: 0.6374735236167908\n",
            "Final loss of validation data set: 0.6330196261405945\n",
            "\n",
            "Final AUC of training data set: 0.6050336360931396\n",
            "Final AUC of validation data set: 0.6150181889533997\n",
            "\n"
          ],
          "name": "stdout"
        },
        {
          "output_type": "display_data",
          "data": {
            "image/png": "[encoded data removed]",
            "text/plain": [
              "<Figure size 432x288 with 1 Axes>"
            ]
          },
          "metadata": {
            "tags": []
          }
        },
        {
          "output_type": "display_data",
          "data": {
            "image/png": "[encoded data removed]",
            "text/plain": [
              "<Figure size 432x288 with 1 Axes>"
            ]
          },
          "metadata": {
            "tags": []
          }
        },
        {
          "output_type": "display_data",
          "data": {
            "image/png": "[encoded data removed]",
            "text/plain": [
              "<Figure size 432x288 with 1 Axes>"
            ]
          },
          "metadata": {
            "tags": []
          }
        }
      ]
    },
    {
      "cell_type": "code",
      "metadata": {
        "colab": {
          "base_uri": "https://localhost:8080/"
        },
        "id": "G-Gg88lEPwK6",
        "outputId": "a862fade-7e08-4244-ec20-36be8f4ff396"
      },
      "source": [
        "#get accuracy if use mean as prediction\n",
        "x=i_val_comments_2\n",
        "preds_mean = [np.round(np.mean(x))]*len(x)\n",
        "correct = [preds_mean[i] if preds_mean[i] == x[i] else -1 for i in range(len(preds))]\n",
        "print(sum([1 if i != -1 else 0 for i in correct]))\n",
        "\n",
        "#get accuracy if use median as prediction\n",
        "preds_median = [np.round(np.median(x))]*len(x)\n",
        "correct = [preds_median[i] if preds_median[i] == x[i] else -1 for i in range(len(preds))]\n",
        "print(sum([1 if i != -1 else 0 for i in correct]))\n",
        " "
      ],
      "execution_count": null,
      "outputs": [
        {
          "output_type": "stream",
          "text": [
            "950\n",
            "950\n"
          ],
          "name": "stdout"
        }
      ]
    },
    {
      "cell_type": "code",
      "metadata": {
        "colab": {
          "base_uri": "https://localhost:8080/"
        },
        "id": "RvXnziNQFT28",
        "outputId": "00dcb6c2-1c9d-40dd-f924-db2844db4973"
      },
      "source": [
        "preds =model.predict(i_val_padded)\n",
        "preds = np.round(preds)\n",
        "correct = [preds[i] if preds[i] == x[i] else -1 for i in range(len(preds))]\n",
        "print(sum([1 if i != -1 else 0 for i in correct]))"
      ],
      "execution_count": null,
      "outputs": [
        {
          "output_type": "stream",
          "text": [
            "1958\n"
          ],
          "name": "stdout"
        }
      ]
    },
    {
      "cell_type": "code",
      "metadata": {
        "colab": {
          "base_uri": "https://localhost:8080/"
        },
        "id": "U4Xi9yXBEoXm",
        "outputId": "b5ed3d3b-4e32-4714-a880-17aca4e9b753"
      },
      "source": [
        "# model.summary()\n",
        "# test_predictions = model.predict(i_val_padded)\n",
        "\n",
        "# round_preds = np.round(test_predictions)\n",
        "# num_correct_preds   = sum([1 if (binary_i_val_comments[i,:] == round_preds[i,:]).all() else 0 for i in range(len(round_preds))])\n",
        "# print(num_correct_preds)\n",
        "\n",
        "# print(num_correct_preds/len(round_preds))\n",
        "\n",
        "#add to df \n",
        "df = pd.DataFrame({'label': list(binary_i_val_comments), 'pred': list(round_preds.astype(int))})\n",
        "df.label = df.label.astype(str)\n",
        "df.pred = df.pred.astype(str)\n",
        "correct_preds = df[df.label == df.pred]\n",
        "df.label.unique()"
      ],
      "execution_count": null,
      "outputs": [
        {
          "output_type": "execute_result",
          "data": {
            "text/plain": [
              "array(['[0 1 0 0 0 0 0 0 0 0]', '[1 0 0 0 0 0 0 0 0 0]',\n",
              "       '[0 0 1 0 0 0 0 0 0 0]', '[0 0 0 0 0 0 0 0 0 1]',\n",
              "       '[0 0 0 1 0 0 0 0 0 0]', '[0 0 0 0 0 1 0 0 0 0]',\n",
              "       '[0 0 0 0 0 0 0 1 0 0]', '[0 0 0 0 1 0 0 0 0 0]',\n",
              "       '[0 0 0 0 0 0 1 0 0 0]', '[0 0 0 0 0 0 0 0 1 0]'], dtype=object)"
            ]
          },
          "metadata": {
            "tags": []
          },
          "execution_count": 119
        }
      ]
    },
    {
      "cell_type": "code",
      "metadata": {
        "colab": {
          "base_uri": "https://localhost:8080/"
        },
        "id": "WSMF9FgPqMma",
        "outputId": "d95c9db3-6fca-49a7-d2c2-2519e70065fb"
      },
      "source": [
        "import tensorflow.keras as K\n",
        "from tensorflow.keras.models import Sequential\n",
        "from tensorflow.keras.layers import Dense, Dropout, Activation\n",
        "from tensorflow.keras.optimizers import SGD\n",
        "\n",
        "epochs=40\n",
        "vocab_size = 10000\n",
        "embedding_dim = 100\n",
        "\n",
        "t_train_comments_2 = np.array(t_train_comments_2)\n",
        "t_val_comments_2 = np.array(t_val_comments_2)\n",
        "\n",
        "# build embedding + LSTM model with functional API\n",
        "input = K.Input(shape=(seq_len,), dtype='int32')\n",
        "\n",
        "weight = t_reps_word2vec\n",
        "x = K.layers.Embedding(input_dim = vocab_size, output_dim = embedding_dim, \n",
        "                       weights=[weight.detach().numpy()], name='embedding')(input)\n",
        "x = K.layers.Bidirectional(K.layers.LSTM(units = 128))(x)   #make bidirectional=True\n",
        "# x = K.layers.LSTM(units = 128) (x)\n",
        "x = K.layers.Dropout(rate=0.5)(x)\n",
        "\n",
        "# x = K.layers.Dense(units=len(i_newbins), activation='softmax', \n",
        "#                    name='output_layer')(x)\n",
        "x = K.layers.Dense(units=1, activation='sigmoid',  name='output_layer')(x)\n",
        "\n",
        "model = K.Model(inputs=input, outputs=x)\n",
        "model.summary()\n",
        "\n",
        "opt = SGD(learning_rate=.001)\n",
        "\n",
        "model.compile(optimizer=opt, \n",
        "              loss='binary_crossentropy', #use mean squared error\n",
        "              metrics=['accuracy','AUC'\n",
        "                       ])  #AUC, accuracy, loss\n",
        "\n",
        "#Evaluation\n",
        "from keras.callbacks import History \n",
        "history = History() #save model metrics and loss per epoch\n",
        "\n",
        "\n",
        "#train model\n",
        "hist = model.fit(x=t_train_padded, \n",
        "         y = t_train_comments_2,\n",
        "         batch_size=32,\n",
        "         validation_data = (t_val_padded, t_val_comments_2),\n",
        "         epochs=epochs,\n",
        "         callbacks=[history] ,\n",
        "         verbose=0\n",
        "         ) #do not print log of every epoch\n",
        "\n",
        "# model.save('gdrive/MyDrive/NLP_final_project/infertility_comments_classif_LSTM_001.pt')\n"
      ],
      "execution_count": null,
      "outputs": [
        {
          "output_type": "stream",
          "text": [
            "Model: \"model_15\"\n",
            "_________________________________________________________________\n",
            "Layer (type)                 Output Shape              Param #   \n",
            "=================================================================\n",
            "input_17 (InputLayer)        [(None, 512)]             0         \n",
            "_________________________________________________________________\n",
            "embedding (Embedding)        (None, 512, 100)          1000000   \n",
            "_________________________________________________________________\n",
            "bidirectional_15 (Bidirectio (None, 256)               234496    \n",
            "_________________________________________________________________\n",
            "dropout_15 (Dropout)         (None, 256)               0         \n",
            "_________________________________________________________________\n",
            "output_layer (Dense)         (None, 1)                 257       \n",
            "=================================================================\n",
            "Total params: 1,234,753\n",
            "Trainable params: 1,234,753\n",
            "Non-trainable params: 0\n",
            "_________________________________________________________________\n"
          ],
          "name": "stdout"
        }
      ]
    },
    {
      "cell_type": "code",
      "metadata": {
        "colab": {
          "base_uri": "https://localhost:8080/"
        },
        "id": "wUECr1FYlVRK",
        "outputId": "2ae50f53-2fdc-46c2-c9bb-a1b78e10120a"
      },
      "source": [
        "x=t_val_comments_2\n",
        "\n",
        "preds =model.predict(t_val_padded)\n",
        "preds = np.round(preds)\n",
        "correct = [preds[i] if preds[i] == x[i] else -1 for i in range(len(preds))]\n",
        "print(sum([1 if i != -1 else 0 for i in correct]))\n",
        "\n",
        "\n",
        "#get accuracy if use mean as prediction\n",
        "\n",
        "preds_mean = [np.round(np.mean(x))]*len(x)\n",
        "correct = [preds_mean[i] if preds_mean[i] == x[i] else -1 for i in range(len(preds))]\n",
        "print(sum([1 if i != -1 else 0 for i in correct]))\n",
        "\n",
        "#get accuracy if use median as prediction\n",
        "preds_median = [np.round(np.median(x))]*len(x)\n",
        "correct = [preds_median[i] if preds_median[i] == x[i] else -1 for i in range(len(preds))]\n",
        "print(sum([1 if i != -1 else 0 for i in correct]))\n",
        "\n",
        "#get accuracy if use mode as prediction\n",
        "import scipy.stats as stats\n",
        "preds_mode = [stats.mode(x)[0][0]]*len(x)\n",
        "correct = [preds_mode[i] if preds_mode[i] == x[i] else -1 for i in range(len(preds))]\n",
        "print(sum([1 if i != -1 else 0 for i in correct]))\n",
        "\n",
        "print(len(preds))\n"
      ],
      "execution_count": null,
      "outputs": [
        {
          "output_type": "stream",
          "text": [
            "798\n",
            "812\n",
            "812\n",
            "812\n",
            "1481\n"
          ],
          "name": "stdout"
        }
      ]
    },
    {
      "cell_type": "code",
      "metadata": {
        "colab": {
          "base_uri": "https://localhost:8080/"
        },
        "id": "3ANs_-tQnHih",
        "outputId": "2a68bbbb-2069-42b0-d586-219c61230dd8"
      },
      "source": [
        "stats.mode(x)[0][0]"
      ],
      "execution_count": null,
      "outputs": [
        {
          "output_type": "execute_result",
          "data": {
            "text/plain": [
              "1"
            ]
          },
          "metadata": {
            "tags": []
          },
          "execution_count": 107
        }
      ]
    },
    {
      "cell_type": "code",
      "metadata": {
        "colab": {
          "base_uri": "https://localhost:8080/",
          "height": 999
        },
        "id": "MG-SMtxVqLUE",
        "outputId": "a42d5cc1-2265-4434-c1cd-497546a31d12"
      },
      "source": [
        "import matplotlib.pyplot as plt\n",
        "\n",
        "# Plot the training and validation loss vs. epochs\n",
        "print('Final accuracy of training data set: ' + str(hist.history['accuracy'][-1]))\n",
        "print('Final accuracy of validation data set: ' + str(hist.history['val_accuracy'][-1]))\n",
        "print()\n",
        "print('Final loss of training data set: ' + str(hist.history['loss'][-1]))\n",
        "print('Final loss of validation data set: ' + str(hist.history['val_loss'][-1]))\n",
        "print()\n",
        "print('Final AUC of training data set: ' + str(hist.history['auc'][-1]))\n",
        "print('Final AUC of validation data set: ' + str(hist.history['val_auc'][-1]))\n",
        "print()\n",
        "#plot model loss over training and val\n",
        "plot_loss = plt.figure(1)\n",
        "plt.plot(range(epochs), hist.history['loss'], label = 'training')\n",
        "plt.plot(range(epochs), hist.history['val_loss'], label = 'validation')\n",
        "plt.title('Training/Validation Loss over time')\n",
        "plt.legend()\n",
        "plt.ylabel('Loss')\n",
        "plt.xlabel('Epochs')\n",
        "\n",
        "#plot model accuracy over training and val\n",
        "plot_loss = plt.figure(2)\n",
        "plt.plot(range(epochs), hist.history['accuracy'], label = 'training')\n",
        "plt.plot(range(epochs), hist.history['val_accuracy'], label = 'validation')\n",
        "plt.title('Training/Validation Accuracy over time')\n",
        "plt.legend()\n",
        "plt.ylabel('Accuracy')\n",
        "plt.xlabel('Epochs')\n",
        "\n",
        "plot_loss = plt.figure(3)\n",
        "plt.plot(range(epochs), hist.history['auc'], label = 'training')\n",
        "plt.plot(range(epochs), hist.history['val_auc'], label = 'validation')\n",
        "plt.title('Training/Validation AUC over time')\n",
        "plt.legend()\n",
        "plt.ylabel('AUC')\n",
        "plt.xlabel('Epochs')\n",
        "\n",
        "plt.show()"
      ],
      "execution_count": null,
      "outputs": [
        {
          "output_type": "stream",
          "text": [
            "Final accuracy of training data set: 0.5432043075561523\n",
            "Final accuracy of validation data set: 0.5482782125473022\n",
            "\n",
            "Final loss of training data set: 0.6901344656944275\n",
            "Final loss of validation data set: 0.6877641081809998\n",
            "\n",
            "Final AUC of training data set: 0.5438740849494934\n",
            "Final AUC of validation data set: 0.54105544090271\n",
            "\n"
          ],
          "name": "stdout"
        },
        {
          "output_type": "display_data",
          "data": {
            "image/png": "[encoded data removed]",
            "text/plain": [
              "<Figure size 432x288 with 1 Axes>"
            ]
          },
          "metadata": {
            "tags": []
          }
        },
        {
          "output_type": "display_data",
          "data": {
            "image/png": "[encoded data removed]",
            "text/plain": [
              "<Figure size 432x288 with 1 Axes>"
            ]
          },
          "metadata": {
            "tags": []
          }
        },
        {
          "output_type": "display_data",
          "data": {
            "image/png": "[encoded data removed]",
            "text/plain": [
              "<Figure size 432x288 with 1 Axes>"
            ]
          },
          "metadata": {
            "tags": []
          }
        }
      ]
    },
    {
      "cell_type": "code",
      "metadata": {
        "id": "9XrHYnxH4k_7"
      },
      "source": [
        ""
      ],
      "execution_count": null,
      "outputs": []
    },
    {
      "cell_type": "code",
      "metadata": {
        "colab": {
          "base_uri": "https://localhost:8080/"
        },
        "id": "fOkeomc3hhBu",
        "outputId": "8612cf9e-73c5-454d-ded1-b7c9969507d1"
      },
      "source": [
        "import tensorflow.keras as K\n",
        "from tensorflow.keras.models import Sequential\n",
        "from tensorflow.keras.layers import Dense, Dropout, Activation\n",
        "from tensorflow.keras.optimizers import SGD\n",
        "\n",
        "epochs=5\n",
        "vocab_size = 10000\n",
        "embedding_dim = 100\n",
        "\n",
        "\n",
        "# build embedding + LSTM model with functional API\n",
        "input = K.Input(shape=(seq_len,), dtype='int32')\n",
        "\n",
        "weight = t_reps_word2vec\n",
        "x = K.layers.Embedding(input_dim = vocab_size, output_dim = embedding_dim, \n",
        "                       weights=[weight.detach().numpy()], name='embedding')(input)\n",
        "x = K.layers.Bidirectional(K.layers.LSTM(units = 128))(x)   #make bidirectional=True\n",
        "# x = K.layers.LSTM(units = 128) (x)\n",
        "x = K.layers.Dropout(rate=0.5)(x)\n",
        "\n",
        "\n",
        "x = K.layers.Dense(units=len(t_newbins), activation='softmax',  name='output_layer')(x)\n",
        "# x = K.layers.Dense(units=1, activation='sigmoid',  name='output_layer')(x)\n",
        "\n",
        "model = K.Model(inputs=input, outputs=x)\n",
        "model.summary()\n",
        "\n",
        "opt = Adam(learning_rate=.01)\n",
        "\n",
        "model.compile(optimizer=opt, \n",
        "              loss='categorical_crossentropy', #use mean squared error\n",
        "              metrics=['accuracy' #,'AUC'\n",
        "                       ])  #AUC, accuracy, loss\n",
        "\n",
        "#Evaluation\n",
        "from keras.callbacks import History \n",
        "history = History() #save model metrics and loss per epoch\n",
        "\n",
        "\n",
        "#train model\n",
        "hist = model.fit(x=t_train_padded, \n",
        "         y = newbinary_t_train_comments,\n",
        "         batch_size=32,\n",
        "         validation_data = (t_val_padded, newbinary_t_val_comments),\n",
        "         epochs=epochs,\n",
        "         callbacks=[history] ,\n",
        "         verbose=0\n",
        "         ) #do not print log of every epoch\n",
        "\n",
        "# model.save('gdrive/MyDrive/NLP_final_project/infertility_comments_classif_LSTM_001.pt')\n"
      ],
      "execution_count": null,
      "outputs": [
        {
          "output_type": "stream",
          "text": [
            "Model: \"model_28\"\n",
            "_________________________________________________________________\n",
            "Layer (type)                 Output Shape              Param #   \n",
            "=================================================================\n",
            "input_31 (InputLayer)        [(None, 512)]             0         \n",
            "_________________________________________________________________\n",
            "embedding (Embedding)        (None, 512, 100)          1000000   \n",
            "_________________________________________________________________\n",
            "bidirectional_29 (Bidirectio (None, 256)               234496    \n",
            "_________________________________________________________________\n",
            "dropout_29 (Dropout)         (None, 256)               0         \n",
            "_________________________________________________________________\n",
            "output_layer (Dense)         (None, 6)                 1542      \n",
            "=================================================================\n",
            "Total params: 1,236,038\n",
            "Trainable params: 1,236,038\n",
            "Non-trainable params: 0\n",
            "_________________________________________________________________\n"
          ],
          "name": "stdout"
        }
      ]
    },
    {
      "cell_type": "code",
      "metadata": {
        "colab": {
          "base_uri": "https://localhost:8080/",
          "height": 228
        },
        "id": "sk98zLvz404D",
        "outputId": "dbac2994-1d49-4bd2-b9ab-80998a05d4b7"
      },
      "source": [
        "import matplotlib.pyplot as plt\n",
        "\n",
        "\n",
        "## Multiclass\n",
        "\n",
        "# Plot the training and validation loss vs. epochs\n",
        "print('Final accuracy of training data set: ' + str(hist.history['accuracy'][-1]))\n",
        "print('Final accuracy of validation data set: ' + str(hist.history['val_accuracy'][-1]))\n",
        "print()\n",
        "print('Final loss of training data set: ' + str(hist.history['loss'][-1]))\n",
        "print('Final loss of validation data set: ' + str(hist.history['val_loss'][-1]))\n",
        "print()\n",
        "\n",
        "#plot model loss over training and val\n",
        "plot_loss = plt.figure(1)\n",
        "plt.plot(range(epochs), hist.history['loss'], label = 'training')\n",
        "plt.plot(range(epochs), hist.history['val_loss'], label = 'validation')\n",
        "plt.title('Training/Validation Loss over time')\n",
        "plt.legend()\n",
        "plt.ylabel('Loss')\n",
        "plt.xlabel('Epochs')\n",
        "\n",
        "#plot model accuracy over training and val\n",
        "plot_loss = plt.figure(2)\n",
        "plt.plot(range(epochs), hist.history['accuracy'], label = 'training')\n",
        "plt.plot(range(epochs), hist.history['val_accuracy'], label = 'validation')\n",
        "plt.title('Training/Validation Accuracy over time')\n",
        "plt.legend()\n",
        "plt.ylabel('Accuracy')\n",
        "plt.xlabel('Epochs')\n",
        "\n",
        "\n",
        "plt.show()\n"
      ],
      "execution_count": null,
      "outputs": [
        {
          "output_type": "error",
          "ename": "NameError",
          "evalue": "ignored",
          "traceback": [
            "\u001b[0;31m---------------------------------------------------------------------------\u001b[0m",
            "\u001b[0;31mNameError\u001b[0m                                 Traceback (most recent call last)",
            "\u001b[0;32m<ipython-input-1-ae4823d38506>\u001b[0m in \u001b[0;36m<module>\u001b[0;34m()\u001b[0m\n\u001b[1;32m      5\u001b[0m \u001b[0;34m\u001b[0m\u001b[0m\n\u001b[1;32m      6\u001b[0m \u001b[0;31m# Plot the training and validation loss vs. epochs\u001b[0m\u001b[0;34m\u001b[0m\u001b[0;34m\u001b[0m\u001b[0;34m\u001b[0m\u001b[0m\n\u001b[0;32m----> 7\u001b[0;31m \u001b[0mprint\u001b[0m\u001b[0;34m(\u001b[0m\u001b[0;34m'Final accuracy of training data set: '\u001b[0m \u001b[0;34m+\u001b[0m \u001b[0mstr\u001b[0m\u001b[0;34m(\u001b[0m\u001b[0mhist\u001b[0m\u001b[0;34m.\u001b[0m\u001b[0mhistory\u001b[0m\u001b[0;34m[\u001b[0m\u001b[0;34m'accuracy'\u001b[0m\u001b[0;34m]\u001b[0m\u001b[0;34m[\u001b[0m\u001b[0;34m-\u001b[0m\u001b[0;36m1\u001b[0m\u001b[0;34m]\u001b[0m\u001b[0;34m)\u001b[0m\u001b[0;34m)\u001b[0m\u001b[0;34m\u001b[0m\u001b[0;34m\u001b[0m\u001b[0m\n\u001b[0m\u001b[1;32m      8\u001b[0m \u001b[0mprint\u001b[0m\u001b[0;34m(\u001b[0m\u001b[0;34m'Final accuracy of validation data set: '\u001b[0m \u001b[0;34m+\u001b[0m \u001b[0mstr\u001b[0m\u001b[0;34m(\u001b[0m\u001b[0mhist\u001b[0m\u001b[0;34m.\u001b[0m\u001b[0mhistory\u001b[0m\u001b[0;34m[\u001b[0m\u001b[0;34m'val_accuracy'\u001b[0m\u001b[0;34m]\u001b[0m\u001b[0;34m[\u001b[0m\u001b[0;34m-\u001b[0m\u001b[0;36m1\u001b[0m\u001b[0;34m]\u001b[0m\u001b[0;34m)\u001b[0m\u001b[0;34m)\u001b[0m\u001b[0;34m\u001b[0m\u001b[0;34m\u001b[0m\u001b[0m\n\u001b[1;32m      9\u001b[0m \u001b[0mprint\u001b[0m\u001b[0;34m(\u001b[0m\u001b[0;34m)\u001b[0m\u001b[0;34m\u001b[0m\u001b[0;34m\u001b[0m\u001b[0m\n",
            "\u001b[0;31mNameError\u001b[0m: name 'hist' is not defined"
          ]
        }
      ]
    },
    {
      "cell_type": "code",
      "metadata": {
        "colab": {
          "base_uri": "https://localhost:8080/",
          "height": 228
        },
        "id": "CtsxgI1J3yA6",
        "outputId": "f30a99a3-595c-4c1e-e3c9-a2fa9abe3361"
      },
      "source": [
        "\n",
        "x=newbin_t_val_comments\n",
        "\n",
        "preds = model.predict(t_val_padded)\n",
        "non_binarized = label_transformer.inverse_transform(preds)\n",
        "print(non_binarized)\n",
        "\n",
        "correct = [non_binarized[i] if non_binarized[i] == x[i] else -1 for i in range(len(non_binarized))]\n",
        "print(sum([1 if i != -1 else 0 for i in correct]))\n",
        "\n",
        "\n",
        "#get accuracy if use mean as prediction\n",
        "\n",
        "preds_mean = [np.round(np.mean(x))]*len(x)\n",
        "correct = [preds_mean[i] if preds_mean[i] == x[i] else -1 for i in range(len(preds))]\n",
        "print(sum([1 if i != -1 else 0 for i in correct]))\n",
        "\n",
        "#get accuracy if use median as prediction\n",
        "preds_median = [np.round(np.median(x))]*len(x)\n",
        "correct = [preds_median[i] if preds_median[i] == x[i] else -1 for i in range(len(preds))]\n",
        "print(sum([1 if i != -1 else 0 for i in correct]))\n",
        "\n",
        "#get accuracy if use mode as prediction\n",
        "import scipy.stats as stats\n",
        "preds_mode = [stats.mode(x)[0][0]]*len(x)\n",
        "correct = [preds_mode[i] if preds_mode[i] == x[i] else -1 for i in range(len(preds))]\n",
        "print(sum([1 if i != -1 else 0 for i in correct]))\n",
        "\n",
        "print(len(preds))\n"
      ],
      "execution_count": null,
      "outputs": [
        {
          "output_type": "error",
          "ename": "NameError",
          "evalue": "ignored",
          "traceback": [
            "\u001b[0;31m---------------------------------------------------------------------------\u001b[0m",
            "\u001b[0;31mNameError\u001b[0m                                 Traceback (most recent call last)",
            "\u001b[0;32m<ipython-input-2-07913ff437bf>\u001b[0m in \u001b[0;36m<module>\u001b[0;34m()\u001b[0m\n\u001b[1;32m      1\u001b[0m \u001b[0;34m\u001b[0m\u001b[0m\n\u001b[0;32m----> 2\u001b[0;31m \u001b[0mx\u001b[0m\u001b[0;34m=\u001b[0m\u001b[0mnewbin_t_val_comments\u001b[0m\u001b[0;34m\u001b[0m\u001b[0;34m\u001b[0m\u001b[0m\n\u001b[0m\u001b[1;32m      3\u001b[0m \u001b[0;34m\u001b[0m\u001b[0m\n\u001b[1;32m      4\u001b[0m \u001b[0mpreds\u001b[0m \u001b[0;34m=\u001b[0m \u001b[0mmodel\u001b[0m\u001b[0;34m.\u001b[0m\u001b[0mpredict\u001b[0m\u001b[0;34m(\u001b[0m\u001b[0mt_val_padded\u001b[0m\u001b[0;34m)\u001b[0m\u001b[0;34m\u001b[0m\u001b[0;34m\u001b[0m\u001b[0m\n\u001b[1;32m      5\u001b[0m \u001b[0mnon_binarized\u001b[0m \u001b[0;34m=\u001b[0m \u001b[0mlabel_transformer\u001b[0m\u001b[0;34m.\u001b[0m\u001b[0minverse_transform\u001b[0m\u001b[0;34m(\u001b[0m\u001b[0mpreds\u001b[0m\u001b[0;34m)\u001b[0m\u001b[0;34m\u001b[0m\u001b[0;34m\u001b[0m\u001b[0m\n",
            "\u001b[0;31mNameError\u001b[0m: name 'newbin_t_val_comments' is not defined"
          ]
        }
      ]
    },
    {
      "cell_type": "code",
      "metadata": {
        "id": "pLnSxvHYEluV"
      },
      "source": [
        ""
      ],
      "execution_count": null,
      "outputs": []
    }
  ]
}